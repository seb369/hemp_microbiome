{
 "cells": [
  {
   "cell_type": "markdown",
   "metadata": {},
   "source": [
    "# Description\n",
    "\n",
    "* This is the one used\n"
   ]
  },
  {
   "cell_type": "markdown",
   "metadata": {},
   "source": [
    "# Setting variables"
   ]
  },
  {
   "cell_type": "code",
   "execution_count": 1,
   "metadata": {
    "collapsed": true
   },
   "outputs": [],
   "source": [
    "import os\n",
    "\n",
    "## What is the base directory?\n",
    "baseDir = '/home/sam/notebooks/hemp_microbiome/data/ITS_OTUs/'\n",
    "## What directory do you want to work in and keep all subsequent files in?\n",
    "workDir = os.path.join(baseDir, \"OTU_binning\")\n",
    "\n",
    "\n",
    "## Where is your final QC'ed and ITSxed sequence fasta file?\n",
    "#qcFinal = os.path.join(workDir, 'QC', 'ITSx', 'main.rename.fasta')\n",
    "qcFinal = os.path.join(baseDir, 'QC', 'finalQC.fasta')\n",
    "\n",
    "## What database do you want to use for UCHIME chimera filtering?\n",
    "UC_db = '/home/sam/databases/UNITE/uchime_reference_dataset_28.06.2017/ITS1_ITS2_datasets/uchime_reference_dataset_ITS1_28.06.2017.fasta'\n",
    "\n",
    "## What database do you want to base your taxonomy on when using USEARCH SINTAX?\n",
    "#US_dbDir = '~/databases/UNITE/utax_reference_dataset_01.12.2017.fasta'\n",
    "#US_dbSeqs = os.path.join(US_dbDir, 'refdb.udb')\n",
    "US_dbDir = '/home/sam/databases/UNITE/sintaxDB'\n",
    "US_dbSeqs = os.path.join(US_dbDir, 'utax_reference_dataset_01.12.2017.fasta')\n",
    "\n",
    "nprocs = 10"
   ]
  },
  {
   "cell_type": "markdown",
   "metadata": {},
   "source": [
    "# Init"
   ]
  },
  {
   "cell_type": "code",
   "execution_count": 2,
   "metadata": {
    "collapsed": false
   },
   "outputs": [],
   "source": [
    "import sys\n",
    "import glob\n",
    "import pandas as pd\n",
    "from Bio import SeqIO\n",
    "import multiprocessing\n",
    "import uuid\n",
    "%load_ext rpy2.ipython\n"
   ]
  },
  {
   "cell_type": "code",
   "execution_count": 3,
   "metadata": {
    "collapsed": false
   },
   "outputs": [
    {
     "name": "stderr",
     "output_type": "stream",
     "text": [
      "/home/sam/anaconda3/lib/python3.6/site-packages/rpy2/rinterface/__init__.py:145: RRuntimeWarning: \n",
      "Attaching package: ‘dplyr’\n",
      "\n",
      "\n",
      "  warnings.warn(x, RRuntimeWarning)\n",
      "/home/sam/anaconda3/lib/python3.6/site-packages/rpy2/rinterface/__init__.py:145: RRuntimeWarning: The following objects are masked from ‘package:stats’:\n",
      "\n",
      "    filter, lag\n",
      "\n",
      "\n",
      "  warnings.warn(x, RRuntimeWarning)\n",
      "/home/sam/anaconda3/lib/python3.6/site-packages/rpy2/rinterface/__init__.py:145: RRuntimeWarning: The following objects are masked from ‘package:base’:\n",
      "\n",
      "    intersect, setdiff, setequal, union\n",
      "\n",
      "\n",
      "  warnings.warn(x, RRuntimeWarning)\n",
      "/home/sam/anaconda3/lib/python3.6/site-packages/rpy2/rinterface/__init__.py:145: RRuntimeWarning: \n",
      "Attaching package: ‘gridExtra’\n",
      "\n",
      "\n",
      "  warnings.warn(x, RRuntimeWarning)\n",
      "/home/sam/anaconda3/lib/python3.6/site-packages/rpy2/rinterface/__init__.py:145: RRuntimeWarning: The following object is masked from ‘package:dplyr’:\n",
      "\n",
      "    combine\n",
      "\n",
      "\n",
      "  warnings.warn(x, RRuntimeWarning)\n"
     ]
    }
   ],
   "source": [
    "%%R\n",
    "library(ggplot2)\n",
    "library(dplyr)\n",
    "library(tidyr)\n",
    "library(gridExtra)"
   ]
  },
  {
   "cell_type": "code",
   "execution_count": 4,
   "metadata": {
    "collapsed": false
   },
   "outputs": [
    {
     "name": "stdout",
     "output_type": "stream",
     "text": [
      "/home/sam/notebooks/hemp_microbiome/data/ITS_OTUs/OTU_binning\n"
     ]
    }
   ],
   "source": [
    "if not os.path.isdir(workDir):\n",
    "    print (\"Working directory does not exist. Making it now\")\n",
    "    os.makedirs(workDir)\n",
    "\n",
    "%cd $workDir"
   ]
  },
  {
   "cell_type": "markdown",
   "metadata": {},
   "source": [
    "### Symlinking qc'ed seq file"
   ]
  },
  {
   "cell_type": "code",
   "execution_count": 5,
   "metadata": {
    "collapsed": false
   },
   "outputs": [],
   "source": [
    "!ln -s $qcFinal ."
   ]
  },
  {
   "cell_type": "code",
   "execution_count": 6,
   "metadata": {
    "collapsed": false
   },
   "outputs": [
    {
     "name": "stdout",
     "output_type": "stream",
     "text": [
      "lrwxrwxrwx 1 sam sam 66 May 29 10:20 finalQC.fasta -> /home/sam/notebooks/hemp_microbiome/data/ITS_OTUs/QC/finalQC.fasta\r\n"
     ]
    }
   ],
   "source": [
    "qcFinal = os.path.split(qcFinal)[1]\n",
    "!ls -thlc $qcFinal"
   ]
  },
  {
   "cell_type": "markdown",
   "metadata": {},
   "source": [
    "# Full Derepication sequences"
   ]
  },
  {
   "cell_type": "code",
   "execution_count": 7,
   "metadata": {
    "collapsed": false
   },
   "outputs": [
    {
     "name": "stdout",
     "output_type": "stream",
     "text": [
      "vsearch v2.3.4_linux_x86_64, 125.8GB RAM, 40 cores\n",
      "https://github.com/torognes/vsearch\n",
      "\n",
      "Reading file finalQC.fasta 100%                                                                                                                                                                                                                                                                                    \n",
      "2531893124 nt in 10252187 seqs, min 50, max 432, avg 247\n",
      "Dereplicating 100%                                                                                                                                                                                                                                      \n",
      "Sorting 100%\n",
      "1147070 unique sequences, avg cluster 8.9, median 1, max 4768318\n",
      "Writing output file 100%      \n",
      "Writing uc file, first part 100%                                \n",
      "Writing uc file, second part 100%                \n",
      "150007 uniques written, 997063 clusters discarded (86.9%)\n"
     ]
    }
   ],
   "source": [
    "FullDerepFile = os.path.splitext(qcFinal)[0] + '.unique.fasta'\n",
    "FullDerepUC = os.path.splitext(qcFinal)[0] + '.unique.uc'\n",
    "\n",
    "!vsearch --threads $nprocs \\\n",
    "    --derep_fulllength $qcFinal \\\n",
    "    --minuniquesize 2 \\\n",
    "    --sizein \\\n",
    "    --sizeout \\\n",
    "    --fasta_width 0 \\\n",
    "    --uc $FullDerepUC \\\n",
    "    --output $FullDerepFile"
   ]
  },
  {
   "cell_type": "code",
   "execution_count": 8,
   "metadata": {
    "collapsed": false
   },
   "outputs": [
    {
     "name": "stdout",
     "output_type": "stream",
     "text": [
      "Number of unique sequences: 150007\n"
     ]
    }
   ],
   "source": [
    "ret = !grep -c \">\" $FullDerepFile\n",
    "print ('Number of unique sequences: {}'.format(ret[0]))"
   ]
  },
  {
   "cell_type": "code",
   "execution_count": 10,
   "metadata": {
    "collapsed": false,
    "scrolled": true
   },
   "outputs": [
    {
     "name": "stdout",
     "output_type": "stream",
     "text": [
      ">2-3-L_4;size=4768318;\r\n",
      "TTGTCGAAACCTGCAACAGCAGAACGACCCGTGAACACGTTTTAAACAGCTTGGGCGGGCGAGAGGAGCTTGCTCCTTGGACCCGCCCGCACCTGCTGGGAGAAATCTCGGCGGGCTAACGAACCCCGGCGCAATCTGCGCCAAGGAACAATAAAAGATTATCGCGTGGCTCGTGCGGTGGCCCGGAGACGGTGTCCGCCAATCGAGATGCGTGTTTATCGAAATGTCTAAACGACTCTCGGCAACGGATATCTCGGCTCTCGC\r\n",
      ">4-1-RS_39;size=379484;\r\n",
      "TTGTCGAAACCTGCAACAGCAGAACGACCCGTGAACACGTTTTAAACAGCTTGGGCGGGCGAGAGGAGCTTGCTCCTTGGACCCGCCCGCACCTGCTGGGAGAAATCTCGGCGGGCTAACGAACCCCGGCGCAATCTGCGCCAAGGATCAATAAAAGATTATCGCGTGGCTCGTGCGGTGGCCCGGAGACGGTGTCCGCCAATCGAGATGCGTGTTTATCGAAATGTCTAAACGACTCTCGGCAACGGATATCTCGGCTCTCGC\r\n",
      ">1-4-RS_84;size=298542;\r\n",
      "TTGTCGAAACCTGCAACAGCAGAACGACCCGTGAACACGTTTTAAACAGCTTGGGCGGGCGAGAGGAGCTTGCTCCTTGGACCCGCCCGCACCTGCTGGGAGAAATCTCGGCGGGCTAACGAACCCCGGCGCAATCTGCGCCAAGGAACAATAAAAGATTATCGCGTGGCTCGTGCGGTGGCCCGGAGACGGTGTCCGCCAAGCGAGATGCGTGTTTATCGAAATGTCTAAACGACTCTCGGCAACGGATATCTCGGCTCTCGC\r\n",
      ">F3-2_78;size=138547;\r\n",
      "TTGTCGAAACCTGCAACAGCAGAACGACCCGTGAACACGTTTTAAACAGCTTGGGCGGGCGAGAGGAGCTTGCTCCTTGGACCCGCCCGCACCTGCTGGGAGAAATCTCGGCGGGCTAACGAACCCCGGCGCAATCTGCGCCAAGGAACAATAAAAGATTATCGCGTGGCTCGTGCGGTGGCCCGAAGACGGTGTCCGCCAATCGAGATGCGTGTTTATCGAAATGTCTAAACGACTCTCGGCAACGGATATCTCGGCTCTCGC\r\n",
      ">3-4-L_689;size=115378;\r\n",
      "TTAGTGAATACACCGGGGAACCCACTCTGTGGGCCCCAACCCTTCACCATATCCTCACACCTGTGCACCGCTGGTAGATGCCGCTGTACTTCGGTACGGTTTGCAGCTGCTGGCAACCTATACACACACACCTGAGTTCTATGAATGTTAATTTTACTTGCCTTCGGGCAGAACTAAAATACAACTTTTGACAACGGATCTCTTGGTTCTCCC\r\n"
     ]
    }
   ],
   "source": [
    "!head -n 10 $FullDerepFile"
   ]
  },
  {
   "cell_type": "code",
   "execution_count": 12,
   "metadata": {
    "collapsed": false
   },
   "outputs": [
    {
     "name": "stdout",
     "output_type": "stream",
     "text": [
      "S\t0\t264\t*\t*\t*\t*\t*\t2-3-L_4\t*\r\n",
      "H\t0\t264\t100.0\t+\t0\t0\t*\t3-1-RT_27\t2-3-L_4\r\n",
      "H\t0\t264\t100.0\t+\t0\t0\t*\t1-5-L_45\t2-3-L_4\r\n",
      "H\t0\t264\t100.0\t+\t0\t0\t*\t4-1-RT_49\t2-3-L_4\r\n",
      "H\t0\t264\t100.0\t+\t0\t0\t*\t4-5-F_57\t2-3-L_4\r\n",
      "H\t0\t264\t100.0\t+\t0\t0\t*\t3-4-F_60\t2-3-L_4\r\n",
      "H\t0\t264\t100.0\t+\t0\t0\t*\t3-5-F_63\t2-3-L_4\r\n",
      "H\t0\t264\t100.0\t+\t0\t0\t*\t3-1-F_64\t2-3-L_4\r\n",
      "H\t0\t264\t100.0\t+\t0\t0\t*\t4-4-RT_70\t2-3-L_4\r\n",
      "H\t0\t264\t100.0\t+\t0\t0\t*\t5-2-L_75\t2-3-L_4\r\n"
     ]
    }
   ],
   "source": [
    "!head -n 10 $FullDerepUC"
   ]
  },
  {
   "cell_type": "markdown",
   "metadata": {},
   "source": [
    "# Keep just ITS1 region\n",
    "This removes mainly part of the 5.8S"
   ]
  },
  {
   "cell_type": "code",
   "execution_count": 13,
   "metadata": {
    "collapsed": true
   },
   "outputs": [],
   "source": [
    "def ITSx_func(filename):\n",
    "    workername = str(multiprocessing.Process())\n",
    "    workername = str(uuid.uuid3(uuid.NAMESPACE_DNS, workername))\n",
    "    ITS1_file = workername + '.ITS1.partial_output.fasta'\n",
    "    noDet_file = workername + '.no_detections.partial_output.fasta'\n",
    "    subfastafile = workername + '.sub.fasta'\n",
    "    ITSx_output = workername + '.ITSx_output'\n",
    "    ITSx_output_ITS1 = ITSx_output + '.ITS1.fasta'\n",
    "    ITSx_output_noDet = ITSx_output + '_no_detections.fasta'\n",
    "    remove_output = ITSx_output + '*'\n",
    "    \n",
    "    !touch $ITS1_file\n",
    "    !touch $noDet_file\n",
    "    \n",
    "    fasta_sequences = SeqIO.parse(open(filename),'fasta')\n",
    "    for fasta in fasta_sequences:\n",
    "        SeqIO.write(fasta, subfastafile, \"fasta\")\n",
    "        !ITSx -i $subfastafile \\\n",
    "            -o $ITSx_output \\\n",
    "            --save_regions ITS1 \\\n",
    "            --cpu 1 \\\n",
    "            --preserve T \\\n",
    "            --reset F \\\n",
    "            -t all \\\n",
    "            --heuristics \\\n",
    "            --table F \\\n",
    "            --silent T \\\n",
    "            --detailed_results F \\\n",
    "            --graphical F\n",
    "        !cat $ITSx_output_ITS1 >> $ITS1_file\n",
    "        !cat $ITSx_output_noDet >> $noDet_file\n",
    "        !rm $remove_output\n",
    "        !rm $subfastafile"
   ]
  },
  {
   "cell_type": "code",
   "execution_count": 14,
   "metadata": {
    "collapsed": false
   },
   "outputs": [
    {
     "name": "stdout",
     "output_type": "stream",
     "text": [
      "ITSx directory does not exist. Making it now\n",
      "/home/sam/notebooks/hemp_microbiome/data/ITS_OTUs/OTU_binning/ITSx_output\n"
     ]
    }
   ],
   "source": [
    "ITSxdir = os.path.join(workDir, \"ITSx_output\")\n",
    "\n",
    "if not os.path.isdir(ITSxdir):\n",
    "    print (\"ITSx directory does not exist. Making it now\")\n",
    "    os.makedirs(ITSxdir)\n",
    "\n",
    "%cd $ITSxdir"
   ]
  },
  {
   "cell_type": "code",
   "execution_count": 16,
   "metadata": {
    "collapsed": false
   },
   "outputs": [
    {
     "name": "stdout",
     "output_type": "stream",
     "text": [
      "/home/sam/notebooks/hemp_microbiome/data/ITS_OTUs/OTU_binning/finalQC.unique.fasta: 150007 sequences, 33210565 bp => dividing into 10 parts .......... OK\n",
      "All done, 2 seconds elapsed\n"
     ]
    }
   ],
   "source": [
    "FullDerepFile = os.path.join(workDir, FullDerepFile)\n",
    "!fasta-splitter.pl \\\n",
    "    --n-parts $nprocs \\\n",
    "    $FullDerepFile\n",
    "    \n"
   ]
  },
  {
   "cell_type": "code",
   "execution_count": null,
   "metadata": {
    "collapsed": false
   },
   "outputs": [
    {
     "name": "stdout",
     "output_type": "stream",
     "text": [
      "ITSx -- Identifies ITS sequences and extracts the ITS region\n",
      "by Johan Bengtsson-Palme et al., University of Gothenburg\n",
      "Version: 1.1b1\n",
      "-----------------------------------------------------------------\n",
      "ITSx -- Identifies ITS sequences and extracts the ITS region\n",
      "by Johan Bengtsson-Palme et al., University of Gothenburg\n",
      "Version: 1.1b1\n",
      "-----------------------------------------------------------------\n",
      "ITSx -- Identifies ITS sequences and extracts the ITS region\n",
      "by Johan Bengtsson-Palme et al., University of Gothenburg\n",
      "Version: 1.1b1\n",
      "-----------------------------------------------------------------\n",
      "ITSx -- Identifies ITS sequences and extracts the ITS region\n",
      "by Johan Bengtsson-Palme et al., University of Gothenburg\n",
      "Version: 1.1b1\n",
      "-----------------------------------------------------------------\n",
      "ITSx -- Identifies ITS sequences and extracts the ITS region\n",
      "by Johan Bengtsson-Palme et al., University of Gothenburg\n",
      "Version: 1.1b1\n",
      "-----------------------------------------------------------------\n",
      "ITSx -- Identifies ITS sequences and extracts the ITS region\n",
      "by Johan Bengtsson-Palme et al., University of Gothenburg\n",
      "Version: 1.1b1\n",
      "-----------------------------------------------------------------\n",
      "ITSx -- Identifies ITS sequences and extracts the ITS region\n",
      "by Johan Bengtsson-Palme et al., University of Gothenburg\n",
      "Version: 1.1b1\n",
      "-----------------------------------------------------------------\n",
      "ITSx -- Identifies ITS sequences and extracts the ITS region\n",
      "by Johan Bengtsson-Palme et al., University of Gothenburg\n",
      "Version: 1.1b1\n",
      "-----------------------------------------------------------------\n",
      "ITSx -- Identifies ITS sequences and extracts the ITS region\n",
      "by Johan Bengtsson-Palme et al., University of Gothenburg\n",
      "Version: 1.1b1\n",
      "-----------------------------------------------------------------\n",
      "ITSx -- Identifies ITS sequences and extracts the ITS region\n",
      "by Johan Bengtsson-Palme et al., University of Gothenburg\n",
      "Version: 1.1b1\n",
      "-----------------------------------------------------------------\n",
      "ITSx -- Identifies ITS sequences and extracts the ITS region\n",
      "by Johan Bengtsson-Palme et al., University of Gothenburg\n",
      "Version: 1.1b1\n",
      "-----------------------------------------------------------------\n",
      "ITSx -- Identifies ITS sequences and extracts the ITS region\n",
      "by Johan Bengtsson-Palme et al., University of Gothenburg\n",
      "Version: 1.1b1\n",
      "-----------------------------------------------------------------\n",
      "ITSx -- Identifies ITS sequences and extracts the ITS region\n",
      "by Johan Bengtsson-Palme et al., University of Gothenburg\n",
      "Version: 1.1b1\n",
      "-----------------------------------------------------------------\n",
      "ITSx -- Identifies ITS sequences and extracts the ITS region\n",
      "by Johan Bengtsson-Palme et al., University of Gothenburg\n",
      "Version: 1.1b1\n",
      "-----------------------------------------------------------------\n",
      "ITSx -- Identifies ITS sequences and extracts the ITS region\n",
      "by Johan Bengtsson-Palme et al., University of Gothenburg\n",
      "Version: 1.1b1\n",
      "-----------------------------------------------------------------\n",
      "ITSx -- Identifies ITS sequences and extracts the ITS region\n",
      "by Johan Bengtsson-Palme et al., University of Gothenburg\n",
      "Version: 1.1b1\n",
      "-----------------------------------------------------------------\n",
      "ITSx -- Identifies ITS sequences and extracts the ITS region\n",
      "by Johan Bengtsson-Palme et al., University of Gothenburg\n",
      "Version: 1.1b1\n",
      "-----------------------------------------------------------------\n",
      "ITSx -- Identifies ITS sequences and extracts the ITS region\n",
      "by Johan Bengtsson-Palme et al., University of Gothenburg\n",
      "Version: 1.1b1\n",
      "-----------------------------------------------------------------\n",
      "ITSx -- Identifies ITS sequences and extracts the ITS region\n",
      "by Johan Bengtsson-Palme et al., University of Gothenburg\n",
      "Version: 1.1b1\n",
      "-----------------------------------------------------------------\n",
      "ITSx -- Identifies ITS sequences and extracts the ITS region\n",
      "by Johan Bengtsson-Palme et al., University of Gothenburg\n",
      "Version: 1.1b1\n",
      "-----------------------------------------------------------------\n",
      "ITSx -- Identifies ITS sequences and extracts the ITS region\n",
      "by Johan Bengtsson-Palme et al., University of Gothenburg\n",
      "Version: 1.1b1\n",
      "-----------------------------------------------------------------\n",
      "ITSx -- Identifies ITS sequences and extracts the ITS region\n",
      "by Johan Bengtsson-Palme et al., University of Gothenburg\n",
      "Version: 1.1b1\n",
      "-----------------------------------------------------------------\n",
      "ITSx -- Identifies ITS sequences and extracts the ITS region\n",
      "by Johan Bengtsson-Palme et al., University of Gothenburg\n",
      "Version: 1.1b1\n",
      "-----------------------------------------------------------------\n",
      "ITSx -- Identifies ITS sequences and extracts the ITS region\n",
      "by Johan Bengtsson-Palme et al., University of Gothenburg\n",
      "Version: 1.1b1\n",
      "-----------------------------------------------------------------\n",
      "ITSx -- Identifies ITS sequences and extracts the ITS region\n",
      "by Johan Bengtsson-Palme et al., University of Gothenburg\n",
      "Version: 1.1b1\n",
      "-----------------------------------------------------------------\n",
      "ITSx -- Identifies ITS sequences and extracts the ITS region\n",
      "by Johan Bengtsson-Palme et al., University of Gothenburg\n",
      "Version: 1.1b1\n",
      "-----------------------------------------------------------------\n",
      "ITSx -- Identifies ITS sequences and extracts the ITS region\n",
      "by Johan Bengtsson-Palme et al., University of Gothenburg\n",
      "Version: 1.1b1\n",
      "-----------------------------------------------------------------\n",
      "ITSx -- Identifies ITS sequences and extracts the ITS region\n",
      "by Johan Bengtsson-Palme et al., University of Gothenburg\n",
      "Version: 1.1b1\n",
      "-----------------------------------------------------------------\n",
      "ITSx -- Identifies ITS sequences and extracts the ITS region\n",
      "by Johan Bengtsson-Palme et al., University of Gothenburg\n",
      "Version: 1.1b1\n",
      "-----------------------------------------------------------------\n",
      "ITSx -- Identifies ITS sequences and extracts the ITS region\n",
      "by Johan Bengtsson-Palme et al., University of Gothenburg\n",
      "Version: 1.1b1\n",
      "-----------------------------------------------------------------\n"
     ]
    }
   ],
   "source": [
    "partialfastalist = [f for f in os.listdir(ITSxdir) if 'finalQC.unique.part-' in f]\n",
    "\n",
    "\n",
    "pool = multiprocessing.Pool(processes=nprocs)\n",
    "\n",
    "if __name__ == '__main__':\n",
    "    # calculate the chunk size as an integer\n",
    "    pool.map(ITSx_func, partialfastalist)\n",
    "    pool.close()\n",
    "    pool.terminate()\n",
    "    pool.join()\n"
   ]
  },
  {
   "cell_type": "code",
   "execution_count": 18,
   "metadata": {
    "collapsed": false
   },
   "outputs": [],
   "source": [
    "!cat *.no_detections.partial_output.fasta > no_ITS_detections.fasta\n",
    "!cat *.ITS1.partial_output.fasta > ITS1_sequences.fasta"
   ]
  },
  {
   "cell_type": "code",
   "execution_count": 35,
   "metadata": {
    "collapsed": false
   },
   "outputs": [],
   "source": [
    "#!rm *.no_detections.partial_output.fasta\n",
    "#!rm *.ITS1.partial_output.fasta"
   ]
  },
  {
   "cell_type": "code",
   "execution_count": 19,
   "metadata": {
    "collapsed": false
   },
   "outputs": [
    {
     "name": "stdout",
     "output_type": "stream",
     "text": [
      "126245\r\n"
     ]
    }
   ],
   "source": [
    "!grep -c \">\" ITS1_sequences.fasta"
   ]
  },
  {
   "cell_type": "code",
   "execution_count": 20,
   "metadata": {
    "collapsed": false
   },
   "outputs": [
    {
     "name": "stdout",
     "output_type": "stream",
     "text": [
      ">4-1-L_6689723;size=2;\r\n",
      "TTACCTAGAGTTGTAGGCTTTGCCTGCTATCTCTTACCCATGTCTTTTGAGTACCTTCGTTTCCTCGGCGGGTCCGCCCGCCGATTGGACAATTTAAACCATTTGCAGTTGCAATCAGCGTCTGAGAAAACTCAATAGTTA\r\n",
      ">4-1-L_6710936;size=2;\r\n",
      "TTGTCGAAACCTGCAACAGCAAAACGACCCGTGAACACGTTTTAAACAGCTTGGGCGGGCGAGAGGAGCTTGCTCCTTGGACCCGCCCGCACCTGCTGGGAGAAATCTCGGCGGGCTAATGAACCCCGGCGCAATCTGCGCCAAGGAACAATAAAAGATTATCGCGTGGCTCGTGCGGTGGCCCGGAGACGGTGTCCGCCAATCGAGATGCGTGTTTATCGAAATGTCTAAA\r\n",
      ">4-1-L_672628;size=2;\r\n",
      "TTACCTAGAGTTTGTGGACTTCGGTCTGCTACCTCTTACCCATGTCTTTTGAGTACCTTCGTCTCCTCGGCGGGTCCGCCCGCCGATTGGACAACATTCAAACCCTTTGCAGTTGCAATCAGCGTCTGAAAAAACATAATAGTTA\r\n",
      ">4-1-L_685618;size=2;\r\n",
      "TTGTCGAAACATGCAACAGCATAACGACCCGTGAACACGTTTTAAACAGCTTGGGCGGGCGAGAGGAGCTTGCTCCTTGGACCCGCCCGCACCTGCTGGGAGAAATCTCGGCGGGCTAACGAACCCCGGCGCAATCTGCGCCAAGGATCAATAAAAGATTATCGCGTGGCTCGTGCGGTGGCCCGGAGACGGTGTCCGCCAATCGAGATGCGTGTTTATCGAAATGTCTAAA\r\n",
      ">4-1-L_6884476;size=2;\r\n",
      "TTACACAAATATGCAGGCGGGCTGGAACCCCTCGGGGTTACAGCCTTGCTGAATTATTCACCCTTGTCTTTTGCGTACTTCTTGTTTCCTTGGTGGGTTCGCCCACCACTAGGACAAACATAAACCTTTTGTAATTGCAATCAGCGTCAGTAACAAATTAATAATTA\r\n"
     ]
    }
   ],
   "source": [
    "!head ITS1_sequences.fasta"
   ]
  },
  {
   "cell_type": "code",
   "execution_count": null,
   "metadata": {
    "collapsed": true
   },
   "outputs": [],
   "source": []
  },
  {
   "cell_type": "markdown",
   "metadata": {},
   "source": [
    "# Add N's to the end of the sequence for help with clustering"
   ]
  },
  {
   "cell_type": "code",
   "execution_count": 21,
   "metadata": {
    "collapsed": false
   },
   "outputs": [
    {
     "name": "stdout",
     "output_type": "stream",
     "text": [
      "/home/sam/notebooks/hemp_microbiome/data/ITS_OTUs/OTU_binning\n"
     ]
    }
   ],
   "source": [
    "%cd $workDir"
   ]
  },
  {
   "cell_type": "code",
   "execution_count": 22,
   "metadata": {
    "collapsed": true
   },
   "outputs": [],
   "source": [
    "ITSx_final = os.path.join(ITSxdir, 'ITS1_sequences.fasta')"
   ]
  },
  {
   "cell_type": "code",
   "execution_count": 23,
   "metadata": {
    "collapsed": true
   },
   "outputs": [],
   "source": [
    "!python2 /home/sam/repo/ITS_trim.py \\\n",
    "    -F $ITSx_final \\\n",
    "    -d $workDir \\\n",
    "    -f fasta\n"
   ]
  },
  {
   "cell_type": "markdown",
   "metadata": {},
   "source": [
    "# Precluster sequences at 98%"
   ]
  },
  {
   "cell_type": "code",
   "execution_count": 24,
   "metadata": {
    "collapsed": true
   },
   "outputs": [],
   "source": [
    "trimmedUniqITSx = os.path.join(workDir, 'globtrim.fasta')"
   ]
  },
  {
   "cell_type": "code",
   "execution_count": 25,
   "metadata": {
    "collapsed": false
   },
   "outputs": [
    {
     "name": "stdout",
     "output_type": "stream",
     "text": [
      "vsearch v2.3.4_linux_x86_64, 125.8GB RAM, 40 cores\n",
      "https://github.com/torognes/vsearch\n",
      "\n",
      "Reading file /home/sam/notebooks/hemp_microbiome/data/ITS_OTUs/OTU_binning/globtrim.fasta 100%               \n",
      "45069465 nt in 126245 seqs, min 357, max 357, avg 357\n",
      "Masking 100%                                            \n",
      "Sorting by abundance 100%\n",
      "Counting unique k-mers 100%       \n",
      "Clustering 100%                                                                                                                                                                                                                                                                                                                                                                                                          \n",
      "Sorting clusters 100%\n",
      "Writing clusters 100%   \n",
      "Clusters: 4219 Size min 2, max 7590187, avg 29.9\n",
      "Singletons: 0, 0.0% of seqs, 0.0% of clusters\n"
     ]
    }
   ],
   "source": [
    "qcFinalUniqPreC = os.path.splitext(qcFinal)[0] + '.preclustered.fasta'\n",
    "PreCucfile = os.path.splitext(qcFinal)[0] + '.preclustered.uc'\n",
    "\n",
    "!vsearch --threads $nprocs\\\n",
    "    --cluster_size $trimmedUniqITSx \\\n",
    "    --id 0.98 \\\n",
    "    --strand plus \\\n",
    "    --sizein \\\n",
    "    --sizeout \\\n",
    "    --fasta_width 0 \\\n",
    "    --uc $PreCucfile \\\n",
    "    --centroids $qcFinalUniqPreC"
   ]
  },
  {
   "cell_type": "code",
   "execution_count": 26,
   "metadata": {
    "collapsed": false
   },
   "outputs": [
    {
     "name": "stdout",
     "output_type": "stream",
     "text": [
      "Number of 98% clustered sequences: 4219\n"
     ]
    }
   ],
   "source": [
    "ret = !grep -c \">\" $qcFinalUniqPreC\n",
    "print ('Number of 98% clustered sequences: {}'.format(ret[0]))"
   ]
  },
  {
   "cell_type": "code",
   "execution_count": 27,
   "metadata": {
    "collapsed": false
   },
   "outputs": [
    {
     "name": "stdout",
     "output_type": "stream",
     "text": [
      ">M5-1_3044292;size=2;\r\n",
      "TTACAGAGCGAGAGGCTCAGCCATGACGGTAGTCGTGTGCTGGGTCGACCCTCCCACCCGTGTCGATATGTATTTTGTTGCTTTGGCGGGCCGGGTTTGCGCCCCGTTCGGCGTCCGCTGTGGCGCTGGGGGAGCCGCCCACCGGCTTCGGCTGGAGCGTGCCCGCCAGAGACCTCATCCAAACTCACGTTGTCATGTAGTCTAAGCTTTATTAAGTAATTGATannnnnnnnnnnnnnnnnnnnnnnnnnnnnnnnnnnnnnnnnnnnnnnnnnnnnnnnnnnnnnnnnnnnnnnnnnnnnnnnnnnnnnnnnnnnnnnnnnnnnnnnnnnnnnnnnnnnnnnnnnnnnnnnnnnn\r\n",
      ">M5-2_10323638;size=4;\r\n",
      "TTATTGAATGTATTTGCAAGTTGGTTGTAGCTGGCTCTTCGGAGTAATGTGCTCGCCACTTGTCTCTACTACTTTTCCACCTGTGAACCTTTGTAGATCACGAATGAACTCTCGCCTGAAAATGGCGGTTTGAGGGACTTGTCCCTTGATAGTTCGTGGTCTATGTTTTATAATCTACTCTATGTTTGTCTTTGAATGTCTTTTTAAATGGTCTTTGACCTTTAAATACTATannnnnnnnnnnnnnnnnnnnnnnnnnnnnnnnnnnnnnnnnnnnnnnnnnnnnnnnnnnnnnnnnnnnnnnnnnnnnnnnnnnnnnnnnnnnnnnnnnnnnnnnnnnnnnnnnnnnnnnnnnnn\r\n",
      ">M5-2_626442;size=2;\r\n",
      "TTACAGAGTTTAACGACTCCCAAACCACTGTGAACATACCCGTACCGTTGCCTCGGCGGGCGGCCCCAGGGCGGGGCCGCAGCCTCCCCAGCGGAGGCGCCCGCCGCAGGTCGCAAAACTATAACTATATTTAGTGGCATCTCTGAGTAACTTCCAAACAATCannnnnnnnnnnnnnnnnnnnnnnnnnnnnnnnnnnnnnnnnnnnnnnnnnnnnnnnnnnnnnnnnnnnnnnnnnnnnnnnnnnnnnnnnnnnnnnnnnnnnnnnnnnnnnnnnnnnnnnnnnnnnnnnnnnnnnnnnnnnnnnnnnnnnnnnnnnnnnnnnnnnnnnnnnnnnnnnnnnnnnnnnnnnnnnnn\r\n",
      ">M5-3_5316707;size=4;\r\n",
      "TTACAGAGTTATCTAACTCCCAAACCCATGTGAACTTACCTATGTTGCCTCGGCGGGGAAGCCTACCCGGTACCTACCCTGTAGTTACCCGGGAGCGAGCTACCCTGTAGCCCGCTGCTGGCCGACCCGCCGGTGGACAGTTAAACTCTTGTTTTACAGTGAAACTTCTGATATTTTATACTTAATAAGTTannnnnnnnnnnnnnnnnnnnnnnnnnnnnnnnnnnnnnnnnnnnnnnnnnnnnnnnnnnnnnnnnnnnnnnnnnnnnnnnnnnnnnnnnnnnnnnnnnnnnnnnnnnnnnnnnnnnnnnnnnnnnnnnnnnnnnnnnnnnnnnnnnnnnnnnnnnnnnnnnnnnn\r\n",
      ">extraction_water_control1_2705029;size=2;\r\n",
      "TTGTCGATGCCTTACATGTAGTCCAACACGTGAATCAGTTTGAACACAAAGGGTTGGCTTGGGGTGTTGAACACCTCGGCCCAACTCCGGTTCGGAGGGGGACACCCAAGTGTGTTCTCCTCTGCGCCAAAACTCAAACCCCGACGCTGAATGCGTCAAGGAATTAAAACTTTGTTATGTGCGCACCTGCATGGAACCGGAGACGGTTTTCGTGCGGGTTGTGTTTTTGACACATGAAATATAGaannnnnnnnnnnnnnnnnnnnnnnnnnnnnnnnnnnnnnnnnnnnnnnnnnnnnnnnnnnnnnnnnnnnnnnnnnnnnnnnnnnnnnnnnnnnnnnnnnnnnnnnnnnnnnn\r\n"
     ]
    }
   ],
   "source": [
    "!tail -n 10 $qcFinalUniqPreC"
   ]
  },
  {
   "cell_type": "markdown",
   "metadata": {},
   "source": [
    "# Filtering chimeras"
   ]
  },
  {
   "cell_type": "markdown",
   "metadata": {},
   "source": [
    "### De novo chimera filtering"
   ]
  },
  {
   "cell_type": "code",
   "execution_count": 28,
   "metadata": {
    "collapsed": false
   },
   "outputs": [
    {
     "name": "stdout",
     "output_type": "stream",
     "text": [
      "vsearch v2.3.4_linux_x86_64, 125.8GB RAM, 40 cores\n",
      "https://github.com/torognes/vsearch\n",
      "\n",
      "Reading file finalQC.preclustered.fasta 100%  \n",
      "1506183 nt in 4219 seqs, min 357, max 357, avg 357\n",
      "Masking 100%               \n",
      "Sorting by abundance 100%\n",
      "Counting unique k-mers 100%  \n",
      "Detecting chimeras 100%                                                                                                                                                                                                          \n",
      "Found 140 (3.3%) chimeras, 4072 (96.5%) non-chimeras,\n",
      "and 7 (0.2%) borderline sequences in 4219 unique sequences.\n",
      "Taking abundance information into account, this corresponds to\n",
      "2400 (0.0%) chimeras, 9048330 (99.7%) non-chimeras,\n",
      "and 22010 (0.2%) borderline sequences in 9072740 total sequences.\n"
     ]
    }
   ],
   "source": [
    "noChimera1 = os.path.splitext(qcFinal)[0] + '.denovo.nonchimeras.fasta'\n",
    "\n",
    "!vsearch --threads $nprocs \\\n",
    "    --uchime_denovo $qcFinalUniqPreC \\\n",
    "    --sizein \\\n",
    "    --sizeout \\\n",
    "    --fasta_width 0 \\\n",
    "    --nonchimeras $noChimera1"
   ]
  },
  {
   "cell_type": "code",
   "execution_count": 29,
   "metadata": {
    "collapsed": false
   },
   "outputs": [
    {
     "name": "stdout",
     "output_type": "stream",
     "text": [
      "Number of sequences after de novo chimera detection: 4072\n"
     ]
    }
   ],
   "source": [
    "ret = !grep -c \">\" $noChimera1\n",
    "print ('Number of sequences after de novo chimera detection: {}'.format(ret[0]))"
   ]
  },
  {
   "cell_type": "markdown",
   "metadata": {},
   "source": [
    "### Chimera filtering based on references"
   ]
  },
  {
   "cell_type": "code",
   "execution_count": 30,
   "metadata": {
    "collapsed": false
   },
   "outputs": [
    {
     "name": "stdout",
     "output_type": "stream",
     "text": [
      "vsearch v2.3.4_linux_x86_64, 125.8GB RAM, 40 cores\n",
      "https://github.com/torognes/vsearch\n",
      "\n",
      "Reading file /home/sam/databases/UNITE/uchime_reference_dataset_28.06.2017/ITS1_ITS2_datasets/uchime_reference_dataset_ITS1_28.06.2017.fasta 100%  \n",
      "6677951 nt in 30523 seqs, min 66, max 1958, avg 219\n",
      "Masking 100%        \n",
      "Counting unique k-mers 100%   \n",
      "Creating index of unique k-mers 100%         \n",
      "Detecting chimeras 100%                \n",
      "Found 13 (0.3%) chimeras, 4057 (99.6%) non-chimeras,\n",
      "and 2 (0.0%) borderline sequences in 4072 unique sequences.\n",
      "Taking abundance information into account, this corresponds to\n",
      "1998 (0.0%) chimeras, 9046309 (100.0%) non-chimeras,\n",
      "and 23 (0.0%) borderline sequences in 9048330 total sequences.\n"
     ]
    }
   ],
   "source": [
    "noChimera2 = os.path.splitext(qcFinal)[0] + '.ref.nonchimeras.fasta'\n",
    "\n",
    "!vsearch --threads $nprocs \\\n",
    "    --uchime_ref $noChimera1 \\\n",
    "    --db $UC_db \\\n",
    "    --sizein \\\n",
    "    --sizeout \\\n",
    "    --fasta_width 0 \\\n",
    "    --nonchimeras $noChimera2"
   ]
  },
  {
   "cell_type": "code",
   "execution_count": 31,
   "metadata": {
    "collapsed": false
   },
   "outputs": [
    {
     "name": "stdout",
     "output_type": "stream",
     "text": [
      "Number of sequences after reference based chimera detection: 4057\n"
     ]
    }
   ],
   "source": [
    "ret = !grep -c \">\" $noChimera2\n",
    "print ('Number of sequences after reference based chimera detection: {}'.format(ret[0]))"
   ]
  },
  {
   "cell_type": "code",
   "execution_count": 32,
   "metadata": {
    "collapsed": false
   },
   "outputs": [
    {
     "name": "stdout",
     "output_type": "stream",
     "text": [
      ">6-3-BS_1438;size=45752;\r\n",
      "TTGAATATGCAAACCACAACACGCACTCTCTACTTGTGTCTGACGTTAGGTCAACATGCGCAAGCATGTGGCCTACTAACCTACACACCATTGACCAACCAATTATCAAACCAAACTCTGAAGCTTTGGCTGCTGTTAATCGGCAGTTTTAACAAAGaannnnnnnnnnnnnnnnnnnnnnnnnnnnnnnnnnnnnnnnnnnnnnnnnnnnnnnnnnnnnnnnnnnnnnnnnnnnnnnnnnnnnnnnnnnnnnnnnnnnnnnnnnnnnnnnnnnnnnnnnnnnnnnnnnnnnnnnnnnnnnnnnnnnnnnnnnnnnnnnnnnnnnnnnnnnnnnnnnnnnnnnnnnnnnnnnnnnnn\r\n",
      ">2-2-F_439;size=94950;\r\n",
      "TTAGTGATTGACCTCCGGGTCTTAATAACTATAATCTTCTACCTCTGTGAACCGTTGGTCTTCGGACCGATTCTTATAACAAACATCTGTGTAATGAACGTAACCTATATTAATCATATannnnnnnnnnnnnnnnnnnnnnnnnnnnnnnnnnnnnnnnnnnnnnnnnnnnnnnnnnnnnnnnnnnnnnnnnnnnnnnnnnnnnnnnnnnnnnnnnnnnnnnnnnnnnnnnnnnnnnnnnnnnnnnnnnnnnnnnnnnnnnnnnnnnnnnnnnnnnnnnnnnnnnnnnnnnnnnnnnnnnnnnnnnnnnnnnnnnnnnnnnnnnnnnnnnnnnnnnnnnnnnnnnnnnnnnnnnnn\r\n",
      ">3-4-L_689;size=322641;\r\n",
      "TTAGTGAATACACCGGGGAACCCACTCTGTGGGCCCCAACCCTTCACCATATCCTCACACCTGTGCACCGCTGGTAGATGCCGCTGTACTTCGGTACGGTTTGCAGCTGCTGGCAACCTATACACACACACCTGAGTTCTATGAATGTTAATTTTACTTGCCTTCGGGCAGAACTaaaatannnnnnnnnnnnnnnnnnnnnnnnnnnnnnnnnnnnnnnnnnnnnnnnnnnnnnnnnnnnnnnnnnnnnnnnnnnnnnnnnnnnnnnnnnnnnnnnnnnnnnnnnnnnnnnnnnnnnnnnnnnnnnnnnnnnnnnnnnnnnnnnnnnnnnnnnnnnnnnnnnnnnnnnnnnnnnnn\r\n",
      ">2-2-L_1706;size=131519;\r\n",
      "TTACCTAGAGTTTGTGGACTTCGGTCTGCTACCTCTTACCCATGTCTTTTGAGTACCTTCGTTTCCTCGGCGGGTCCGCCCGCCGGTTGGACAACATTCAAACCCTTTGCAGTTGCAATCAGCGTCTGAAAAAACTTAATAGTTannnnnnnnnnnnnnnnnnnnnnnnnnnnnnnnnnnnnnnnnnnnnnnnnnnnnnnnnnnnnnnnnnnnnnnnnnnnnnnnnnnnnnnnnnnnnnnnnnnnnnnnnnnnnnnnnnnnnnnnnnnnnnnnnnnnnnnnnnnnnnnnnnnnnnnnnnnnnnnnnnnnnnnnnnnnnnnnnnnnnnnnnnnnnnnnnnnnnnnnnnnnnnnnnnnn\r\n",
      ">6-5-F_452;size=65594;\r\n",
      "TTACAAGTGACCCCGGTCTAACCACCGGGATGTTCATAACCCTTTGTTGTCCGACTCTGTTGCCTCCGGGGCGACCCTGCCTTCGGGCGGGGGCTCCGGGTGGACACTTCAAACTCTTGCGTAACTTTGCAGTCTGAGTAAACTTAATTAATAAATTannnnnnnnnnnnnnnnnnnnnnnnnnnnnnnnnnnnnnnnnnnnnnnnnnnnnnnnnnnnnnnnnnnnnnnnnnnnnnnnnnnnnnnnnnnnnnnnnnnnnnnnnnnnnnnnnnnnnnnnnnnnnnnnnnnnnnnnnnnnnnnnnnnnnnnnnnnnnnnnnnnnnnnnnnnnnnnnnnnnnnnnnnnnnnnnnnnnnnn\r\n"
     ]
    }
   ],
   "source": [
    "!head $noChimera2"
   ]
  },
  {
   "cell_type": "markdown",
   "metadata": {},
   "source": [
    "# Readmapping and Reinflating"
   ]
  },
  {
   "cell_type": "markdown",
   "metadata": {},
   "source": [
    "Reinflating from full dereplication"
   ]
  },
  {
   "cell_type": "code",
   "execution_count": 33,
   "metadata": {
    "collapsed": false
   },
   "outputs": [
    {
     "name": "stdout",
     "output_type": "stream",
     "text": [
      "/home/sam/notebooks/hemp_microbiome/data/ITS_OTUs/OTU_binning/globtrim.fasta\n",
      "finalQC.preclustered.uc\n",
      "finalQC.ref.nonchimeras.fasta\n"
     ]
    }
   ],
   "source": [
    "print(trimmedUniqITSx)\n",
    "print(PreCucfile)\n",
    "print(noChimera2)"
   ]
  },
  {
   "cell_type": "code",
   "execution_count": 34,
   "metadata": {
    "collapsed": true
   },
   "outputs": [],
   "source": [
    "readmap1 = 'final.nonchimeras.derep.fasta'\n",
    "!perl /home/sam/repo/map.pl \\\n",
    "    $trimmedUniqITSx \\\n",
    "    $PreCucfile \\\n",
    "    $noChimera2 > $readmap1"
   ]
  },
  {
   "cell_type": "code",
   "execution_count": 35,
   "metadata": {
    "collapsed": false
   },
   "outputs": [
    {
     "name": "stdout",
     "output_type": "stream",
     "text": [
      "Number of unique non-chimeric sequences: 125081\n"
     ]
    }
   ],
   "source": [
    "ret = !grep -c \">\" $readmap1\n",
    "print ('Number of unique non-chimeric sequences: {}'.format(ret[0]))"
   ]
  },
  {
   "cell_type": "code",
   "execution_count": 36,
   "metadata": {
    "collapsed": false
   },
   "outputs": [
    {
     "name": "stdout",
     "output_type": "stream",
     "text": [
      ">4-1-L_6689723;size=2;\r\n",
      "TTACCTAGAGTTGTAGGCTTTGCCTGCTATCTCTTACCCATGTCTTTTGAGTACCTTCGTTTCCTCGGCGGGTCCGCCCGCCGATTGGACAATTTAAACCATTTGCAGTTGCAATCAGCGTCTGAGAAAACTCAATAGTTANNNNNNNNNNNNNNNNNNNNNNNNNNNNNNNNNNNNNNNNNNNNNNNNNNNNNNNNNNNNNNNNNNNNNNNNNNNNNNNNNNNNNNNNNNNNNNNNNNNNNNNNNNNNNNNNNNNNNNNNNNNNNNNNNNNNNNNNNNNNNNNNNNNNNNNNNNNNNNNNNNNNNNNNNNNNNNNNNNNNNNNNNNNNNNNNNNNNNNNNNNNNNNNNNNNNNNNN\r\n",
      ">4-1-L_6710936;size=2;\r\n",
      "TTGTCGAAACCTGCAACAGCAAAACGACCCGTGAACACGTTTTAAACAGCTTGGGCGGGCGAGAGGAGCTTGCTCCTTGGACCCGCCCGCACCTGCTGGGAGAAATCTCGGCGGGCTAATGAACCCCGGCGCAATCTGCGCCAAGGAACAATAAAAGATTATCGCGTGGCTCGTGCGGTGGCCCGGAGACGGTGTCCGCCAATCGAGATGCGTGTTTATCGAAATGTCTAAANNNNNNNNNNNNNNNNNNNNNNNNNNNNNNNNNNNNNNNNNNNNNNNNNNNNNNNNNNNNNNNNNNNNNNNNNNNNNNNNNNNNNNNNNNNNNNNNNNNNNNNNNNNNNNNNNNNNNNNNNNNNN\r\n",
      ">4-1-L_672628;size=2;\r\n",
      "TTACCTAGAGTTTGTGGACTTCGGTCTGCTACCTCTTACCCATGTCTTTTGAGTACCTTCGTCTCCTCGGCGGGTCCGCCCGCCGATTGGACAACATTCAAACCCTTTGCAGTTGCAATCAGCGTCTGAAAAAACATAATAGTTANNNNNNNNNNNNNNNNNNNNNNNNNNNNNNNNNNNNNNNNNNNNNNNNNNNNNNNNNNNNNNNNNNNNNNNNNNNNNNNNNNNNNNNNNNNNNNNNNNNNNNNNNNNNNNNNNNNNNNNNNNNNNNNNNNNNNNNNNNNNNNNNNNNNNNNNNNNNNNNNNNNNNNNNNNNNNNNNNNNNNNNNNNNNNNNNNNNNNNNNNNNNNNNNNNNN\r\n",
      ">4-1-L_685618;size=2;\r\n",
      "TTGTCGAAACATGCAACAGCATAACGACCCGTGAACACGTTTTAAACAGCTTGGGCGGGCGAGAGGAGCTTGCTCCTTGGACCCGCCCGCACCTGCTGGGAGAAATCTCGGCGGGCTAACGAACCCCGGCGCAATCTGCGCCAAGGATCAATAAAAGATTATCGCGTGGCTCGTGCGGTGGCCCGGAGACGGTGTCCGCCAATCGAGATGCGTGTTTATCGAAATGTCTAAANNNNNNNNNNNNNNNNNNNNNNNNNNNNNNNNNNNNNNNNNNNNNNNNNNNNNNNNNNNNNNNNNNNNNNNNNNNNNNNNNNNNNNNNNNNNNNNNNNNNNNNNNNNNNNNNNNNNNNNNNNNNN\r\n",
      ">4-1-L_6884476;size=2;\r\n",
      "TTACACAAATATGCAGGCGGGCTGGAACCCCTCGGGGTTACAGCCTTGCTGAATTATTCACCCTTGTCTTTTGCGTACTTCTTGTTTCCTTGGTGGGTTCGCCCACCACTAGGACAAACATAAACCTTTTGTAATTGCAATCAGCGTCAGTAACAAATTAATAATTANNNNNNNNNNNNNNNNNNNNNNNNNNNNNNNNNNNNNNNNNNNNNNNNNNNNNNNNNNNNNNNNNNNNNNNNNNNNNNNNNNNNNNNNNNNNNNNNNNNNNNNNNNNNNNNNNNNNNNNNNNNNNNNNNNNNNNNNNNNNNNNNNNNNNNNNNNNNNNNNNNNNNNNNNNNNNNNNNNNNNNNNNNNNNN\r\n"
     ]
    }
   ],
   "source": [
    "!head $readmap1"
   ]
  },
  {
   "cell_type": "markdown",
   "metadata": {},
   "source": [
    "Reinflating from per sample dereplication. Do this in the in Reinflation.ipynb"
   ]
  },
  {
   "cell_type": "code",
   "execution_count": 54,
   "metadata": {
    "collapsed": false
   },
   "outputs": [
    {
     "name": "stdout",
     "output_type": "stream",
     "text": [
      "Number of total non-chimeric sequences: 9046309\n"
     ]
    }
   ],
   "source": [
    "readmap2 = 'final.nochimeras.fasta'\n",
    "\n",
    "\n",
    "ret = !grep -c \">\" $readmap2\n",
    "print ('Number of total non-chimeric sequences: {}'.format(ret[0]))"
   ]
  },
  {
   "cell_type": "code",
   "execution_count": 55,
   "metadata": {
    "collapsed": false
   },
   "outputs": [
    {
     "name": "stdout",
     "output_type": "stream",
     "text": [
      ">4-1-L_6689723;sample=4-1-L;\r\n",
      "TTACCTAGAGTTGTAGGCTTTGCCTGCTATCTCTTACCCATGTCTTTTGAGTACCTTCGTTTCCTCGGCGGGTCCGCCCGCCGATTGGACAATTTAAACCATTTGCAGTTGCAATCAGCGTCTGAGAAAACTCAATAGTTANNNNNNNNNNNNNNNNNNNNNNNNNNNNNNNNNNNNNNNNNNNNNNNNNNNNNNNNNNNNNNNNNNNNNNNNNNNNNNNNNNNNNNNNNNNNNNNNNNNNNNNNNNNNNNNNNNNNNNNNNNNNNNNNNNNNNNNNNNNNNNNNNNNNNNNNNNNNNNNNNNNNNNNNNNNNNNNNNNNNNNNNNNNNNNNNNNNNNNNNNNNNNNNNNNNNNNNN\r\n",
      ">4-1-L_6689808;sample=4-1-L;\r\n",
      "TTACCTAGAGTTGTAGGCTTTGCCTGCTATCTCTTACCCATGTCTTTTGAGTACCTTCGTTTCCTCGGCGGGTCCGCCCGCCGATTGGACAATTTAAACCATTTGCAGTTGCAATCAGCGTCTGAGAAAACTCAATAGTTANNNNNNNNNNNNNNNNNNNNNNNNNNNNNNNNNNNNNNNNNNNNNNNNNNNNNNNNNNNNNNNNNNNNNNNNNNNNNNNNNNNNNNNNNNNNNNNNNNNNNNNNNNNNNNNNNNNNNNNNNNNNNNNNNNNNNNNNNNNNNNNNNNNNNNNNNNNNNNNNNNNNNNNNNNNNNNNNNNNNNNNNNNNNNNNNNNNNNNNNNNNNNNNNNNNNNNNN\r\n",
      ">4-1-L_6710936;sample=4-1-L;\r\n",
      "TTGTCGAAACCTGCAACAGCAAAACGACCCGTGAACACGTTTTAAACAGCTTGGGCGGGCGAGAGGAGCTTGCTCCTTGGACCCGCCCGCACCTGCTGGGAGAAATCTCGGCGGGCTAATGAACCCCGGCGCAATCTGCGCCAAGGAACAATAAAAGATTATCGCGTGGCTCGTGCGGTGGCCCGGAGACGGTGTCCGCCAATCGAGATGCGTGTTTATCGAAATGTCTAAANNNNNNNNNNNNNNNNNNNNNNNNNNNNNNNNNNNNNNNNNNNNNNNNNNNNNNNNNNNNNNNNNNNNNNNNNNNNNNNNNNNNNNNNNNNNNNNNNNNNNNNNNNNNNNNNNNNNNNNNNNNNN\r\n",
      ">3-1-RT_8768771;sample=3-1-RT;\r\n",
      "TTGTCGAAACCTGCAACAGCAAAACGACCCGTGAACACGTTTTAAACAGCTTGGGCGGGCGAGAGGAGCTTGCTCCTTGGACCCGCCCGCACCTGCTGGGAGAAATCTCGGCGGGCTAATGAACCCCGGCGCAATCTGCGCCAAGGAACAATAAAAGATTATCGCGTGGCTCGTGCGGTGGCCCGGAGACGGTGTCCGCCAATCGAGATGCGTGTTTATCGAAATGTCTAAANNNNNNNNNNNNNNNNNNNNNNNNNNNNNNNNNNNNNNNNNNNNNNNNNNNNNNNNNNNNNNNNNNNNNNNNNNNNNNNNNNNNNNNNNNNNNNNNNNNNNNNNNNNNNNNNNNNNNNNNNNNNN\r\n",
      ">4-1-L_672628;sample=4-1-L;\r\n",
      "TTACCTAGAGTTTGTGGACTTCGGTCTGCTACCTCTTACCCATGTCTTTTGAGTACCTTCGTCTCCTCGGCGGGTCCGCCCGCCGATTGGACAACATTCAAACCCTTTGCAGTTGCAATCAGCGTCTGAAAAAACATAATAGTTANNNNNNNNNNNNNNNNNNNNNNNNNNNNNNNNNNNNNNNNNNNNNNNNNNNNNNNNNNNNNNNNNNNNNNNNNNNNNNNNNNNNNNNNNNNNNNNNNNNNNNNNNNNNNNNNNNNNNNNNNNNNNNNNNNNNNNNNNNNNNNNNNNNNNNNNNNNNNNNNNNNNNNNNNNNNNNNNNNNNNNNNNNNNNNNNNNNNNNNNNNNNNNNNNNNN\r\n"
     ]
    }
   ],
   "source": [
    "!head $readmap2"
   ]
  },
  {
   "cell_type": "markdown",
   "metadata": {},
   "source": [
    "# Cluster OTUs at 97%"
   ]
  },
  {
   "cell_type": "code",
   "execution_count": 56,
   "metadata": {
    "collapsed": false
   },
   "outputs": [
    {
     "name": "stdout",
     "output_type": "stream",
     "text": [
      "vsearch v2.3.4_linux_x86_64, 125.8GB RAM, 40 cores\n",
      "https://github.com/torognes/vsearch\n",
      "\n",
      "Reading file final.nochimeras.fasta 100%                                                                                                                                                                                                                                                                                                                                                                                                          \n",
      "3229532313 nt in 9046309 seqs, min 357, max 357, avg 357\n",
      "Masking 100%                                                                                                                                                                                                                                                                                                                                                                                                                \n",
      "Sorting by abundance 100%\n",
      "Counting unique k-mers 100%                                                                                                                                                                                                                                                                                                                                                                                                                \n",
      "Clustering 100%                                                                                                                                                                                                                                                                                                                                                                                                                \n",
      "Sorting clusters 100%\n",
      "Writing clusters 100%  \n",
      "Clusters: 3737 Size min 2, max 7590281, avg 2420.7\n",
      "Singletons: 0, 0.0% of seqs, 0.0% of clusters\n",
      "Writing OTU table (classic) 100%     \n"
     ]
    }
   ],
   "source": [
    "otu_file = 'final.otu.fasta'\n",
    "otu_ucfile = 'final.otu.uc'\n",
    "otutabout_file = 'final.otutab.txt'\n",
    "\n",
    "!vsearch --threads $nprocs \\\n",
    "    --cluster_size $readmap2 \\\n",
    "    --id 0.97 \\\n",
    "    --strand plus \\\n",
    "    --fasta_width 0 \\\n",
    "    --uc $otu_ucfile \\\n",
    "    --relabel OTU_ \\\n",
    "    --centroids $otu_file \\\n",
    "    --otutabout $otutabout_file"
   ]
  },
  {
   "cell_type": "code",
   "execution_count": 57,
   "metadata": {
    "collapsed": false
   },
   "outputs": [
    {
     "name": "stdout",
     "output_type": "stream",
     "text": [
      "Number of final OTUs: 3737\n"
     ]
    }
   ],
   "source": [
    "ret = !grep -c \">\" $otu_file\n",
    "print ('Number of final OTUs: {}'.format(ret[0]))"
   ]
  },
  {
   "cell_type": "code",
   "execution_count": 58,
   "metadata": {
    "collapsed": false
   },
   "outputs": [
    {
     "name": "stdout",
     "output_type": "stream",
     "text": [
      ">OTU_1\r\n",
      "TTGTCGAAACCTGCAACAGCAGAACGACCCGTGAACACGTTTTAAACAGCTTGGGCGGGCGAGAGGAGCTTGCTCTTGGACCCGCCCGCACCTGCTGGGAGAAATCTCGGCGGGCTAACGAACCCCGGCGCAATCTGCGCCAAGGAACAATAAAAGATTATCGCGTGGCTCGTGCGGTGGCCCGGAGACGGTGTCCGCCAATCGAGATGCGTGTTTATCGAAATGTCTaaannnnnnnnnnnnnnnnnnnnnnnnnnnnnnnnnnnnnnnnnnnnnnnnnnnnnnnnnnnnnnnnnnnnnnnnnnnnnnnnnnnnnnnnnnnnnnnnnnnnnnnnnnnnnnnnnnnnnnnnnnnnnn\r\n",
      ">OTU_2\r\n",
      "TTACAGGACTCGCAAGACTCCTACAACCCTGTGAACCTACTATACGAACGTTGCTTCGGCGGGTGCGCCCCGGGGATTCGTTCCCGCGGCGCGTCAGCCCGCCGGCAGCCTACAAATTCTGTTTCTTTGCGTTGGCATCTCGAGAAAAACAAATAAGTTannnnnnnnnnnnnnnnnnnnnnnnnnnnnnnnnnnnnnnnnnnnnnnnnnnnnnnnnnnnnnnnnnnnnnnnnnnnnnnnnnnnnnnnnnnnnnnnnnnnnnnnnnnnnnnnnnnnnnnnnnnnnnnnnnnnnnnnnnnnnnnnnnnnnnnnnnnnnnnnnnnnnnnnnnnnnnnnnnnnnnnnnnnnnnnnnnnnn\r\n",
      ">OTU_3\r\n",
      "TTACTGAGTTTTTAACTCTCCAAACCATGTGAACTTACCACTGTTGCCTCGGTGGTTGGTCTTCGGACTGACCACCGGTGGACTACTAAACTCTTGTTAATTTTTGGCATTCTGAATCATAACTAAGAAATAAGTTannnnnnnnnnnnnnnnnnnnnnnnnnnnnnnnnnnnnnnnnnnnnnnnnnnnnnnnnnnnnnnnnnnnnnnnnnnnnnnnnnnnnnnnnnnnnnnnnnnnnnnnnnnnnnnnnnnnnnnnnnnnnnnnnnnnnnnnnnnnnnnnnnnnnnnnnnnnnnnnnnnnnnnnnnnnnnnnnnnnnnnnnnnnnnnnnnnnnnnnnnnnnnnnnnnnnnnnnnnn\r\n",
      ">OTU_4\r\n",
      "TTGAATATGCAAACCACAACACGCACTCTCTACTTGTGTCTGACGTTAGGTCAACGTGCGCAAGCATGTGGCCTACTAACCTACACACCATTGACCAACCAATTATCAAACCAAACTCTGAAGCTTTGGCTGCTGTTAATCGGCAGTTTTAACAAAGaannnnnnnnnnnnnnnnnnnnnnnnnnnnnnnnnnnnnnnnnnnnnnnnnnnnnnnnnnnnnnnnnnnnnnnnnnnnnnnnnnnnnnnnnnnnnnnnnnnnnnnnnnnnnnnnnnnnnnnnnnnnnnnnnnnnnnnnnnnnnnnnnnnnnnnnnnnnnnnnnnnnnnnnnnnnnnnnnnnnnnnnnnnnnnnnnnnnnn\r\n",
      ">OTU_5\r\n",
      "TTACCGAGTGCGGGCACTCGCGGCCCAACCTCCCACCCTTGTCTCTATACACCTGTTGCTTTGGCGGGCCCACCGGGGCCACCTGGTCGCCGGGGGACGCACGTCCCCGGGCCCGCGCCCGCCGAAGCGCTCTGTGAACCCTGATGAAGATGGGCTGTCTGAGTACTATGAAAATTGTCannnnnnnnnnnnnnnnnnnnnnnnnnnnnnnnnnnnnnnnnnnnnnnnnnnnnnnnnnnnnnnnnnnnnnnnnnnnnnnnnnnnnnnnnnnnnnnnnnnnnnnnnnnnnnnnnnnnnnnnnnnnnnnnnnnnnnnnnnnnnnnnnnnnnnnnnnnnnnnnnnnnnnnnnnnnnnnnn\r\n"
     ]
    }
   ],
   "source": [
    "!head $otu_file"
   ]
  },
  {
   "cell_type": "code",
   "execution_count": 59,
   "metadata": {
    "collapsed": false
   },
   "outputs": [
    {
     "name": "stdout",
     "output_type": "stream",
     "text": [
      ">OTU_3733\r\n",
      "TTAACGAGTTTTTGAAAGGGGTTGTAGCTGGCCAAAAACAAAGGCATGTGCACACCCTGCTCAATTCCACTCTCACACCCCTGTGCACTTACTGTAGGCTATGGTCGGATAGCCAACTTCGGTTGGTTTGAAAGCCTTGCTTATGTTATTACAAACGCTTCAGTTAAAGAATGTCATACCGCGTATAACGCATTAAATannnnnnnnnnnnnnnnnnnnnnnnnnnnnnnnnnnnnnnnnnnnnnnnnnnnnnnnnnnnnnnnnnnnnnnnnnnnnnnnnnnnnnnnnnnnnnnnnnnnnnnnnnnnnnnnnnnnnnnnnnnnnnnnnnnnnnnnnnnnnnnnnnnnnnnnnnnnnn\r\n",
      ">OTU_3734\r\n",
      "TTAGTGAATTTGGCCTCTGGCCTCATTAACACAAACACACCGTGAACCGTGGCTTCGGCCCAAACTTTTATGTATTGAATGTAATATATCATAACaaaaacannnnnnnnnnnnnnnnnnnnnnnnnnnnnnnnnnnnnnnnnnnnnnnnnnnnnnnnnnnnnnnnnnnnnnnnnnnnnnnnnnnnnnnnnnnnnnnnnnnnnnnnnnnnnnnnnnnnnnnnnnnnnnnnnnnnnnnnnnnnnnnnnnnnnnnnnnnnnnnnnnnnnnnnnnnnnnnnnnnnnnnnnnnnnnnnnnnnnnnnnnnnnnnnnnnnnnnnnnnnnnnnnnnnnnnnnnnnnnnnnnnnnnnnnnnnnnn\r\n",
      ">OTU_3735\r\n",
      "TTATCGAGTCCAATCTAGCTCATTTCTGGCTGTGCATTCACTTGCACGCCGGGGCGAGTTGGCTCTTGAACTTCTCACACCTGTGCACCTTCTCGTGCCTTCTCCGTCGTCGCCCTTTGTTGGGAGACTCCACCGCTTGCGGTGGGATTCGGGCGTTGCAGTAAATTTGCTTTTACGGCTCGCCTCGGGGAGAGGGCACTTGCTTTTTTACACCTTTTTTGTATGTCTCAGAATGTCTTGGATTGCCCTGTGATGGGGTGGTCCTTAATTAAATannnnnnnnnnnnnnnnnnnnnnnnnnnnnnnnnnnnnnnnnnnnnnnnnnnnnnnnnnnnnnnnnnnnnnnnnnnnnnnnnn\r\n",
      ">OTU_3736\r\n",
      "TTACAGAGTTATCTAACGCCCAAACCCATGTGAACTTACCTATGTTGCCTCGGCGGGGAAGCCTACCCGGTACCTACCCTGTAGTTACCCGGGAGCGAGCTACCCTGTAGCCCGCTGCTGGCCGACCCGCCGGTGGACAGTTAAACTCTTGTTTTACAGTGAAACTTCTGATATTTTATACTTAATAAGTTannnnnnnnnnnnnnnnnnnnnnnnnnnnnnnnnnnnnnnnnnnnnnnnnnnnnnnnnnnnnnnnnnnnnnnnnnnnnnnnnnnnnnnnnnnnnnnnnnnnnnnnnnnnnnnnnnnnnnnnnnnnnnnnnnnnnnnnnnnnnnnnnnnnnnnnnnnnnnnnnnnnn\r\n",
      ">OTU_3737\r\n",
      "TTATTGAATACGATTGGTGCTTTTGCTGTCTTCTTCACTGAGGCATGTGCACGCCCCATCTATTTATCTTCTCTTGTGCACATTTTGTAGTCTTGAATCGAAACCTCTCGCAGCAATGCGGTTTGGGAGGCTGGGTGCTTCGCGGCCCCTTCTCCTGCTTCTTCAAGGCTATGTTTTTCATATCACACGTTAAAGTTACAGAATGTCTTTTAACGATTGTGCTTGGTCGCAGTCATTAAACCTATannnnnnnnnnnnnnnnnnnnnnnnnnnnnnnnnnnnnnnnnnnnnnnnnnnnnnnnnnnnnnnnnnnnnnnnnnnnnnnnnnnnnnnnnnnnnnnnnnnnnnnnnnnnnnn\r\n"
     ]
    }
   ],
   "source": [
    "!tail $otu_file"
   ]
  },
  {
   "cell_type": "code",
   "execution_count": 60,
   "metadata": {
    "collapsed": true
   },
   "outputs": [],
   "source": [
    "# Remove N's\n",
    "otu_file_noN = 'otu_noN.fasta'\n",
    "!sed -e 's/n//g' $otu_file > $otu_file_noN"
   ]
  },
  {
   "cell_type": "code",
   "execution_count": 61,
   "metadata": {
    "collapsed": false
   },
   "outputs": [
    {
     "name": "stdout",
     "output_type": "stream",
     "text": [
      ">OTU_1\r\n",
      "TTGTCGAAACCTGCAACAGCAGAACGACCCGTGAACACGTTTTAAACAGCTTGGGCGGGCGAGAGGAGCTTGCTCTTGGACCCGCCCGCACCTGCTGGGAGAAATCTCGGCGGGCTAACGAACCCCGGCGCAATCTGCGCCAAGGAACAATAAAAGATTATCGCGTGGCTCGTGCGGTGGCCCGGAGACGGTGTCCGCCAATCGAGATGCGTGTTTATCGAAATGTCTaaa\r\n",
      ">OTU_2\r\n",
      "TTACAGGACTCGCAAGACTCCTACAACCCTGTGAACCTACTATACGAACGTTGCTTCGGCGGGTGCGCCCCGGGGATTCGTTCCCGCGGCGCGTCAGCCCGCCGGCAGCCTACAAATTCTGTTTCTTTGCGTTGGCATCTCGAGAAAAACAAATAAGTTa\r\n",
      ">OTU_3\r\n",
      "TTACTGAGTTTTTAACTCTCCAAACCATGTGAACTTACCACTGTTGCCTCGGTGGTTGGTCTTCGGACTGACCACCGGTGGACTACTAAACTCTTGTTAATTTTTGGCATTCTGAATCATAACTAAGAAATAAGTTa\r\n",
      ">OTU_4\r\n",
      "TTGAATATGCAAACCACAACACGCACTCTCTACTTGTGTCTGACGTTAGGTCAACGTGCGCAAGCATGTGGCCTACTAACCTACACACCATTGACCAACCAATTATCAAACCAAACTCTGAAGCTTTGGCTGCTGTTAATCGGCAGTTTTAACAAAGaa\r\n",
      ">OTU_5\r\n",
      "TTACCGAGTGCGGGCACTCGCGGCCCAACCTCCCACCCTTGTCTCTATACACCTGTTGCTTTGGCGGGCCCACCGGGGCCACCTGGTCGCCGGGGGACGCACGTCCCCGGGCCCGCGCCCGCCGAAGCGCTCTGTGAACCCTGATGAAGATGGGCTGTCTGAGTACTATGAAAATTGTCa\r\n"
     ]
    }
   ],
   "source": [
    "!head $otu_file_noN"
   ]
  },
  {
   "cell_type": "code",
   "execution_count": 62,
   "metadata": {
    "collapsed": false
   },
   "outputs": [
    {
     "name": "stdout",
     "output_type": "stream",
     "text": [
      "#OTU ID\t1-1-BS\t1-1-F\t1-1-L\t1-1-RS\t1-1-RT\t1-2-BS\t1-2-F\t1-2-L\t1-2-RS\t1-2-RT\t1-3-BS\t1-3-F\t1-3-L\t1-3-RS\t1-3-RT\t1-4-BS\t1-4-F\t1-4-L\t1-4-RS\t1-4-RT\t1-5-BS\t1-5-F\t1-5-L\t1-5-RS\t1-5-RT\t2-1-BS\t2-1-F\t2-1-L\t2-1-RS\t2-1-RT\t2-2-BS\t2-2-F\t2-2-L\t2-2-RS\t2-2-RT\t2-3-BS\t2-3-F\t2-3-L\t2-3-RS\t2-3-RT\t2-4-BS\t2-4-F\t2-4-L\t2-4-RS\t2-4-RT\t2-5-BS\t2-5-F\t2-5-L\t2-5-RS\t2-5-RT\t3-1-BS\t3-1-F\t3-1-L\t3-1-RS\t3-1-RT\t3-2-BS\t3-2-F\t3-2-L\t3-2-RS\t3-2-RT\t3-3-BS\t3-3-F\t3-3-L\t3-3-RS\t3-3-RT\t3-4-BS\t3-4-F\t3-4-L\t3-4-RS\t3-4-RT\t3-5-BS\t3-5-F\t3-5-L\t3-5-RS\t3-5-RT\t4-1-BS\t4-1-F\t4-1-L\t4-1-RS\t4-1-RT\t4-2-BS\t4-2-F\t4-2-L\t4-2-RS\t4-2-RT\t4-3-BS\t4-3-F\t4-3-L\t4-3-RS\t4-3-RT\t4-4-BS\t4-4-F\t4-4-L\t4-4-RS\t4-4-RT\t4-5-BS\t4-5-F\t4-5-L\t4-5-RS\t4-5-RT\t5-1-BS\t5-1-F\t5-1-L\t5-1-RS\t5-1-RT\t5-2-BS\t5-2-F\t5-2-L\t5-2-RS\t5-2-RT\t5-3-BS\t5-3-F\t5-3-L\t5-3-RS\t5-3-RT\t5-4-BS\t5-4-F\t5-4-L\t5-4-RS\t5-4-RT\t5-5-BS\t5-5-F\t5-5-L\t5-5-RS\t5-5-RT\t6-1-BS\t6-1-F\t6-1-L\t6-1-RS\t6-1-RT\t6-2-BS\t6-2-F\t6-2-L\t6-2-RS\t6-2-RT\t6-3-BS\t6-3-F\t6-3-L\t6-3-RS\t6-3-RT\t6-4-BS\t6-4-F\t6-4-L\t6-4-RS\t6-4-RT\t6-5-BS\t6-5-F\t6-5-L\t6-5-RS\t6-5-RT\tF1-1\tF1-2\tF1-3\tF2-1\tF2-2\tF2-3\tF3-1\tF3-2\tF3-3\tF4-1\tF4-2\tF4-3\tF5-1\tF5-2\tF5-3\tM1-1\tM1-2\tM1-3\tM2-1\tM2-2\tM2-3\tM3-1\tM3-2\tM3-3\tM4-1\tM4-2\tM4-3\tM5-1\tM5-2\tM5-3\textraction_water_control1\textraction_water_control2\r\n",
      "OTU_1\t24207\t21029\t3349\t37675\t89845\t4422\t28595\t14094\t10275\t102258\t11548\t53037\t26522\t29474\t190362\t15615\t33003\t21625\t24886\t93964\t14603\t71346\t100864\t21762\t83772\t1476\t65124\t28556\t44662\t56667\t4825\t78214\t107322\t63002\t69401\t318\t37847\t35931\t17800\t99884\t414\t168015\t45667\t5753\t1067\t27820\t184088\t72982\t9742\t120237\t379\t26344\t13990\t36902\t282324\t607\t38701\t20496\t12920\t25719\t3899\t27587\t45972\t32484\t171352\t292\t91930\t44853\t360\t39349\t358\t67458\t73691\t21946\t73612\t525\t68255\t24876\t44230\t210755\t215\t128661\t25160\t25118\t3860\t383\t73111\t92981\t1457\t111287\t592\t95387\t64042\t28154\t38897\t619\t65746\t19828\t9139\t176710\t19080\t61346\t20411\t425\t11341\t176\t48520\t16871\t2367\t62007\t2202\t29990\t2760\t10191\t60578\t697\t28621\t10464\t4586\t72461\t91\t25728\t8497\t1121\t52183\t149\t49530\t19166\t13644\t118411\t8489\t22626\t804\t26070\t59576\t230\t34270\t21531\t12587\t174852\t5938\t37924\t53214\t16186\t38945\t370\t35282\t18488\t2411\t104248\t22277\t42098\t47675\t90757\t60166\t15732\t102222\t48578\t12286\t45905\t28462\t32521\t66127\t36200\t21096\t53948\t41248\t38119\t96288\t22529\t54394\t1161\t40507\t11235\t23520\t21401\t23175\t24592\t27273\t44278\t6878\t21519\r\n",
      "OTU_10\t375\t0\t1\t497\t0\t0\t0\t0\t30\t1\t55\t1\t0\t384\t0\t194\t0\t2\t236\t2\t240\t0\t0\t58\t0\t8\t0\t0\t1\t0\t0\t0\t0\t43\t0\t13\t0\t0\t19\t0\t14\t0\t0\t13\t0\t1\t0\t1\t15\t0\t16\t0\t0\t3\t0\t67\t0\t0\t10\t0\t0\t1\t0\t7\t0\t53\t2\t0\t0\t0\t80\t0\t1\t37\t0\t0\t0\t0\t0\t0\t1\t0\t0\t0\t0\t1\t0\t0\t0\t0\t0\t0\t0\t0\t0\t0\t0\t0\t0\t0\t0\t0\t0\t1\t0\t1\t0\t0\t0\t0\t0\t0\t0\t0\t0\t0\t0\t0\t0\t0\t1\t1\t0\t0\t0\t11\t1\t0\t770\t1\t595\t1\t0\t124\t1\t6042\t0\t0\t1025\t1\t3937\t0\t0\t4911\t3\t26\t0\t0\t771\t0\t0\t0\t0\t0\t0\t0\t0\t0\t0\t0\t0\t0\t0\t0\t0\t0\t0\t0\t0\t0\t0\t0\t0\t0\t0\t0\t0\t0\t0\t0\t0\t0\r\n",
      "OTU_100\t17\t0\t0\t4\t0\t0\t0\t0\t0\t0\t1\t0\t0\t14\t0\t8\t0\t0\t7\t0\t16\t0\t0\t8\t0\t0\t0\t0\t0\t0\t0\t0\t0\t0\t0\t2\t0\t0\t10\t0\t4\t0\t0\t1\t0\t0\t0\t0\t0\t0\t60\t0\t0\t48\t0\t116\t0\t0\t29\t0\t0\t0\t0\t78\t0\t21\t0\t0\t0\t0\t20\t0\t0\t30\t0\t0\t0\t0\t0\t0\t0\t0\t0\t0\t0\t0\t0\t0\t0\t0\t0\t0\t0\t0\t0\t0\t0\t0\t0\t0\t0\t0\t0\t0\t0\t0\t0\t0\t0\t0\t0\t0\t0\t0\t0\t0\t0\t0\t0\t0\t0\t0\t0\t0\t0\t0\t0\t0\t46\t0\t43\t0\t0\t9\t0\t79\t0\t0\t27\t0\t40\t0\t0\t80\t0\t0\t0\t0\t16\t0\t0\t0\t0\t0\t0\t0\t0\t0\t0\t0\t0\t0\t0\t0\t0\t0\t0\t0\t0\t0\t0\t0\t0\t0\t0\t0\t0\t0\t0\t0\t0\t0\r\n",
      "OTU_1000\t0\t0\t0\t0\t0\t0\t0\t0\t0\t0\t0\t0\t0\t0\t0\t2\t0\t0\t0\t0\t0\t0\t0\t0\t0\t1\t0\t0\t0\t0\t8\t0\t0\t2\t0\t0\t0\t0\t0\t0\t1\t0\t0\t0\t0\t16\t0\t0\t0\t0\t10\t0\t0\t0\t0\t0\t0\t0\t0\t0\t0\t0\t0\t0\t0\t0\t0\t0\t0\t0\t0\t0\t0\t0\t0\t0\t0\t0\t0\t0\t18\t0\t0\t0\t0\t1\t0\t0\t0\t0\t1\t0\t0\t0\t0\t0\t0\t0\t0\t0\t0\t0\t0\t0\t0\t0\t0\t0\t0\t0\t0\t0\t0\t13\t0\t0\t0\t0\t0\t0\t0\t0\t0\t0\t0\t0\t0\t0\t0\t0\t0\t0\t0\t0\t0\t2\t0\t0\t0\t0\t0\t0\t0\t0\t0\t0\t0\t0\t0\t0\t0\t0\t0\t0\t0\t0\t0\t0\t0\t0\t0\t0\t0\t0\t0\t0\t0\t0\t0\t0\t0\t0\t0\t0\t0\t0\t0\t0\t0\t0\t0\t0\r\n",
      "OTU_1001\t0\t0\t0\t0\t0\t0\t0\t0\t0\t0\t0\t0\t0\t0\t0\t2\t0\t0\t0\t0\t1\t0\t0\t0\t0\t0\t0\t0\t0\t0\t0\t0\t0\t0\t0\t0\t0\t0\t0\t0\t0\t0\t0\t0\t0\t0\t0\t0\t0\t0\t0\t0\t0\t0\t0\t3\t0\t0\t0\t0\t0\t0\t0\t0\t0\t0\t0\t0\t0\t0\t0\t0\t0\t0\t0\t0\t0\t0\t0\t0\t0\t0\t0\t0\t0\t0\t0\t0\t0\t0\t0\t0\t0\t0\t0\t0\t0\t0\t0\t0\t0\t0\t0\t0\t0\t0\t0\t0\t0\t0\t0\t0\t0\t0\t0\t0\t0\t0\t0\t0\t0\t0\t0\t0\t0\t0\t0\t0\t0\t0\t0\t0\t0\t0\t0\t0\t0\t0\t0\t0\t0\t0\t0\t0\t0\t0\t0\t0\t0\t0\t0\t0\t0\t0\t0\t0\t0\t0\t0\t0\t0\t0\t0\t0\t0\t0\t0\t0\t0\t0\t0\t0\t0\t0\t0\t0\t0\t0\t0\t0\t0\t0\r\n",
      "OTU_1002\t0\t0\t0\t0\t0\t0\t0\t0\t0\t0\t0\t0\t0\t0\t0\t1\t0\t0\t0\t0\t0\t0\t0\t0\t0\t0\t0\t0\t0\t0\t3\t0\t0\t0\t0\t0\t0\t0\t0\t0\t0\t0\t0\t0\t0\t0\t0\t0\t0\t0\t0\t0\t0\t0\t0\t1\t0\t0\t0\t0\t0\t0\t0\t0\t0\t0\t0\t0\t0\t0\t1\t0\t0\t0\t0\t0\t0\t0\t0\t0\t0\t0\t0\t0\t0\t0\t0\t0\t0\t0\t0\t0\t0\t0\t0\t0\t0\t0\t0\t0\t0\t0\t0\t0\t0\t0\t0\t0\t0\t0\t0\t0\t0\t0\t0\t0\t0\t0\t0\t0\t0\t0\t0\t0\t0\t0\t0\t0\t0\t0\t0\t0\t0\t0\t0\t0\t0\t0\t0\t0\t0\t0\t0\t0\t0\t0\t0\t0\t0\t0\t0\t0\t0\t0\t0\t0\t0\t0\t0\t0\t0\t0\t0\t0\t0\t0\t0\t0\t0\t0\t0\t0\t0\t0\t0\t0\t0\t0\t0\t0\t0\t0\r\n",
      "OTU_1003\t0\t0\t0\t0\t0\t0\t0\t0\t0\t0\t0\t0\t0\t0\t0\t4\t0\t0\t0\t0\t0\t0\t0\t0\t0\t0\t0\t0\t0\t0\t0\t0\t0\t0\t0\t1\t0\t0\t0\t0\t0\t0\t0\t0\t0\t5\t0\t0\t0\t0\t0\t0\t0\t0\t0\t1\t0\t0\t0\t0\t0\t0\t0\t0\t0\t0\t0\t0\t0\t0\t0\t0\t0\t0\t0\t0\t0\t0\t0\t0\t0\t0\t0\t0\t0\t0\t0\t0\t0\t0\t0\t0\t0\t0\t0\t0\t0\t0\t0\t0\t0\t0\t0\t0\t0\t0\t0\t0\t0\t0\t0\t0\t0\t0\t0\t0\t0\t0\t0\t0\t0\t0\t0\t0\t0\t0\t0\t0\t0\t0\t0\t0\t0\t0\t0\t0\t0\t0\t0\t0\t0\t0\t0\t0\t0\t0\t0\t0\t0\t0\t0\t0\t0\t0\t0\t0\t0\t0\t0\t0\t0\t0\t0\t0\t0\t0\t0\t0\t0\t0\t0\t0\t0\t0\t0\t0\t0\t0\t0\t0\t0\t0\r\n",
      "OTU_1004\t0\t0\t0\t0\t0\t0\t0\t0\t0\t0\t0\t0\t0\t0\t0\t1\t0\t0\t0\t0\t0\t0\t0\t0\t0\t0\t0\t0\t0\t0\t1\t0\t0\t0\t0\t0\t0\t0\t0\t0\t0\t0\t0\t0\t0\t0\t0\t0\t0\t0\t0\t0\t0\t1\t0\t0\t0\t0\t0\t0\t0\t0\t0\t0\t0\t0\t0\t0\t0\t0\t0\t0\t0\t0\t0\t0\t0\t0\t0\t0\t0\t0\t0\t0\t0\t0\t0\t0\t0\t0\t0\t0\t0\t0\t0\t0\t0\t0\t0\t0\t0\t0\t0\t0\t0\t0\t0\t0\t0\t0\t0\t0\t0\t0\t0\t0\t0\t0\t0\t0\t0\t0\t0\t0\t0\t0\t0\t0\t0\t0\t0\t0\t0\t0\t0\t0\t0\t0\t0\t0\t0\t0\t0\t0\t0\t0\t0\t0\t0\t0\t0\t0\t0\t0\t0\t0\t0\t0\t0\t0\t0\t0\t0\t0\t0\t0\t0\t0\t0\t0\t0\t0\t0\t0\t0\t0\t0\t0\t0\t0\t0\t0\r\n",
      "OTU_1005\t0\t0\t0\t0\t0\t0\t0\t0\t0\t0\t0\t0\t0\t0\t0\t1\t0\t0\t0\t0\t0\t0\t0\t0\t0\t0\t0\t0\t0\t0\t0\t0\t0\t0\t0\t0\t0\t0\t0\t0\t0\t0\t0\t0\t0\t0\t0\t0\t0\t0\t0\t0\t0\t0\t0\t0\t0\t0\t0\t0\t0\t0\t0\t0\t0\t0\t0\t0\t0\t0\t0\t0\t0\t0\t0\t0\t0\t0\t0\t0\t1\t0\t0\t0\t0\t1\t0\t0\t0\t0\t0\t0\t0\t1\t0\t0\t0\t0\t0\t0\t0\t0\t0\t0\t0\t0\t0\t0\t0\t0\t0\t0\t0\t0\t0\t0\t0\t0\t0\t0\t0\t0\t0\t0\t0\t0\t0\t0\t0\t0\t0\t0\t0\t0\t0\t2\t0\t0\t0\t0\t0\t0\t0\t0\t0\t0\t0\t0\t0\t0\t0\t0\t0\t0\t0\t0\t0\t0\t0\t0\t0\t0\t0\t0\t0\t0\t0\t0\t0\t0\t0\t0\t0\t0\t0\t0\t0\t0\t0\t0\t0\t0\r\n"
     ]
    }
   ],
   "source": [
    "!head $otutabout_file"
   ]
  },
  {
   "cell_type": "markdown",
   "metadata": {},
   "source": [
    "# Adding taxonomy"
   ]
  },
  {
   "cell_type": "markdown",
   "metadata": {},
   "source": [
    "### Taxonomy with vsearch sintax"
   ]
  },
  {
   "cell_type": "code",
   "execution_count": 63,
   "metadata": {
    "collapsed": false
   },
   "outputs": [
    {
     "name": "stdout",
     "output_type": "stream",
     "text": [
      ">LC146734|SH497095.07FU;tax=d:Fungi,p:Basidiomycota,c:Agaricomycetes,o:Agaricales,f:Tricholomataceae,g:Flagelloscypha,s:Flagelloscypha_japonica_SH497095.07FU;\r\n",
      "AGGTGAACCTGCGGAAGGATCATTATTGAATTTCACCGGTTTGGTCTGTTGCTGGTTCCGAAAGGTTCATGTGCACGCCTCGCCTCTGATATCTCACCACCTGTGAACTTTAGTGGGCTGTGACGGCCTTGTCTTCAGCAGTTTCGTGTTGGGTTTTGGGTACTTGTACCTGCCAATGCGCTCTGCTGGGGGGAGGTTTAGTCCAGTCTGCGCCCTTTTACACACTCTATTGTATGTCTAGAAAGTCCATTATCGGTCGGAAGACCTTTAATCTTACACAACTATTGACAACGGATCTCTTGGCTCACGCATCGATGAAGAACGCAGCGAAATGCGATAAGTAATGTGAATTGCAGATTTCAGTGAATCATCGAATCTTTGAACGCACCTTGCACCTTCTGGTATTCCGGAAGGTACATCTGTTTGAGTGTCATTAATCTCTCAACTCTACATGTTTTATTATGTGTATGTGTTGGTTGTGAGGGCTTGCGGGCGTCCTTTCAGTAGGATGCCAGCTCCCTTGAAATGCATTAGCTGGGAACTAGTACATGGGTTTGAGTGCTTCGATGCCTGAAGACCTCCTGGTGTGATAATTATCTACGCCGTTGGTTTAGTCGTTGCGCAACTGTGGAACTCTTTCTGCTTCTAACTGTCTCGCAAGGGACTAGTCCGCTTCAGGGCTACTTGACTAATGTGACCTCAAATCAGATGGGACTACCCGCTGAACTTAAGCATATCAATAAGCGGAGGAAAAGAAACTAACAAGGATTCCCCTAGTAACTGCGAGTGAAGCGGGAAAAGCTCAAATTTGAAATCTGGCTGTCGTATGGCAGTCCGAGTTGTAATTTCGAGAAGCAATGCCCGCGCTGGACCGTGCATAAGTCCTCTGGAAAGGGGTATCATAGAGGGTGACAATCCCGTCTTTGGTACGGACTCCCAGCGCATTGTGGTATGCTCTCAATGAGTCGAGTTGTTTGGGAATGCAGCTCAAAATGGGTGGTAAATTCCATCTAAAGCTAAATATTGGCGTGAGACCGATAGCGAACAAGTACCGTGAGGGAAAGATGAAAAGAACTTTGGAAAGAGAGTTAAACAGTACGTGAAATTGTCAATAGGGAAACGCTTGAAGTCAGTCGCGTTGCTCGGGGATCAGCCTTCCTTTTGGTTGGTGTACTTCCTGAGTGATGGGTCAACATCAGTTTTGATTGCTGGAGAAAGGTGCAAGGAATGTGGCTCCCTCGGGAGTGTTATAGCCTTGTGTCATATACAGTGGTTGGGACTGAGGAACTCAGCACGCCGCAAGGCAGCTCTTCGGAGACTTTCGTGCTTAGGATGTTGG\r\n",
      ">AF201716|SH204808.07FU;tax=d:Fungi,p:Ascomycota,c:Sordariomycetes,o:Xylariales,f:Xylariaceae,g:Annulohypoxylon,s:Annulohypoxylon_truncatum_SH204808.07FU;\r\n",
      "AAGTGTAACAAGGTCTCCGTTGGTGAACCAGCGGAGGGATCATTACCGAGTTATCACAACTCCAACCCTTTGTGAACCTTACCGTCGTTTCCTCGGCGCACTGCTGTGGGAGGCTACCCTGTAGCGGTTGTTTACCCTACAGGACGCACCCTGCAGCGGCGCCGAAAGGACTACCAAAACTCTTTTATCCAAGTTACCTCGAACAATTTACTATACAATAGTTTAAAACTTTCAACAACGGATCTCTTGGTTCTGGCATCGATGAAGAACGCAGCGAAATGCGATAAGTAATGTGAATTGCAGAATTCAGTGAATCATCGAATCTTTGAACGCACATTGCGCCCATTAGTATTCTAGTGGGCATGCCTATTCGAGCGTCATTTCAACCCTTAAGCCCTGTTGCTTAGCGTTGGGAATCTGCTAGCCTCGGCGCAGTTCCTTAAATTCATTGGCGGAGCTGTGGCACACTCTAGGCGTAGTAGTTTAACACCTCGCCTNCTAGAGTGGCCGCGGTTACTGGCCGTAAAACCCCCATATTTCTAGTGGTTGACCTCGGATTAGGTAGGAATACCCGCTGAACTTAA\r\n",
      ">JQ675327|SH489484.07FU;tax=d:Fungi,p:Basidiomycota,c:Agaricomycetes,o:Polyporales,f:Podoscyphaceae,g:Podoscypha,s:Podoscypha_involuta_SH489484.07FU;\r\n",
      "AAGAAATGTGGGAATGTTTCTTGGGGGAGAGAAACGAGAAGGTCTCGCTTTTTTGTTTGCTTGGGGTTTCGTTTTTAAACACACACACTATAAGTAGAAGAATTTTTTTTTTAAAATACTATTGACTGCGTTGCTCGTCGCAACGTGGACAAGCAGTATATATGTATACATACATACAACTTTCAGCAACGGATCTCTTGGCTCTCGCATCGATGAAGAACGCAGCGAAATGCGATAAGTAATGTGAATTGCAGAATCCAGTGAATCATCGAATCTTTGAACGCACCTTGCGCTCCTTGGTATTCCGAGGAGCATGCCTGTTTGAGTGTCATGGTATTCTCAAGTCCCGCCCCTCTCGCCTTTGCGTTCATTCACTCTTGAGCGTGTCAGGGTGGGAGGTTGGTCCAAGGGATTTGGACTTGGAGACATGCTGGAATTTCCGTAATTTCGGCTTCTCTAAAATGCAGTAGTGTGAACTTGTGGGTTGCACGTGACTCAGTGTGATAATTATCTGTGCTGTGTTGCGGGGGCGACCCGTCGCATCTGTGAACAACAGTTTGCTTTGCGGGGGGTTCATTGCTTTCAAACAGTCTGTTCGGT\r\n",
      ">UDB004660|SH465869.07FU;tax=d:Fungi,p:Basidiomycota,c:Agaricomycetes,o:Boletales;\r\n",
      "GGAAGGACATTATCGAAACAAATGGGGGGAAGACTGTCGCTGGCCCTCGGGCATGTGCACGTCGACCTCTTCATACACACACACCTGTGCACCTTTGGTAGGTCTTCGAAAGAGGATCTATGATTATCATCACACCCTGTCGTATGGCCAGAATGTCTATATCACATAATACAACTTTCAGCAACGGATCTCTTGGCTCTCGCATCGATGAAGAACGCAGCGAATTGCGATAAGTAATGTGAATTGCAGATTTTCAGTGAATCATCGAATCTTTGAACGCACCTTGCGCTCCTTGGTATTCCGAGGAGCATGCCTGTTTGAGTGTCATTGAATTCTCAACCATGTCTTGATTGATTTCAAGGCATTGGCTTGGACTGTGGGGGTTGCTGGCTGCGAAAGCGGTCGGCTCTCCTGAAATGCATTAGCAAGTCTCTTTGGACGTGCACGGCCTTTCGACGTGATAATGATCGTCGTGGCTGGAGCGTACACATGCTTGCTTCGAAAACCCTCTTGAGCTTCGGCTCAAATTGACTTGGAACTCGACCTCAAATCAGGNNNNNNNNNNNNNNNNNNNNNNNNNNNNNNNNNNNNNNNNNNNNNNNNNNNNNNNNNNNCCCCTAGTAACTGCGAGTGAAGCGGGATGAGCTCAAATTTTGAATCTGGTGGTGATTTCATCGTCCGAGTTGTAATCTAGAGAAGCGTTTTCCGCGCTGGACCGTGTACAAGTCTCCTGGAAGGGAGCGTCATAGAGGGTGAGAATCCCGTCTTTGACACGGACTGCCAGTGCTATGTGATGCGCTCTCGACGAGTCGAGTTGTTTGGGAATGCAGCTCAAAATGGGTGGTAAATTCCATCTAAAGCTAAATACAGGCGAGAGACCGATAGCGAACAAGTACCGTGAGGGAAAGACGAAAAGAACTTTGGAAAGAGAGTTAAACAGTACGTGAAATTGCTGAAAGGGAAACGCTTGACGTCAGTCGCGTTGGCCTGGGATCAACCTTGCTTCATTGCTGGGCGTACTTCCTGGTCGACGGGTCAGCATCAGTTTTGGTTCGCCGTACAAGGGCGAAGGGAATGTGGCACTCTTCGGAGTGTGTTATAGCCTTTCGTCGTATGCGGTGGTCGGGACTGAGGAACTCAGCACGGCTTCTTGCTTGTGCTTAGGATGCTGGCATAATGGCTTTAAGCGACCCGTCTTGAAACACGGACCAAG\r\n",
      ">EF014256|SH221479.07FU;tax=d:Fungi,p:Basidiomycota,c:Agaricomycetes,o:Agaricales,f:Cortinariaceae,g:Cortinarius,s:Cortinarius_eufulmineus_SH221479.07FU;\r\n",
      "GAAGGATCATTATTGAAATAAACTTGATAAGTTGATGCTGGCTCTCTAGGGAGCATGTGCACACTTGTCATCTTTGTATCTCCACCTGTGCACTTTTTGTAGACCTTGGGTATCTCTCTGATTGCTTTTTTAGCACTCAGGATTTGAGGATTGACTTTCTGTCTCTTCTTACATTTCCAGGTCTATGTTTCTTCAATTACCCTGATGTATGTTTATAGAATGTAGTCAAATGGGCCTTTGTGCCTATAAATTGATACAACTTTCAGCAACGGATCTCTTGGCTCTCGCATCGATGAAGAACGCAGCGAAATGCGATAAGTAATGTGAATTGCAGAATTCAGTGAATCATCGAATCTTTGAACGCACCTTGCGCTCCTTGGTATTCCGAGGAGCATGCCTGTTTGAGTGTCATTAATATATCAACCTTTTAGGTTGGATGTGGGTTTGCTGGCCACTTTTGAGGTCAACTTCCCTTAAATGCATTAGCGGACAACATTTTGCCAAATGTTCATTGGTGTGATAATTATCTACGCTTTTGACATTTAAGCATGGTTCAGCTTCTAACAGTCCATTGACTTGGACAAATTTATTAATGTGACCTCAAATCAGGTAGGACTACCCGCTGAACTTAAGCATATCAATAAGCGGAGGAAAAGAAACTAACAAGGATTCCCCTAGTAACTGCGAGTGAAGCGGGAAAAGCTCAAATTTAAAATCTGGCAGTCTTTGGCTGTCCGAGTTGTAATCTAGAGAAGCATTATCCGCGCTGGACCGTGTACAAGTCTCCTGGAATGGAGCGTCATAGAGGGTGAGAATCCCGTCTTTGACACGGACTACCAGGGCTTTGTGATGTGCTCTCAAAGAGTCGAGTTGTTTGGGAATGCAGCTCAAAATGGGTGGTAAATTCCATCTAAAGCTAAATATTGGCGAGAGACCGATAGCGAACAAGTACCGTGAGGGAAAGATGAAAAGAACTTTGGAAAGAGAGTTAAACAGTACGTGAAATTGCTGAAAGGGAAACGCTTAAAGTCAGTCGCGTTGTCCAGGGATCAACTCTTGCTTTTGCTTGGTGTATTTTCTGGTCAATGGGTCAGCATCAATTTTGACCATTGGAAAAAGATCAAGGGAATGTAGCATCTTTTAGATGTGTTATAGCCTTTGGTTGCATACATTGGTTGGGATTGAGGAACTCAGCACGCCGCAAGGCCGAGTTTTTTTAACTACGTACGTGCTTAGGATGCTGGCATAATGGCTTTAATCGACCC\r\n"
     ]
    }
   ],
   "source": [
    "!head $US_dbSeqs\n"
   ]
  },
  {
   "cell_type": "code",
   "execution_count": 64,
   "metadata": {
    "collapsed": false
   },
   "outputs": [
    {
     "name": "stdout",
     "output_type": "stream",
     "text": [
      "vsearch v2.8.0_linux_x86_64, 125.8GB RAM, 40 cores\n",
      "https://github.com/torognes/vsearch\n",
      "\n",
      "Reading file /home/sam/databases/UNITE/sintaxDB/utax_reference_dataset_01.12.2017.fasta 100%   \n",
      "WARNING: 3 invalid characters stripped from FASTA file:  (3)\n",
      "42413580 nt in 58049 seqs, min 216, max 7491, avg 731\n",
      "Counting k-mers 100%          \n",
      "Creating k-mer index 100%                                                \n",
      "Classifying sequences 100%                                                                                                                          \n",
      "Classified 1663 of 3737 sequences (44.50%)\n"
     ]
    }
   ],
   "source": [
    "taxfile = \"otu_tax_Vsintax_unite.txt\"\n",
    "!/home/sam/repo/vsearch-2.8.0/bin/vsearch --sintax $otu_file_noN \\\n",
    "    --db $US_dbSeqs \\\n",
    "    --tabbedout $taxfile \\\n",
    "    --sintax_cutoff 0.8 \\\n",
    "    --threads $nprocs"
   ]
  },
  {
   "cell_type": "code",
   "execution_count": 65,
   "metadata": {
    "collapsed": false
   },
   "outputs": [
    {
     "name": "stdout",
     "output_type": "stream",
     "text": [
      "OTU_4\t\t\t\t\r\n",
      "OTU_1\td:Plantae(1.00)\t+\td:Plantae\r\n",
      "OTU_10\t\t\t\t\r\n",
      "OTU_6\t\t\t\t\r\n",
      "OTU_2\td:Fungi(1.00),p:Ascomycota(0.98),c:Sordariomycetes(0.98),o:Chaetosphaeriales(0.98),f:Chaetosphaeriaceae(0.98),g:Chloridium(0.98)\t+\td:Fungi,p:Ascomycota,c:Sordariomycetes,o:Chaetosphaeriales,f:Chaetosphaeriaceae,g:Chloridium\r\n",
      "OTU_3\td:Fungi(1.00),p:Ascomycota(1.00),c:Sordariomycetes(1.00),o:Xylariales(1.00),f:Microdochiaceae(1.00),g:Microdochium(1.00)\t+\td:Fungi,p:Ascomycota,c:Sordariomycetes,o:Xylariales,f:Microdochiaceae,g:Microdochium\r\n",
      "OTU_7\td:Fungi(1.00),p:Ascomycota(1.00),c:Sordariomycetes(1.00),o:Hypocreales(1.00),f:Hypocreaceae(1.00),g:Trichoderma(1.00),s:Trichoderma_evansii_SH327536.07FU(0.81)\t+\td:Fungi,p:Ascomycota,c:Sordariomycetes,o:Hypocreales,f:Hypocreaceae,g:Trichoderma,s:Trichoderma_evansii_SH327536.07FU\r\n",
      "OTU_8\td:Fungi(1.00),p:Ascomycota(0.96),c:Sordariomycetes(0.96),o:Hypocreales(0.96),f:Nectriaceae(0.96),g:Fusarium(0.96),s:Fusarium_oxysporum_SH289658.07FU(0.58)\t+\td:Fungi,p:Ascomycota,c:Sordariomycetes,o:Hypocreales,f:Nectriaceae,g:Fusarium\r\n",
      "OTU_9\t\t\t\t\r\n",
      "OTU_11\t\t\t\t\r\n"
     ]
    }
   ],
   "source": [
    "!head $taxfile"
   ]
  },
  {
   "cell_type": "code",
   "execution_count": 66,
   "metadata": {
    "collapsed": false
   },
   "outputs": [
    {
     "name": "stdout",
     "output_type": "stream",
     "text": [
      "1532\r\n"
     ]
    }
   ],
   "source": [
    "!grep -c \"d:Fungi\" $taxfile"
   ]
  },
  {
   "cell_type": "code",
   "execution_count": 67,
   "metadata": {
    "collapsed": false
   },
   "outputs": [
    {
     "name": "stdout",
     "output_type": "stream",
     "text": [
      "3737\r\n"
     ]
    }
   ],
   "source": [
    "!grep -c \"OTU\" $taxfile"
   ]
  },
  {
   "cell_type": "code",
   "execution_count": 19,
   "metadata": {
    "collapsed": false
   },
   "outputs": [],
   "source": [
    "# make sure no existing biome file\n",
    "otu_biom_file = 'otu_table.biom'\n",
    "otuTax = os.path.join('sintax_output', 'sintax_table_unite_97_otu_reformatted.txt')\n",
    "\n",
    "otu_biom_tax_file = 'otu_table_wtax.biom'\n",
    "if os.path.isfile(otu_biom_tax_file):\n",
    "    os.unlink(otu_biom_tax_file)\n",
    "    \n",
    "# bio add-metadata\n",
    "cmd = \"\"\"biom add-metadata -i {} -o {} \\\n",
    "    --observation-metadata-fp {} \\\n",
    "    --sc-separated taxonomy \\\n",
    "    --float-fields consensus \\\n",
    "    --int-fields numhits \\\n",
    "    --observation-header OTUID,taxonomy,consensus,numhits\"\"\"\n",
    "cmd = cmd.format(otu_biom_file, otu_biom_tax_file, otuTax)\n",
    "!$cmd"
   ]
  },
  {
   "cell_type": "markdown",
   "metadata": {
    "collapsed": true
   },
   "source": [
    "# Final files"
   ]
  },
  {
   "cell_type": "code",
   "execution_count": 68,
   "metadata": {
    "collapsed": false
   },
   "outputs": [
    {
     "name": "stdout",
     "output_type": "stream",
     "text": [
      "OTU table: final.otutab.txt\n",
      "OTU file: otu_noN.fasta\n",
      "Taxonomy file: otu_tax_Vsintax_unite.txt\n"
     ]
    }
   ],
   "source": [
    "print ('OTU table: {}'.format(otutabout_file))\n",
    "print ('OTU file: {}'.format(otu_file_noN))\n",
    "print ('Taxonomy file: {}'.format(taxfile))"
   ]
  },
  {
   "cell_type": "code",
   "execution_count": 69,
   "metadata": {
    "collapsed": false
   },
   "outputs": [
    {
     "name": "stdout",
     "output_type": "stream",
     "text": [
      "3737\n",
      "3737\n",
      "3737\n"
     ]
    }
   ],
   "source": [
    "# Number of OTUs\n",
    "!grep -c \"OTU_\" $otutabout_file\n",
    "!grep -c \">\" $otu_file_noN\n",
    "!grep -c \"OTU_\" $taxfile"
   ]
  },
  {
   "cell_type": "code",
   "execution_count": 70,
   "metadata": {
    "collapsed": false
   },
   "outputs": [
    {
     "name": "stdout",
     "output_type": "stream",
     "text": [
      "Total number of samples: 182\r\n"
     ]
    }
   ],
   "source": [
    "# total number of samples\n",
    "sys.stdout.write('Total number of samples: ')\n",
    "!head -n 1 $otutabout_file | perl -pe 's/[^\\t]+\\t//; s/\\t/\\n/g' | wc -l"
   ]
  },
  {
   "cell_type": "markdown",
   "metadata": {
    "collapsed": true
   },
   "source": [
    "# Playground\n",
    "This is where code testing happens"
   ]
  },
  {
   "cell_type": "code",
   "execution_count": 154,
   "metadata": {
    "collapsed": false
   },
   "outputs": [
    {
     "name": "stdout",
     "output_type": "stream",
     "text": [
      ">2-3-L_4;size=4768318;\r\n",
      "TTGTCGAAACCTGCAACAGCAGAACGACCCGTGAACACGTTTTAAACAGCTTGGGCGGGCGAGAGGAGCTTGCTCCTTGGACCCGCCCGCACCTGCTGGGAGAAATCTCGGCGGGCTAACGAACCCCGGCGCAATCTGCGCCAAGGAACAATAAAAGATTATCGCGTGGCTCGTGCGGTGGCCCGGAGACGGTGTCCGCCAATCGAGATGCGTGTTTATCGAAATGTCTAAACGACTCTCGGCAACGGATATCTCGGCTCTCGCNNNNNNNNNNNNNNNNNNNNNNNNNNNNNNNNNNNNNNNNNNNNNNNNNNNNNNNNNNNNNNNNNNNNNNNNNNNNNNNNNNNNNNNNNNNNNNNNNNNNNNNNNNNNNNNNNNNNNNNNNNNNNNNNNNNNNNNNNNNNNNNNNNNNNNNNNNNNNNNNNNNNNNNN\r\n"
     ]
    }
   ],
   "source": [
    "!head -n 2 $qcFinalUniq"
   ]
  },
  {
   "cell_type": "code",
   "execution_count": null,
   "metadata": {
    "collapsed": true
   },
   "outputs": [],
   "source": []
  }
 ],
 "metadata": {
  "anaconda-cloud": {},
  "hide_input": true,
  "kernelspec": {
   "display_name": "Python 3",
   "language": "python",
   "name": "python3"
  },
  "language_info": {
   "codemirror_mode": {
    "name": "ipython",
    "version": 3
   },
   "file_extension": ".py",
   "mimetype": "text/x-python",
   "name": "python",
   "nbconvert_exporter": "python",
   "pygments_lexer": "ipython3",
   "version": "3.6.4"
  },
  "notify_time": "5"
 },
 "nbformat": 4,
 "nbformat_minor": 1
}
