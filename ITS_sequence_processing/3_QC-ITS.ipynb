{
 "cells": [
  {
   "cell_type": "markdown",
   "metadata": {},
   "source": [
    "# Description\n",
    "\n",
    "* Quality control on MiSeq run data\n",
    "  * post-merging\n",
    "  * post-demultiplexing\n",
    "  \n",
    "This notebook is built off Buckley lab SOP with additional ITS specific pipeline components from Steven Higgins"
   ]
  },
  {
   "cell_type": "markdown",
   "metadata": {},
   "source": [
    "# Setting variables"
   ]
  },
  {
   "cell_type": "code",
   "execution_count": 3,
   "metadata": {
    "collapsed": true
   },
   "outputs": [],
   "source": [
    "import os\n",
    "\n",
    "## What directory do you want to work in and keep all subsequent files in?\n",
    "baseDir = '/home/sam/notebooks/hemp_microbiome/data/ITS_OTUs/'\n",
    "\n",
    "## What do you want to call the sub-directory that contains the QC files\n",
    "workDir = os.path.join(baseDir, 'QC')\n",
    "\n",
    "## What is your sequence file called?\n",
    "seqFile = os.path.join(baseDir, 'merge_demult', 'pear_merged_hemp_ITS.assembled.dmult.fastq')\n",
    "\n",
    "## Where are your sequencing adapters for cutadapt?\n",
    "adaptFile = '/home/sam/notebooks/hemp_microbiome/data/buckley_lab_cutadapt_primers.txt'\n",
    "\n",
    "## Where do you want your temporary directory?\n",
    "tempDir = './tmp'\n",
    "\n",
    "# How many processors do you want to use for multi-processing\n",
    "nprocs = 10\n",
    "\n",
    "# What is your maximum expected error threshold?\n",
    "maxee = 1"
   ]
  },
  {
   "cell_type": "markdown",
   "metadata": {},
   "source": [
    "# Init"
   ]
  },
  {
   "cell_type": "code",
   "execution_count": 4,
   "metadata": {
    "collapsed": true
   },
   "outputs": [],
   "source": [
    "import re\n",
    "import pandas as pd"
   ]
  },
  {
   "cell_type": "code",
   "execution_count": 5,
   "metadata": {
    "collapsed": false
   },
   "outputs": [],
   "source": [
    "%load_ext rpy2.ipython\n",
    "#%load_ext pushnote"
   ]
  },
  {
   "cell_type": "code",
   "execution_count": 6,
   "metadata": {
    "collapsed": false
   },
   "outputs": [
    {
     "name": "stderr",
     "output_type": "stream",
     "text": [
      "/home/sam/anaconda3/lib/python3.6/site-packages/rpy2/rinterface/__init__.py:145: RRuntimeWarning: \n",
      "Attaching package: ‘dplyr’\n",
      "\n",
      "\n",
      "  warnings.warn(x, RRuntimeWarning)\n",
      "/home/sam/anaconda3/lib/python3.6/site-packages/rpy2/rinterface/__init__.py:145: RRuntimeWarning: The following objects are masked from ‘package:stats’:\n",
      "\n",
      "    filter, lag\n",
      "\n",
      "\n",
      "  warnings.warn(x, RRuntimeWarning)\n",
      "/home/sam/anaconda3/lib/python3.6/site-packages/rpy2/rinterface/__init__.py:145: RRuntimeWarning: The following objects are masked from ‘package:base’:\n",
      "\n",
      "    intersect, setdiff, setequal, union\n",
      "\n",
      "\n",
      "  warnings.warn(x, RRuntimeWarning)\n",
      "/home/sam/anaconda3/lib/python3.6/site-packages/rpy2/rinterface/__init__.py:145: RRuntimeWarning: \n",
      "Attaching package: ‘gridExtra’\n",
      "\n",
      "\n",
      "  warnings.warn(x, RRuntimeWarning)\n",
      "/home/sam/anaconda3/lib/python3.6/site-packages/rpy2/rinterface/__init__.py:145: RRuntimeWarning: The following object is masked from ‘package:dplyr’:\n",
      "\n",
      "    combine\n",
      "\n",
      "\n",
      "  warnings.warn(x, RRuntimeWarning)\n"
     ]
    }
   ],
   "source": [
    "%%R\n",
    "library(ggplot2)\n",
    "library(dplyr)\n",
    "library(tidyr)\n",
    "library(gridExtra)"
   ]
  },
  {
   "cell_type": "code",
   "execution_count": 7,
   "metadata": {
    "collapsed": false
   },
   "outputs": [
    {
     "name": "stdout",
     "output_type": "stream",
     "text": [
      "QC directory does not exist. Making in now\n",
      "/home/sam/notebooks/hemp_microbiome/data/ITS_OTUs/QC\n"
     ]
    }
   ],
   "source": [
    "## Go into your QC directory. If it doesnt exist, this command will also generate it/\n",
    "if not os.path.isdir(workDir):\n",
    "    print (\"QC directory does not exist. Making in now\")\n",
    "    os.makedirs(workDir)\n",
    "%cd $workDir"
   ]
  },
  {
   "cell_type": "code",
   "execution_count": 8,
   "metadata": {
    "collapsed": false
   },
   "outputs": [],
   "source": [
    "# symlinking demult seq file into QC\n",
    "tmp = os.path.split(seqFile)[1]\n",
    "tmp = os.path.join(workDir, tmp)\n",
    "if not os.path.isfile(tmp):\n",
    "    os.symlink(seqFile, tmp)\n",
    "else:\n",
    "    print ('File exists: {}'.format(seqFile))\n"
   ]
  },
  {
   "cell_type": "markdown",
   "metadata": {},
   "source": [
    "# Remove adapter/primer contaminants - __DONT RUN__\n"
   ]
  },
  {
   "cell_type": "markdown",
   "metadata": {},
   "source": [
    "This step makes sure that all you have in your sequence is the ITS region. This section is a modified version of code from Steve Higgins."
   ]
  },
  {
   "cell_type": "code",
   "execution_count": 7,
   "metadata": {
    "collapsed": true
   },
   "outputs": [],
   "source": [
    "# Function to parse the adapters file input to cutadapt\n",
    "def adapt(adf):\n",
    "    vlis = []\n",
    "    for i in range(len(adf)):\n",
    "        l = adf[i].rstrip()\n",
    "        vlis.append(l)\n",
    "    return vlis"
   ]
  },
  {
   "cell_type": "code",
   "execution_count": 8,
   "metadata": {
    "collapsed": false
   },
   "outputs": [
    {
     "name": "stdout",
     "output_type": "stream",
     "text": [
      "cutadapt -n 2 -b AATGATACGGCGACCACCGAGATCTACACATCGTACGTATGGTAATTGTGTGCCAGCMGCCGCGGTAA -b AATGATACGGCGACCACCGAGATCTACACACTATCTGTATGGTAATTGTGTGCCAGCMGCCGCGGTAA -b AATGATACGGCGACCACCGAGATCTACACTAGCGAGTTATGGTAATTGTGTGCCAGCMGCCGCGGTAA -b AATGATACGGCGACCACCGAGATCTACACCTGCGTGTTATGGTAATTGTGTGCCAGCMGCCGCGGTAA -b AATGATACGGCGACCACCGAGATCTACACTCATCGAGTATGGTAATTGTGTGCCAGCMGCCGCGGTAA -b AATGATACGGCGACCACCGAGATCTACACCGTGAGTGTATGGTAATTGTGTGCCAGCMGCCGCGGTAA -b AATGATACGGCGACCACCGAGATCTACACGGATATCTTATGGTAATTGTGTGCCAGCMGCCGCGGTAA -b AATGATACGGCGACCACCGAGATCTACACGACACCGTTATGGTAATTGTGTGCCAGCMGCCGCGGTAA -b AATGATACGGCGACCACCGAGATCTACACCTACTATATATGGTAATTGTGTGCCAGCMGCCGCGGTAA -b AATGATACGGCGACCACCGAGATCTACACCGTTACTATATGGTAATTGTGTGCCAGCMGCCGCGGTAA -b AATGATACGGCGACCACCGAGATCTACACAGAGTCACTATGGTAATTGTGTGCCAGCMGCCGCGGTAA -b AATGATACGGCGACCACCGAGATCTACACTACGAGACTATGGTAATTGTGTGCCAGCMGCCGCGGTAA -b AATGATACGGCGACCACCGAGATCTACACACGTCTCGTATGGTAATTGTGTGCCAGCMGCCGCGGTAA -b AATGATACGGCGACCACCGAGATCTACACTCGACGAGTATGGTAATTGTGTGCCAGCMGCCGCGGTAA -b AATGATACGGCGACCACCGAGATCTACACGATCGTGTTATGGTAATTGTGTGCCAGCMGCCGCGGTAA -b AATGATACGGCGACCACCGAGATCTACACGTCAGATATATGGTAATTGTGTGCCAGCMGCCGCGGTAA -b CAAGCAGAAGACGGCATACGAGATAACTCTCGAGTCAGTCAGCCGGACTACHVGGGTWTCTAAT -b CAAGCAGAAGACGGCATACGAGATACTATGTCAGTCAGTCAGCCGGACTACHVGGGTWTCTAAT -b CAAGCAGAAGACGGCATACGAGATAGTAGCGTAGTCAGTCAGCCGGACTACHVGGGTWTCTAAT -b CAAGCAGAAGACGGCATACGAGATCAGTGAGTAGTCAGTCAGCCGGACTACHVGGGTWTCTAAT -b CAAGCAGAAGACGGCATACGAGATCGTACTCAAGTCAGTCAGCCGGACTACHVGGGTWTCTAAT -b CAAGCAGAAGACGGCATACGAGATCTACGCAGAGTCAGTCAGCCGGACTACHVGGGTWTCTAAT -b CAAGCAGAAGACGGCATACGAGATGGAGACTAAGTCAGTCAGCCGGACTACHVGGGTWTCTAAT -b CAAGCAGAAGACGGCATACGAGATGTCGCTCGAGTCAGTCAGCCGGACTACHVGGGTWTCTAAT -b CAAGCAGAAGACGGCATACGAGATGTCGTAGTAGTCAGTCAGCCGGACTACHVGGGTWTCTAAT -b CAAGCAGAAGACGGCATACGAGATTAGCAGACAGTCAGTCAGCCGGACTACHVGGGTWTCTAAT -b CAAGCAGAAGACGGCATACGAGATTCATAGACAGTCAGTCAGCCGGACTACHVGGGTWTCTAAT -b CAAGCAGAAGACGGCATACGAGATTCGCTATAAGTCAGTCAGCCGGACTACHVGGGTWTCTAAT -b AATGATACGGCGACCACCGAGATCTACACATCGTACGTATGGTAATTGTRCCWGYGGRRGGATCA -b AATGATACGGCGACCACCGAGATCTACACACTATCTGTATGGTAATTGTRCCWGYGGRRGGATCA -b AATGATACGGCGACCACCGAGATCTACACTAGCGAGTTATGGTAATTGTRCCWGYGGRRGGATCA -b AATGATACGGCGACCACCGAGATCTACACCTGCGTGTTATGGTAATTGTRCCWGYGGRRGGATCA -b AATGATACGGCGACCACCGAGATCTACACTCATCGAGTATGGTAATTGTRCCWGYGGRRGGATCA -b AATGATACGGCGACCACCGAGATCTACACCGTGAGTGTATGGTAATTGTRCCWGYGGRRGGATCA -b AATGATACGGCGACCACCGAGATCTACACGGATATCTTATGGTAATTGTRCCWGYGGRRGGATCA -b AATGATACGGCGACCACCGAGATCTACACGACACCGTTATGGTAATTGTRCCWGYGGRRGGATCA -b CAAGCAGAAGACGGCATACGAGATAACTCTCGAGTCAGTCAGCCCTGCGTTCTTCATCGAT -b CAAGCAGAAGACGGCATACGAGATACTATGTCAGTCAGTCAGCCCTGCGTTCTTCATCGAT -b CAAGCAGAAGACGGCATACGAGATAGTAGCGTAGTCAGTCAGCCCTGCGTTCTTCATCGAT -b CAAGCAGAAGACGGCATACGAGATCAGTGAGTAGTCAGTCAGCCCTGCGTTCTTCATCGAT -b CAAGCAGAAGACGGCATACGAGATCGTACTCAAGTCAGTCAGCCCTGCGTTCTTCATCGAT -b CAAGCAGAAGACGGCATACGAGATCTACGCAGAGTCAGTCAGCCCTGCGTTCTTCATCGAT -b CAAGCAGAAGACGGCATACGAGATGGAGACTAAGTCAGTCAGCCCTGCGTTCTTCATCGAT -b CAAGCAGAAGACGGCATACGAGATGTCGCTCGAGTCAGTCAGCCCTGCGTTCTTCATCGAT -b CAAGCAGAAGACGGCATACGAGATGTCGTAGTAGTCAGTCAGCCCTGCGTTCTTCATCGAT -b CAAGCAGAAGACGGCATACGAGATTAGCAGACAGTCAGTCAGCCCTGCGTTCTTCATCGAT -b CAAGCAGAAGACGGCATACGAGATTCATAGACAGTCAGTCAGCCCTGCGTTCTTCATCGAT -b CAAGCAGAAGACGGCATACGAGATTCGCTATAAGTCAGTCAGCCCTGCGTTCTTCATCGAT -b CAAGCAGAAGACGGCATACGAGATAAGTCGAGAGTCAGTCAGCCCTGCGTTCTTCATCGAT -b CAAGCAGAAGACGGCATACGAGATATACTTCGAGTCAGTCAGCCCTGCGTTCTTCATCGAT -b CAAGCAGAAGACGGCATACGAGATAGCTGCTAAGTCAGTCAGCCCTGCGTTCTTCATCGAT -b CAAGCAGAAGACGGCATACGAGATCATAGAGAAGTCAGTCAGCCCTGCGTTCTTCATCGAT -b CAAGCAGAAGACGGCATACGAGATCGTAGATCAGTCAGTCAGCCCTGCGTTCTTCATCGAT -b CAAGCAGAAGACGGCATACGAGATCTCGTTACAGTCAGTCAGCCCTGCGTTCTTCATCGAT -b CAAGCAGAAGACGGCATACGAGATGCGCACGTAGTCAGTCAGCCCTGCGTTCTTCATCGAT -b CAAGCAGAAGACGGCATACGAGATGGTACTATAGTCAGTCAGCCCTGCGTTCTTCATCGAT -b CAAGCAGAAGACGGCATACGAGATGTATACGCAGTCAGTCAGCCCTGCGTTCTTCATCGAT -b CAAGCAGAAGACGGCATACGAGATTACGAGCAAGTCAGTCAGCCCTGCGTTCTTCATCGAT -b CAAGCAGAAGACGGCATACGAGATTCAGCGTTAGTCAGTCAGCCCTGCGTTCTTCATCGAT -b CAAGCAGAAGACGGCATACGAGATTCGCTACGAGTCAGTCAGCCCTGCGTTCTTCATCGAT -O 5 --match-read-wildcards -j 20 -o pear_merged_hemp_ITS.assembled.dmult.cutadapt.fastq /home/sam/notebooks/hemp_microbiome/data/ITS_OTUs/pear_merged_hemp_ITS.assembled.dmult.fastq\n"
     ]
    }
   ],
   "source": [
    "# Name your output\n",
    "qcFile = os.path.split(seqFile)[1].replace('fastq', 'cutadapt.fastq')\n",
    "qcFile\n",
    "\n",
    "# the number of cutadapt processes to run simultaneously\n",
    "steps = 5\n",
    "\n",
    "# Read adaptor sequences\n",
    "lis = adapt(open(adaptFile).readlines())\n",
    "\n",
    "# Run cutadapt\n",
    "cmdarr = 'cutadapt -n 2 -b ' + ' -b '.join(lis) + ' -O 5 --match-read-wildcards -j ' + str(nprocs) + ' -o ' + qcFile + ' ' + seqFile\n",
    "\n",
    "print (cmdarr)\n",
    "#os.system(cmdarr)\n",
    "\n",
    "    # remove sequences that were not trimmed\n",
    "    #os.system('cutadapt -n 2 -b ' + ' -b '.join(lis) + ' --discard-untrimmed --match-read-wildcards -o ' + fq + '.cutadapt ' + fq + ' 2>&1 > cutadapt.log')"
   ]
  },
  {
   "cell_type": "markdown",
   "metadata": {},
   "source": [
    "# Merged read quality filtering"
   ]
  },
  {
   "cell_type": "markdown",
   "metadata": {},
   "source": [
    "## Discard sequences that exceed max expected error theshold"
   ]
  },
  {
   "cell_type": "code",
   "execution_count": 12,
   "metadata": {
    "collapsed": false
   },
   "outputs": [
    {
     "name": "stdout",
     "output_type": "stream",
     "text": [
      "/home/sam/notebooks/hemp_microbiome/data/ITS_OTUs/merge_demult/pear_merged_hemp_ITS.assembled.dmult_maxee1.fasta\n"
     ]
    }
   ],
   "source": [
    "qcFile = os.path.splitext(seqFile)[0] + '_maxee{}.fasta'.format(maxee)\n",
    "qcFile = os.path.join(workDir, qcFile)\n",
    "print (qcFile)"
   ]
  },
  {
   "cell_type": "code",
   "execution_count": 13,
   "metadata": {
    "collapsed": false
   },
   "outputs": [],
   "source": [
    "%%bash -s \"$seqFile\" \"$nprocs\" \"$maxee\" \"$qcFile\"\n",
    "\n",
    "mkdir /home/sam/tmp/tmpdir1\n",
    "trap \"rm -r /home/sam/tmp/tmpdir1\" 1 2 3 15\n",
    "split -d -l 2000000 $1 /home/sam/tmp/tmpdir1/Block\n",
    "\n",
    "mkdir /home/sam/tmp/tmpdir2\n",
    "trap \"rm -r /home/sam/tmp/tmpdir2\" 1 2 3 15\n",
    "ls /home/sam/tmp/tmpdir1/Block?? | parallel --gnu -j $2 -k \"usearch -fastq_filter {} -fastq_maxee $3 \\\n",
    "-fastaout /home/sam/tmp/tmpdir2/{#}.fasta >/dev/null 2>&1 && cat /home/sam/tmp/tmpdir2/{#}.fasta\" > $4\n",
    "rm -r /home/sam/tmp/tmpdir2 /home/sam/tmp/tmpdir1"
   ]
  },
  {
   "cell_type": "code",
   "execution_count": 14,
   "metadata": {
    "collapsed": false
   },
   "outputs": [
    {
     "name": "stdout",
     "output_type": "stream",
     "text": [
      "Max expected error cutoff: 1\n",
      "Number of sequence pre-filter: 10581210\n",
      "Number of sequences post-filter: 10261702\n",
      "\n",
      ">3-4-L_1 orig_name=M02465:428:000000000-BND2L:1:2106:14752:1731\n",
      "TTGTCGAAACCTGCAACAGCAGAACGACCCGTGAACACGTTTTAAACAGCTTGGGCGGGCGAGAGGAGCTTGCTCCTTGG\n",
      "ACCCGCCCGCACCTGCTGGGAGAAATCTCGGCGGGCTAACGAACCCCGGCGCAATCTGCGCCAAGGAACAAGAAAAGATT\n",
      "ATCGCGTGGCTCGTGCGGTGGCCCGGAGACGGTGTCCGCCAATCGAGATGCGTGTTTATCGAAATGTCTAAACGACTCTC\n",
      "GGCAACGGATATCTCGGCTCTCGG\n",
      ">3-1-RT_3 orig_name=M02465:428:000000000-BND2L:1:2106:11478:1736\n",
      "TTGTCGAAACCTGCAACAGCAGAACGACCCGTGAACACGTTTTAAACAGCTTGGGCGGGCGAGAGGAGCTTGCTCCTTGG\n",
      "ACCCGCCCGCACCTGCTGGGAGAAATCTCGGCGGGCTAACGAACCCCGGCGCAATCTGCGCCAAGGAACAAGAAAAGATT\n"
     ]
    }
   ],
   "source": [
    "%%bash -s \"$seqFile\" \"$nprocs\" \"$maxee\" \"$qcFile\"\n",
    "\n",
    "printf \"Max expected error cutoff: \"\n",
    "echo $3\n",
    "\n",
    "printf \"Number of sequence pre-filter: \"\n",
    "grep -c \"orig_name=\" $1\n",
    "\n",
    "printf \"Number of sequences post-filter: \"\n",
    "grep -c \">\" $4\n",
    "\n",
    "echo '' \n",
    "head -n 8 $4"
   ]
  },
  {
   "cell_type": "markdown",
   "metadata": {},
   "source": [
    "## Remove seqs with 'N' characters"
   ]
  },
  {
   "cell_type": "code",
   "execution_count": 15,
   "metadata": {
    "collapsed": false
   },
   "outputs": [
    {
     "data": {
      "text/plain": [
       "'/home/sam/notebooks/hemp_microbiome/data/ITS_OTUs/merge_demult/pear_merged_hemp_ITS.assembled.dmult_maxee1_noN.fasta'"
      ]
     },
     "execution_count": 15,
     "metadata": {},
     "output_type": "execute_result"
    }
   ],
   "source": [
    "qcFile2 = os.path.splitext(qcFile)[0] + '_noN.fasta'\n",
    "qcFile2"
   ]
  },
  {
   "cell_type": "code",
   "execution_count": 16,
   "metadata": {
    "collapsed": false
   },
   "outputs": [
    {
     "name": "stdout",
     "output_type": "stream",
     "text": [
      "Number of sequence pre-filter: 10261702\n",
      "Number of sequences post-filter: 10261702\n"
     ]
    }
   ],
   "source": [
    "%%bash -s \"$qcFile\" \"$qcFile2\"\n",
    "\n",
    "bioawk -c fastx '{if ($seq !~ /N/){print \">\" $name \" \" $4 \"\\n\" $seq}}' $1 > $2\n",
    "\n",
    "printf \"Number of sequence pre-filter: \"\n",
    "grep -c \">\" $1\n",
    "\n",
    "printf \"Number of sequences post-filter: \"\n",
    "grep -c \">\" $2"
   ]
  },
  {
   "cell_type": "markdown",
   "metadata": {},
   "source": [
    "## Identify unique sequences"
   ]
  },
  {
   "cell_type": "code",
   "execution_count": 17,
   "metadata": {
    "collapsed": false
   },
   "outputs": [
    {
     "name": "stdout",
     "output_type": "stream",
     "text": [
      "3-4-L_1\t3-4-L\n",
      "3-1-RT_3\t3-1-RT\n",
      "2-3-L_4\t2-3-L\n",
      "2-5-RT_6\t2-5-RT\n",
      "1-4-RT_7\t1-4-RT\n",
      "2-2-F_8\t2-2-F\n",
      "6-3-RT_9\t6-3-RT\n",
      "M5-1_10\tM5-1\n",
      "F2-1_11\tF2-1\n",
      "1-1-RT_12\t1-1-RT\n"
     ]
    }
   ],
   "source": [
    "%%bash -s \"$qcFile2\"\n",
    "# making mothur group file\n",
    "\n",
    "perl -ne 'if(/^>/){ s/>(.+)(_\\d+) .+/$1$2\\t$1/; print;}' $1 > group_file.txt\n",
    "head group_file.txt"
   ]
  },
  {
   "cell_type": "code",
   "execution_count": 18,
   "metadata": {
    "collapsed": false
   },
   "outputs": [
    {
     "name": "stdout",
     "output_type": "stream",
     "text": [
      "3-4-L_1\t3-4-L\r\n",
      "3-1-RT_3\t3-1-RT\r\n",
      "2-3-L_4\t2-3-L\r\n",
      "2-5-RT_6\t2-5-RT\r\n",
      "1-4-RT_7\t1-4-RT\r\n",
      "2-2-F_8\t2-2-F\r\n",
      "6-3-RT_9\t6-3-RT\r\n",
      "M5-1_10\tM5-1\r\n",
      "F2-1_11\tF2-1\r\n",
      "1-1-RT_12\t1-1-RT\r\n",
      "3-1-RT_13\t3-1-RT\r\n",
      "3-4-L_14\t3-4-L\r\n",
      "F4-3_15\tF4-3\r\n",
      "3-1-RT_16\t3-1-RT\r\n",
      "6-3-RT_20\t6-3-RT\r\n",
      "3-1-RT_21\t3-1-RT\r\n",
      "3-1-RT_22\t3-1-RT\r\n",
      "5-5-RT_23\t5-5-RT\r\n",
      "5-5-RT_24\t5-5-RT\r\n",
      "M2-1_25\tM2-1\r\n",
      "5-2-F_26\t5-2-F\r\n",
      "3-1-RT_27\t3-1-RT\r\n",
      "1-3-RT_28\t1-3-RT\r\n",
      "1-5-RT_30\t1-5-RT\r\n",
      "4-1-RS_32\t4-1-RS\r\n",
      "4-4-F_34\t4-4-F\r\n",
      "1-4-RT_35\t1-4-RT\r\n",
      "4-1-RS_39\t4-1-RS\r\n",
      "F1-2_40\tF1-2\r\n",
      "3-3-RT_41\t3-3-RT\r\n",
      "6-5-RT_43\t6-5-RT\r\n",
      "4-1-RT_44\t4-1-RT\r\n",
      "1-5-L_45\t1-5-L\r\n",
      "6-1-F_46\t6-1-F\r\n",
      "3-3-RT_47\t3-3-RT\r\n",
      "1-5-F_48\t1-5-F\r\n",
      "4-1-RT_49\t4-1-RT\r\n",
      "3-1-RT_50\t3-1-RT\r\n",
      "M5-3_52\tM5-3\r\n",
      "2-2-F_53\t2-2-F\r\n",
      "5-4-L_54\t5-4-L\r\n",
      "5-5-L_55\t5-5-L\r\n",
      "4-5-F_57\t4-5-F\r\n",
      "4-1-F_58\t4-1-F\r\n",
      "F4-1_59\tF4-1\r\n",
      "3-4-F_60\t3-4-F\r\n",
      "3-5-F_61\t3-5-F\r\n",
      "4-5-RT_62\t4-5-RT\r\n",
      "3-5-F_63\t3-5-F\r\n",
      "3-1-F_64\t3-1-F\r\n",
      "2-1-F_66\t2-1-F\r\n",
      "2-1-F_67\t2-1-F\r\n",
      "2-2-RT_68\t2-2-RT\r\n",
      "6-1-RT_69\t6-1-RT\r\n",
      "4-4-RT_70\t4-4-RT\r\n",
      "2-4-L_71\t2-4-L\r\n",
      "4-4-F_72\t4-4-F\r\n",
      "3-1-RT_73\t3-1-RT\r\n",
      "4-2-F_74\t4-2-F\r\n",
      "5-2-L_75\t5-2-L\r\n",
      "3-1-RT_76\t3-1-RT\r\n",
      "F3-2_78\tF3-2\r\n",
      "2-1-RT_79\t2-1-RT\r\n",
      "4-1-RT_80\t4-1-RT\r\n",
      "M2-3_81\tM2-3\r\n",
      "5-1-F_83\t5-1-F\r\n",
      "1-4-RS_84\t1-4-RS\r\n",
      "1-4-F_85\t1-4-F\r\n",
      "4-4-RT_86\t4-4-RT\r\n",
      "2-1-RT_87\t2-1-RT\r\n",
      "2-3-RT_88\t2-3-RT\r\n",
      "6-3-F_89\t6-3-F\r\n",
      "2-2-RS_90\t2-2-RS\r\n",
      "1-5-RT_91\t1-5-RT\r\n",
      "3-1-RT_94\t3-1-RT\r\n",
      "3-1-RT_95\t3-1-RT\r\n",
      "4-5-RT_96\t4-5-RT\r\n",
      "4-1-RT_97\t4-1-RT\r\n",
      "1-5-F_98\t1-5-F\r\n",
      "3-1-RT_99\t3-1-RT\r\n",
      "M1-1_101\tM1-1\r\n",
      "3-4-L_102\t3-4-L\r\n",
      "2-2-RS_103\t2-2-RS\r\n",
      "3-1-RT_104\t3-1-RT\r\n",
      "3-3-RT_105\t3-3-RT\r\n",
      "6-3-RT_106\t6-3-RT\r\n",
      "3-1-RT_107\t3-1-RT\r\n",
      "F2-3_108\tF2-3\r\n",
      "3-5-L_110\t3-5-L\r\n",
      "4-3-RT_111\t4-3-RT\r\n",
      "1-5-L_112\t1-5-L\r\n",
      "2-5-F_114\t2-5-F\r\n",
      "2-5-RT_116\t2-5-RT\r\n",
      "2-5-F_117\t2-5-F\r\n",
      "4-1-RT_119\t4-1-RT\r\n",
      "2-2-F_121\t2-2-F\r\n",
      "6-3-RT_123\t6-3-RT\r\n",
      "1-3-RT_124\t1-3-RT\r\n",
      "3-5-F_126\t3-5-F\r\n",
      "M5-3_127\tM5-3\r\n",
      "2-5-RT_128\t2-5-RT\r\n",
      "4-5-F_129\t4-5-F\r\n",
      "3-1-RT_130\t3-1-RT\r\n",
      "2-5-RT_131\t2-5-RT\r\n",
      "6-4-F_132\t6-4-F\r\n",
      "6-5-RT_133\t6-5-RT\r\n",
      "4-2-F_134\t4-2-F\r\n",
      "2-5-RT_135\t2-5-RT\r\n",
      "2-1-L_136\t2-1-L\r\n",
      "3-1-RT_137\t3-1-RT\r\n",
      "1-3-L_138\t1-3-L\r\n",
      "3-1-RT_139\t3-1-RT\r\n",
      "5-1-F_140\t5-1-F\r\n",
      "6-3-L_141\t6-3-L\r\n",
      "5-3-RT_143\t5-3-RT\r\n",
      "2-3-RT_145\t2-3-RT\r\n",
      "5-5-RT_147\t5-5-RT\r\n",
      "1-3-RS_149\t1-3-RS\r\n",
      "3-2-L_150\t3-2-L\r\n",
      "5-5-F_151\t5-5-F\r\n",
      "4-3-F_152\t4-3-F\r\n",
      "3-5-RT_153\t3-5-RT\r\n",
      "5-5-RT_155\t5-5-RT\r\n",
      "3-1-RT_157\t3-1-RT\r\n",
      "3-1-RT_158\t3-1-RT\r\n",
      "4-2-RS_160\t4-2-RS\r\n",
      "1-4-BS_161\t1-4-BS\r\n",
      "1-1-L_162\t1-1-L\r\n",
      "2-1-F_163\t2-1-F\r\n",
      "2-5-RT_165\t2-5-RT\r\n",
      "4-4-F_166\t4-4-F\r\n",
      "M2-1_167\tM2-1\r\n",
      "3-1-RT_168\t3-1-RT\r\n",
      "2-2-F_169\t2-2-F\r\n",
      "F2-1_170\tF2-1\r\n",
      "1-4-F_171\t1-4-F\r\n",
      "5-3-BS_172\t5-3-BS\r\n",
      "3-1-RT_173\t3-1-RT\r\n",
      "4-4-F_175\t4-4-F\r\n",
      "3-1-F_176\t3-1-F\r\n",
      "M3-2_178\tM3-2\r\n",
      "6-1-RT_179\t6-1-RT\r\n",
      "3-3-RT_180\t3-3-RT\r\n",
      "5-1-F_181\t5-1-F\r\n",
      "4-1-RT_182\t4-1-RT\r\n",
      "2-2-F_183\t2-2-F\r\n",
      "1-4-RT_184\t1-4-RT\r\n",
      "6-4-RT_185\t6-4-RT\r\n",
      "2-2-F_186\t2-2-F\r\n",
      "2-5-L_187\t2-5-L\r\n",
      "1-3-RT_188\t1-3-RT\r\n",
      "2-2-L_189\t2-2-L\r\n",
      "3-4-F_190\t3-4-F\r\n",
      "4-2-F_192\t4-2-F\r\n",
      "F4-1_193\tF4-1\r\n",
      "3-5-L_194\t3-5-L\r\n",
      "F3-2_195\tF3-2\r\n",
      "5-5-RT_196\t5-5-RT\r\n",
      "6-4-F_197\t6-4-F\r\n",
      "M5-3_198\tM5-3\r\n",
      "3-1-RT_200\t3-1-RT\r\n",
      "F2-2_201\tF2-2\r\n",
      "2-3-BS_202\t2-3-BS\r\n",
      "4-2-F_203\t4-2-F\r\n",
      "M1-3_204\tM1-3\r\n",
      "3-1-BS_205\t3-1-BS\r\n",
      "4-2-L_206\t4-2-L\r\n",
      "6-5-RT_207\t6-5-RT\r\n",
      "M2-1_208\tM2-1\r\n",
      "3-1-RT_209\t3-1-RT\r\n",
      "4-1-RT_210\t4-1-RT\r\n",
      "2-5-F_211\t2-5-F\r\n",
      "3-4-F_212\t3-4-F\r\n",
      "1-4-L_214\t1-4-L\r\n",
      "6-1-RS_215\t6-1-RS\r\n",
      "4-1-RT_216\t4-1-RT\r\n",
      "1-1-L_217\t1-1-L\r\n",
      "2-3-RT_218\t2-3-RT\r\n",
      "4-2-F_219\t4-2-F\r\n",
      "2-5-F_220\t2-5-F\r\n",
      "3-4-L_221\t3-4-L\r\n",
      "3-3-RT_222\t3-3-RT\r\n",
      "2-4-L_223\t2-4-L\r\n",
      "M1-2_224\tM1-2\r\n",
      "5-2-RT_225\t5-2-RT\r\n",
      "extraction_water_control2_226\textraction_water_control2\r\n",
      "2-2-F_227\t2-2-F\r\n",
      "2-2-RS_228\t2-2-RS\r\n",
      "F2-1_230\tF2-1\r\n",
      "3-4-L_231\t3-4-L\r\n",
      "5-4-RT_232\t5-4-RT\r\n",
      "6-3-F_233\t6-3-F\r\n",
      "6-1-RT_234\t6-1-RT\r\n",
      "2-3-L_235\t2-3-L\r\n",
      "M2-1_236\tM2-1\r\n",
      "4-4-RS_237\t4-4-RS\r\n",
      "6-1-RS_238\t6-1-RS\r\n",
      "2-4-F_239\t2-4-F\r\n",
      "2-3-L_240\t2-3-L\r\n",
      "M2-1_241\tM2-1\r\n"
     ]
    }
   ],
   "source": [
    "! head -n 200 group_file.txt"
   ]
  },
  {
   "cell_type": "code",
   "execution_count": 19,
   "metadata": {
    "collapsed": false
   },
   "outputs": [
    {
     "name": "stdout",
     "output_type": "stream",
     "text": [
      "10240000\t1149039\r\n",
      "10241000\t1149150\r\n",
      "10242000\t1149277\r\n",
      "10243000\t1149402\r\n",
      "10244000\t1149514\r\n",
      "10245000\t1149625\r\n",
      "10246000\t1149742\r\n",
      "10247000\t1149854\r\n",
      "10248000\t1149979\r\n",
      "10249000\t1150077\r\n",
      "10250000\t1150195\r\n",
      "10251000\t1150325\r\n",
      "10252000\t1150462\r\n",
      "10253000\t1150575\r\n",
      "10254000\t1150701\r\n",
      "10255000\t1150835\r\n",
      "10256000\t1150953\r\n",
      "10257000\t1151090\r\n",
      "10258000\t1151221\r\n",
      "10259000\t1151367\r\n",
      "10260000\t1151532\r\n",
      "10261000\t1151686\r\n",
      "10261702\t1151873\r\n",
      "\r\n",
      "Output File Names: \r\n",
      "/home/sam/notebooks/hemp_microbiome/data/ITS_OTUs/merge_demult/pear_merged_hemp_ITS.assembled.dmult_maxee1_noN.names\r\n",
      "/home/sam/notebooks/hemp_microbiome/data/ITS_OTUs/merge_demult/pear_merged_hemp_ITS.assembled.dmult_maxee1_noN.unique.fasta\r\n",
      "\r\n",
      "\r\n",
      "mothur > quit()\r\n"
     ]
    }
   ],
   "source": [
    "# unique sequences\n",
    "cmd = 'mothur \"#unique.seqs(fasta={})\"'.format(qcFile2)\n",
    "!$cmd | tail -n 30"
   ]
  },
  {
   "cell_type": "code",
   "execution_count": 20,
   "metadata": {
    "collapsed": false
   },
   "outputs": [
    {
     "name": "stdout",
     "output_type": "stream",
     "text": [
      "Number of unique sequences: 1151873\n"
     ]
    }
   ],
   "source": [
    "qcFile3 = os.path.splitext(qcFile2)[0] + '.unique.fasta'\n",
    "n_uniq = !grep -c \">\" $qcFile3\n",
    "print ('Number of unique sequences: {}'.format(n_uniq[0]))"
   ]
  },
  {
   "cell_type": "code",
   "execution_count": 21,
   "metadata": {
    "collapsed": false
   },
   "outputs": [
    {
     "name": "stdout",
     "output_type": "stream",
     "text": [
      "-rw-rw-r-- 1 sam sam 157M May 25 12:12 /home/sam/notebooks/hemp_microbiome/data/ITS_OTUs/merge_demult/pear_merged_hemp_ITS.assembled.dmult_maxee1_noN.names\r\n"
     ]
    }
   ],
   "source": [
    "# name file produced by unique.seqs()\n",
    "nameFile = os.path.splitext(qcFile2)[0] + '.names'\n",
    "!ls -thlc $nameFile"
   ]
  },
  {
   "cell_type": "code",
   "execution_count": 22,
   "metadata": {
    "collapsed": false
   },
   "outputs": [
    {
     "name": "stdout",
     "output_type": "stream",
     "text": [
      "Using 10 processors.\r\n",
      "\r\n",
      "\t\tStart\tEnd\tNBases\tAmbigs\tPolymer\tNumSeqs\r\n",
      "Minimum:\t1\t50\t50\t0\t2\t1\r\n",
      "2.5%-tile:\t1\t138\t138\t0\t4\t256543\r\n",
      "25%-tile:\t1\t264\t264\t0\t4\t2565426\r\n",
      "Median: \t1\t264\t264\t0\t4\t5130852\r\n",
      "75%-tile:\t1\t264\t264\t0\t4\t7696277\r\n",
      "97.5%-tile:\t1\t264\t264\t0\t6\t10005160\r\n",
      "Maximum:\t1\t432\t432\t0\t37\t10261702\r\n",
      "Mean:\t1\t246.912\t246.912\t0\t4.1285\r\n",
      "# of unique seqs:\t1151873\r\n",
      "total # of seqs:\t10261702\r\n",
      "\r\n",
      "Output File Names: \r\n",
      "/home/sam/notebooks/hemp_microbiome/data/ITS_OTUs/merge_demult/pear_merged_hemp_ITS.assembled.dmult_maxee1_noN.unique.summary\r\n",
      "\r\n",
      "It took 5 secs to summarize 10261702 sequences.\r\n",
      "\r\n",
      "mothur > quit()\r\n"
     ]
    }
   ],
   "source": [
    "# Get summary data on sequences\n",
    "cmd = 'mothur \"#summary.seqs(fasta={}, processors={}, name={})\"'.format(qcFile3, nprocs, nameFile)\n",
    "!$cmd | tail -n 20"
   ]
  },
  {
   "cell_type": "markdown",
   "metadata": {},
   "source": [
    "## Removing homopolymers (> 8)"
   ]
  },
  {
   "cell_type": "code",
   "execution_count": 23,
   "metadata": {
    "collapsed": false
   },
   "outputs": [
    {
     "name": "stdout",
     "output_type": "stream",
     "text": [
      "Processing sequence: 111700\r\n",
      "Processing sequence: 111800\r\n",
      "Processing sequence: 111900\r\n",
      "Processing sequence: 112000\r\n",
      "Processing sequence: 112100\r\n",
      "Processing sequence: 112200\r\n",
      "Processing sequence: 112300\r\n",
      "Processing sequence: 112400\r\n",
      "Processing sequence: 112500\r\n",
      "Processing sequence: 112600\r\n",
      "Processing sequence: 112700\r\n",
      "Processing sequence: 112800\r\n",
      "Processing sequence: 112900\r\n",
      "Processing sequence: 113000\r\n",
      "Processing sequence: 113100\r\n",
      "Processing sequence: 113200\r\n",
      "Processing sequence: 113300\r\n",
      "Processing sequence: 113400\r\n",
      "Processing sequence: 113491\r\n",
      "\r\n",
      "Output File Names: \r\n",
      "/home/sam/notebooks/hemp_microbiome/data/ITS_OTUs/merge_demult/pear_merged_hemp_ITS.assembled.dmult_maxee1_noN.unique.good.fasta\r\n",
      "/home/sam/notebooks/hemp_microbiome/data/ITS_OTUs/merge_demult/pear_merged_hemp_ITS.assembled.dmult_maxee1_noN.unique.bad.accnos\r\n",
      "/home/sam/notebooks/hemp_microbiome/data/ITS_OTUs/merge_demult/pear_merged_hemp_ITS.assembled.dmult_maxee1_noN.good.names\r\n",
      "/home/sam/notebooks/hemp_microbiome/data/ITS_OTUs/merge_demult/group_file.good.txt\r\n",
      "\r\n",
      "\r\n",
      "It took 20 secs to screen 1151873 sequences.\r\n",
      "\r\n",
      "mothur > quit()\r\n"
     ]
    }
   ],
   "source": [
    "cmd = \"\"\"mothur '#screen.seqs(fasta={},\\\n",
    "    processors={},\\\n",
    "    name={},\\\n",
    "    group={},\\\n",
    "    maxhomop=8)'\"\"\".format(qcFile3, nprocs, nameFile, 'group_file.txt')\n",
    "!$cmd | tail -n 30"
   ]
  },
  {
   "cell_type": "code",
   "execution_count": 24,
   "metadata": {
    "collapsed": false
   },
   "outputs": [
    {
     "name": "stdout",
     "output_type": "stream",
     "text": [
      "Number of sequences post-filter: 1147070\n"
     ]
    }
   ],
   "source": [
    "qcFile4 = os.path.splitext(qcFile3)[0] + '.good.fasta'\n",
    "ret = !grep -c \">\" $qcFile4\n",
    "print ('Number of sequences post-filter: {}'.format(ret[0]))"
   ]
  },
  {
   "cell_type": "code",
   "execution_count": 25,
   "metadata": {
    "collapsed": false
   },
   "outputs": [
    {
     "name": "stdout",
     "output_type": "stream",
     "text": [
      "\r\n",
      "Using 10 processors.\r\n",
      "\r\n",
      "\t\tStart\tEnd\tNBases\tAmbigs\tPolymer\tNumSeqs\r\n",
      "Minimum:\t1\t50\t50\t0\t2\t1\r\n",
      "2.5%-tile:\t1\t73\t73\t0\t3\t28677\r\n",
      "25%-tile:\t1\t177\t177\t0\t4\t286768\r\n",
      "Median: \t1\t235\t235\t0\t4\t573536\r\n",
      "75%-tile:\t1\t264\t264\t0\t5\t860303\r\n",
      "97.5%-tile:\t1\t296\t296\t0\t6\t1118394\r\n",
      "Maximum:\t1\t432\t432\t0\t8\t1147070\r\n",
      "Mean:\t1\t217.388\t217.388\t0\t4.33738\r\n",
      "# of Seqs:\t1147070\r\n",
      "\r\n",
      "Output File Names: \r\n",
      "/home/sam/notebooks/hemp_microbiome/data/ITS_OTUs/merge_demult/pear_merged_hemp_ITS.assembled.dmult_maxee1_noN.unique.good.summary\r\n",
      "\r\n",
      "It took 2 secs to summarize 1147070 sequences.\r\n",
      "\r\n",
      "mothur > quit()\r\n"
     ]
    }
   ],
   "source": [
    "## Get summary\n",
    "cmd = 'mothur \"#summary.seqs(fasta={}, processors={})\"'.format(qcFile4, nprocs)\n",
    "!$cmd | tail -n 20"
   ]
  },
  {
   "cell_type": "markdown",
   "metadata": {},
   "source": [
    "## Deunique seqs"
   ]
  },
  {
   "cell_type": "code",
   "execution_count": 26,
   "metadata": {
    "collapsed": false
   },
   "outputs": [
    {
     "name": "stdout",
     "output_type": "stream",
     "text": [
      "mothur v.1.39.5\r\n",
      "Last updated: 3/20/2017\r\n",
      "\r\n",
      "by\r\n",
      "Patrick D. Schloss\r\n",
      "\r\n",
      "Department of Microbiology & Immunology\r\n",
      "University of Michigan\r\n",
      "http://www.mothur.org\r\n",
      "\r\n",
      "When using, please cite:\r\n",
      "Schloss, P.D., et al., Introducing mothur: Open-source, platform-independent, community-supported software for describing and comparing microbial communities. Appl Environ Microbiol, 2009. 75(23):7537-41.\r\n",
      "\r\n",
      "Distributed under the GNU General Public License\r\n",
      "\r\n",
      "Type 'help()' for information on the commands that are available\r\n",
      "\r\n",
      "For questions and analysis support, please visit our forum at https://www.mothur.org/forum\r\n",
      "\r\n",
      "Type 'quit()' to exit program\r\n",
      "\r\n",
      "\r\n",
      "\r\n",
      "mothur > deunique.seqs(fasta=/home/sam/notebooks/hemp_microbiome/data/ITS_OTUs/merge_demult/pear_merged_hemp_ITS.assembled.dmult_maxee1_noN.unique.good.fasta, name=/home/sam/notebooks/hemp_microbiome/data/ITS_OTUs/merge_demult/pear_merged_hemp_ITS.assembled.dmult_maxee1_noN.names)\r\n",
      "\r\n",
      "Output File Names: \r\n",
      "/home/sam/notebooks/hemp_microbiome/data/ITS_OTUs/merge_demult/pear_merged_hemp_ITS.assembled.dmult_maxee1_noN.unique.good.redundant.fasta\r\n",
      "\r\n",
      "\r\n",
      "mothur > quit()\r\n"
     ]
    }
   ],
   "source": [
    "cmd = 'mothur \"#deunique.seqs(fasta={}, name={})\"'.format(qcFile4, nameFile)\n",
    "!$cmd | tail -n 30"
   ]
  },
  {
   "cell_type": "markdown",
   "metadata": {},
   "source": [
    "### Final QC-ed file"
   ]
  },
  {
   "cell_type": "code",
   "execution_count": 27,
   "metadata": {
    "collapsed": true
   },
   "outputs": [],
   "source": [
    "qcFile5 = os.path.splitext(qcFile4)[0] + '.redundant.fasta'\n",
    "qcFinal = 'finalQC.fasta'\n",
    "!perl -pe 's/[-.]//g if ! /^>/' $qcFile5 > $qcFinal"
   ]
  },
  {
   "cell_type": "code",
   "execution_count": 28,
   "metadata": {
    "collapsed": false
   },
   "outputs": [
    {
     "name": "stdout",
     "output_type": "stream",
     "text": [
      "\r\n",
      "Using 10 processors.\r\n",
      "\r\n",
      "\t\tStart\tEnd\tNBases\tAmbigs\tPolymer\tNumSeqs\r\n",
      "Minimum:\t1\t50\t50\t0\t2\t1\r\n",
      "2.5%-tile:\t1\t138\t138\t0\t4\t256305\r\n",
      "25%-tile:\t1\t264\t264\t0\t4\t2563047\r\n",
      "Median: \t1\t264\t264\t0\t4\t5126094\r\n",
      "75%-tile:\t1\t264\t264\t0\t4\t7689141\r\n",
      "97.5%-tile:\t1\t264\t264\t0\t6\t9995883\r\n",
      "Maximum:\t1\t432\t432\t0\t8\t10252187\r\n",
      "Mean:\t1\t246.961\t246.961\t0\t4.12339\r\n",
      "# of Seqs:\t10252187\r\n",
      "\r\n",
      "Output File Names: \r\n",
      "finalQC.summary\r\n",
      "\r\n",
      "It took 13 secs to summarize 10252187 sequences.\r\n",
      "\r\n",
      "mothur > quit()\r\n"
     ]
    }
   ],
   "source": [
    "cmd = 'mothur \"#summary.seqs(fasta={}, processors={})\"'.format(qcFinal, nprocs)\n",
    "!$cmd | tail -n 20"
   ]
  },
  {
   "cell_type": "code",
   "execution_count": 29,
   "metadata": {
    "collapsed": false
   },
   "outputs": [
    {
     "name": "stdout",
     "output_type": "stream",
     "text": [
      ">3-4-L_1\r\n",
      "TTGTCGAAACCTGCAACAGCAGAACGACCCGTGAACACGTTTTAAACAGCTTGGGCGGGCGAGAGGAGCTTGCTCCTTGGACCCGCCCGCACCTGCTGGGAGAAATCTCGGCGGGCTAACGAACCCCGGCGCAATCTGCGCCAAGGAACAAGAAAAGATTATCGCGTGGCTCGTGCGGTGGCCCGGAGACGGTGTCCGCCAATCGAGATGCGTGTTTATCGAAATGTCTAAACGACTCTCGGCAACGGATATCTCGGCTCTCGG\r\n",
      ">F4-1_59\r\n",
      "TTGTCGAAACCTGCAACAGCAGAACGACCCGTGAACACGTTTTAAACAGCTTGGGCGGGCGAGAGGAGCTTGCTCCTTGGACCCGCCCGCACCTGCTGGGAGAAATCTCGGCGGGCTAACGAACCCCGGCGCAATCTGCGCCAAGGAACAAGAAAAGATTATCGCGTGGCTCGTGCGGTGGCCCGGAGACGGTGTCCGCCAATCGAGATGCGTGTTTATCGAAATGTCTAAACGACTCTCGGCAACGGATATCTCGGCTCTCGG\r\n",
      ">5-5-RT_566157\r\n",
      "TTGTCGAAACCTGCAACAGCAGAACGACCCGTGAACACGTTTTAAACAGCTTGGGCGGGCGAGAGGAGCTTGCTCCTTGGACCCGCCCGCACCTGCTGGGAGAAATCTCGGCGGGCTAACGAACCCCGGCGCAATCTGCGCCAAGGAACAAGAAAAGATTATCGCGTGGCTCGTGCGGTGGCCCGGAGACGGTGTCCGCCAATCGAGATGCGTGTTTATCGAAATGTCTAAACGACTCTCGGCAACGGATATCTCGGCTCTCGG\r\n"
     ]
    }
   ],
   "source": [
    "!head -n 6 $qcFinal"
   ]
  },
  {
   "cell_type": "markdown",
   "metadata": {},
   "source": [
    "# Keep just ITS"
   ]
  },
  {
   "cell_type": "markdown",
   "metadata": {},
   "source": [
    "There still may be some parts of these sequences that are part of the 5S or 18S sequences. We just want the ITS1 sequence so lets use ITSx to keep just ITS. Again this is modified from Steve Higgins' code."
   ]
  },
  {
   "cell_type": "code",
   "execution_count": 8,
   "metadata": {
    "collapsed": false
   },
   "outputs": [
    {
     "name": "stdout",
     "output_type": "stream",
     "text": [
      "/home/sam/notebooks/hemp_microbiome/data/ITS_OTUs/QC/finalQC.fasta\n",
      "/home/sam/notebooks/hemp_microbiome/data/ITS_OTUs/QC/finalQC.ITSx.fasta\n"
     ]
    }
   ],
   "source": [
    "## generate file names\n",
    "qcFinal = 'finalQC.fasta'\n",
    "qcFinal_file = os.path.join(workDir, qcFinal)\n",
    "print (qcFinal_file)\n",
    "\n",
    "ITSx_output = os.path.split(qcFinal)[1].replace('fasta', 'ITSx.fasta')\n",
    "ITSx_output = os.path.join(workDir, ITSx_output)\n",
    "print (ITSx_output)"
   ]
  },
  {
   "cell_type": "markdown",
   "metadata": {},
   "source": [
    "ITSx takes for __ever__ to run. According to http://geoffreyzahn.com/getting-started-with-qiime-for-fungal-its-cleaning-its-reads-and-picking-otus/, they suggest splitting the fasta into smaller fasta files and running those separately. Lets try that here."
   ]
  },
  {
   "cell_type": "code",
   "execution_count": 10,
   "metadata": {
    "collapsed": false
   },
   "outputs": [
    {
     "name": "stderr",
     "output_type": "stream",
     "text": [
      "bash: cannot set terminal process group (76441): Inappropriate ioctl for device\n",
      "bash: no job control in this shell\n",
      "bash: qcFinal_file: No such file or directory\n"
     ]
    }
   ],
   "source": [
    "%%bash -i qcFinal_file\n",
    "mkdir ITSx_run\n",
    "cd ITSx_run\n",
    "fasta-splitter.pl --n-parts 10 $1"
   ]
  },
  {
   "cell_type": "code",
   "execution_count": 44,
   "metadata": {
    "collapsed": false
   },
   "outputs": [
    {
     "name": "stdout",
     "output_type": "stream",
     "text": [
      "ITSx -i /home/sam/notebooks/hemp_microbiome/data/ITS_OTUs/QC/finalQC.fasta -o ITSx.output --save_regions ITS1 --cpu 5 --preserve T --reset T -t all --heuristics --table T -E 0.01 --detailed_results T\n"
     ]
    }
   ],
   "source": [
    "## Run ITSx command from your terminal\n",
    "cmdarr = 'ITSx -i ' + qcFinal_file + ' -o ITSx.output --save_regions ITS1 --cpu 5 --preserve T --reset T -t all --heuristics --table T -E 0.01 --detailed_results T'\n",
    "print (cmdarr)\n"
   ]
  },
  {
   "cell_type": "markdown",
   "metadata": {
    "collapsed": true
   },
   "source": [
    "Wait for the previous step to be run in the terminal"
   ]
  },
  {
   "cell_type": "code",
   "execution_count": null,
   "metadata": {
    "collapsed": true
   },
   "outputs": [],
   "source": [
    "## Run ITSx command keeping just fungi only\n",
    "cmdarr = 'ITSx -i ' + qcFinal_file + ' -o finalQC.ITSx.fungi.output --save_regions ITS1 --cpu 5 --preserve T -t F --table T -E 0.01 --detailed_results T'\n",
    "print (cmdarr)\n",
    "os.system(cmdarr)"
   ]
  },
  {
   "cell_type": "markdown",
   "metadata": {},
   "source": [
    "## Summary of number of seqs per sample"
   ]
  },
  {
   "cell_type": "code",
   "execution_count": 30,
   "metadata": {
    "collapsed": true
   },
   "outputs": [],
   "source": [
    "qcFinal = '/home/sam/notebooks/hemp_microbiome/data/ITS_OTUs/QC/finalQC.fasta'"
   ]
  },
  {
   "cell_type": "code",
   "execution_count": 31,
   "metadata": {
    "collapsed": false
   },
   "outputs": [
    {
     "name": "stdout",
     "output_type": "stream",
     "text": [
      "10252187\r\n"
     ]
    }
   ],
   "source": [
    "!grep -c \">\" $qcFinal"
   ]
  },
  {
   "cell_type": "code",
   "execution_count": 32,
   "metadata": {
    "collapsed": false
   },
   "outputs": [],
   "source": [
    "re1 = re.compile('_[0-9]+$')\n",
    "\n",
    "qcFinalSum = os.path.splitext(qcFinal)[0] + '.summary'\n",
    "\n",
    "samp_count = dict()\n",
    "with open(qcFinalSum, 'r') as inFH:\n",
    "    for line in inFH:\n",
    "        if line.startswith('seqname'):\n",
    "            continue\n",
    "        line = line.rstrip().split('\\t')\n",
    "        line[0] = re.sub(re1, '', line[0])\n",
    "        try:\n",
    "            samp_count[line[0]] += 1\n",
    "        except KeyError:\n",
    "            samp_count[line[0]] = 1"
   ]
  },
  {
   "cell_type": "code",
   "execution_count": 33,
   "metadata": {
    "collapsed": false
   },
   "outputs": [
    {
     "data": {
      "text/html": [
       "<div>\n",
       "<style scoped>\n",
       "    .dataframe tbody tr th:only-of-type {\n",
       "        vertical-align: middle;\n",
       "    }\n",
       "\n",
       "    .dataframe tbody tr th {\n",
       "        vertical-align: top;\n",
       "    }\n",
       "\n",
       "    .dataframe thead th {\n",
       "        text-align: right;\n",
       "    }\n",
       "</style>\n",
       "<table border=\"1\" class=\"dataframe\">\n",
       "  <thead>\n",
       "    <tr style=\"text-align: right;\">\n",
       "      <th></th>\n",
       "      <th>Sample</th>\n",
       "      <th>seq_count</th>\n",
       "    </tr>\n",
       "  </thead>\n",
       "  <tbody>\n",
       "    <tr>\n",
       "      <th>0</th>\n",
       "      <td>3-4-L</td>\n",
       "      <td>72759</td>\n",
       "    </tr>\n",
       "    <tr>\n",
       "      <th>1</th>\n",
       "      <td>F4-1</td>\n",
       "      <td>49151</td>\n",
       "    </tr>\n",
       "    <tr>\n",
       "      <th>2</th>\n",
       "      <td>5-5-RT</td>\n",
       "      <td>54540</td>\n",
       "    </tr>\n",
       "    <tr>\n",
       "      <th>3</th>\n",
       "      <td>M2-1</td>\n",
       "      <td>102468</td>\n",
       "    </tr>\n",
       "    <tr>\n",
       "      <th>4</th>\n",
       "      <td>3-4-BS</td>\n",
       "      <td>19551</td>\n",
       "    </tr>\n",
       "    <tr>\n",
       "      <th>5</th>\n",
       "      <td>6-1-L</td>\n",
       "      <td>38388</td>\n",
       "    </tr>\n",
       "    <tr>\n",
       "      <th>6</th>\n",
       "      <td>3-4-F</td>\n",
       "      <td>99421</td>\n",
       "    </tr>\n",
       "    <tr>\n",
       "      <th>7</th>\n",
       "      <td>F3-1</td>\n",
       "      <td>106897</td>\n",
       "    </tr>\n",
       "    <tr>\n",
       "      <th>8</th>\n",
       "      <td>4-3-BS</td>\n",
       "      <td>28182</td>\n",
       "    </tr>\n",
       "    <tr>\n",
       "      <th>9</th>\n",
       "      <td>3-1-RT</td>\n",
       "      <td>297519</td>\n",
       "    </tr>\n",
       "    <tr>\n",
       "      <th>10</th>\n",
       "      <td>2-5-RT</td>\n",
       "      <td>129701</td>\n",
       "    </tr>\n",
       "    <tr>\n",
       "      <th>11</th>\n",
       "      <td>2-2-F</td>\n",
       "      <td>101629</td>\n",
       "    </tr>\n",
       "    <tr>\n",
       "      <th>12</th>\n",
       "      <td>5-2-F</td>\n",
       "      <td>52553</td>\n",
       "    </tr>\n",
       "    <tr>\n",
       "      <th>13</th>\n",
       "      <td>F1-2</td>\n",
       "      <td>45217</td>\n",
       "    </tr>\n",
       "    <tr>\n",
       "      <th>14</th>\n",
       "      <td>4-1-RT</td>\n",
       "      <td>221706</td>\n",
       "    </tr>\n",
       "    <tr>\n",
       "      <th>15</th>\n",
       "      <td>3-3-RT</td>\n",
       "      <td>181881</td>\n",
       "    </tr>\n",
       "    <tr>\n",
       "      <th>16</th>\n",
       "      <td>1-5-F</td>\n",
       "      <td>81165</td>\n",
       "    </tr>\n",
       "    <tr>\n",
       "      <th>17</th>\n",
       "      <td>3-5-F</td>\n",
       "      <td>72139</td>\n",
       "    </tr>\n",
       "    <tr>\n",
       "      <th>18</th>\n",
       "      <td>6-1-RT</td>\n",
       "      <td>124923</td>\n",
       "    </tr>\n",
       "    <tr>\n",
       "      <th>19</th>\n",
       "      <td>4-4-F</td>\n",
       "      <td>99482</td>\n",
       "    </tr>\n",
       "    <tr>\n",
       "      <th>20</th>\n",
       "      <td>2-1-RT</td>\n",
       "      <td>59042</td>\n",
       "    </tr>\n",
       "    <tr>\n",
       "      <th>21</th>\n",
       "      <td>2-2-RS</td>\n",
       "      <td>152613</td>\n",
       "    </tr>\n",
       "    <tr>\n",
       "      <th>22</th>\n",
       "      <td>6-3-RT</td>\n",
       "      <td>184083</td>\n",
       "    </tr>\n",
       "    <tr>\n",
       "      <th>23</th>\n",
       "      <td>6-4-F</td>\n",
       "      <td>45287</td>\n",
       "    </tr>\n",
       "    <tr>\n",
       "      <th>24</th>\n",
       "      <td>2-1-F</td>\n",
       "      <td>67857</td>\n",
       "    </tr>\n",
       "    <tr>\n",
       "      <th>25</th>\n",
       "      <td>2-5-F</td>\n",
       "      <td>213702</td>\n",
       "    </tr>\n",
       "    <tr>\n",
       "      <th>26</th>\n",
       "      <td>extraction_water_control2</td>\n",
       "      <td>24066</td>\n",
       "    </tr>\n",
       "    <tr>\n",
       "      <th>27</th>\n",
       "      <td>4-4-RS</td>\n",
       "      <td>50321</td>\n",
       "    </tr>\n",
       "    <tr>\n",
       "      <th>28</th>\n",
       "      <td>1-3-RT</td>\n",
       "      <td>198985</td>\n",
       "    </tr>\n",
       "    <tr>\n",
       "      <th>29</th>\n",
       "      <td>1-3-RS</td>\n",
       "      <td>48592</td>\n",
       "    </tr>\n",
       "    <tr>\n",
       "      <th>...</th>\n",
       "      <td>...</td>\n",
       "      <td>...</td>\n",
       "    </tr>\n",
       "    <tr>\n",
       "      <th>152</th>\n",
       "      <td>5-2-RS</td>\n",
       "      <td>3426</td>\n",
       "    </tr>\n",
       "    <tr>\n",
       "      <th>153</th>\n",
       "      <td>3-2-RS</td>\n",
       "      <td>27366</td>\n",
       "    </tr>\n",
       "    <tr>\n",
       "      <th>154</th>\n",
       "      <td>6-4-BS</td>\n",
       "      <td>52450</td>\n",
       "    </tr>\n",
       "    <tr>\n",
       "      <th>155</th>\n",
       "      <td>5-3-BS</td>\n",
       "      <td>8616</td>\n",
       "    </tr>\n",
       "    <tr>\n",
       "      <th>156</th>\n",
       "      <td>4-2-BS</td>\n",
       "      <td>40754</td>\n",
       "    </tr>\n",
       "    <tr>\n",
       "      <th>157</th>\n",
       "      <td>4-3-RS</td>\n",
       "      <td>4079</td>\n",
       "    </tr>\n",
       "    <tr>\n",
       "      <th>158</th>\n",
       "      <td>M3-3</td>\n",
       "      <td>12210</td>\n",
       "    </tr>\n",
       "    <tr>\n",
       "      <th>159</th>\n",
       "      <td>6-3-RS</td>\n",
       "      <td>36926</td>\n",
       "    </tr>\n",
       "    <tr>\n",
       "      <th>160</th>\n",
       "      <td>6-2-L</td>\n",
       "      <td>2753</td>\n",
       "    </tr>\n",
       "    <tr>\n",
       "      <th>161</th>\n",
       "      <td>3-3-BS</td>\n",
       "      <td>21226</td>\n",
       "    </tr>\n",
       "    <tr>\n",
       "      <th>162</th>\n",
       "      <td>2-4-RT</td>\n",
       "      <td>2348</td>\n",
       "    </tr>\n",
       "    <tr>\n",
       "      <th>163</th>\n",
       "      <td>6-5-RS</td>\n",
       "      <td>18389</td>\n",
       "    </tr>\n",
       "    <tr>\n",
       "      <th>164</th>\n",
       "      <td>2-2-BS</td>\n",
       "      <td>48195</td>\n",
       "    </tr>\n",
       "    <tr>\n",
       "      <th>165</th>\n",
       "      <td>5-5-RS</td>\n",
       "      <td>1871</td>\n",
       "    </tr>\n",
       "    <tr>\n",
       "      <th>166</th>\n",
       "      <td>5-4-RS</td>\n",
       "      <td>5457</td>\n",
       "    </tr>\n",
       "    <tr>\n",
       "      <th>167</th>\n",
       "      <td>2-4-BS</td>\n",
       "      <td>46015</td>\n",
       "    </tr>\n",
       "    <tr>\n",
       "      <th>168</th>\n",
       "      <td>5-3-L</td>\n",
       "      <td>13190</td>\n",
       "    </tr>\n",
       "    <tr>\n",
       "      <th>169</th>\n",
       "      <td>6-3-BS</td>\n",
       "      <td>40488</td>\n",
       "    </tr>\n",
       "    <tr>\n",
       "      <th>170</th>\n",
       "      <td>4-1-BS</td>\n",
       "      <td>20820</td>\n",
       "    </tr>\n",
       "    <tr>\n",
       "      <th>171</th>\n",
       "      <td>5-2-BS</td>\n",
       "      <td>374</td>\n",
       "    </tr>\n",
       "    <tr>\n",
       "      <th>172</th>\n",
       "      <td>3-1-BS</td>\n",
       "      <td>51615</td>\n",
       "    </tr>\n",
       "    <tr>\n",
       "      <th>173</th>\n",
       "      <td>4-4-BS</td>\n",
       "      <td>16542</td>\n",
       "    </tr>\n",
       "    <tr>\n",
       "      <th>174</th>\n",
       "      <td>6-5-BS</td>\n",
       "      <td>1103</td>\n",
       "    </tr>\n",
       "    <tr>\n",
       "      <th>175</th>\n",
       "      <td>5-4-BS</td>\n",
       "      <td>904</td>\n",
       "    </tr>\n",
       "    <tr>\n",
       "      <th>176</th>\n",
       "      <td>5-5-BS</td>\n",
       "      <td>130</td>\n",
       "    </tr>\n",
       "    <tr>\n",
       "      <th>177</th>\n",
       "      <td>3-2-BS</td>\n",
       "      <td>49158</td>\n",
       "    </tr>\n",
       "    <tr>\n",
       "      <th>178</th>\n",
       "      <td>3-5-BS</td>\n",
       "      <td>21198</td>\n",
       "    </tr>\n",
       "    <tr>\n",
       "      <th>179</th>\n",
       "      <td>5-1-RS</td>\n",
       "      <td>1035</td>\n",
       "    </tr>\n",
       "    <tr>\n",
       "      <th>180</th>\n",
       "      <td>6-1-BS</td>\n",
       "      <td>474</td>\n",
       "    </tr>\n",
       "    <tr>\n",
       "      <th>181</th>\n",
       "      <td>3-4-RS</td>\n",
       "      <td>978</td>\n",
       "    </tr>\n",
       "  </tbody>\n",
       "</table>\n",
       "<p>182 rows × 2 columns</p>\n",
       "</div>"
      ],
      "text/plain": [
       "                        Sample  seq_count\n",
       "0                        3-4-L      72759\n",
       "1                         F4-1      49151\n",
       "2                       5-5-RT      54540\n",
       "3                         M2-1     102468\n",
       "4                       3-4-BS      19551\n",
       "5                        6-1-L      38388\n",
       "6                        3-4-F      99421\n",
       "7                         F3-1     106897\n",
       "8                       4-3-BS      28182\n",
       "9                       3-1-RT     297519\n",
       "10                      2-5-RT     129701\n",
       "11                       2-2-F     101629\n",
       "12                       5-2-F      52553\n",
       "13                        F1-2      45217\n",
       "14                      4-1-RT     221706\n",
       "15                      3-3-RT     181881\n",
       "16                       1-5-F      81165\n",
       "17                       3-5-F      72139\n",
       "18                      6-1-RT     124923\n",
       "19                       4-4-F      99482\n",
       "20                      2-1-RT      59042\n",
       "21                      2-2-RS     152613\n",
       "22                      6-3-RT     184083\n",
       "23                       6-4-F      45287\n",
       "24                       2-1-F      67857\n",
       "25                       2-5-F     213702\n",
       "26   extraction_water_control2      24066\n",
       "27                      4-4-RS      50321\n",
       "28                      1-3-RT     198985\n",
       "29                      1-3-RS      48592\n",
       "..                         ...        ...\n",
       "152                     5-2-RS       3426\n",
       "153                     3-2-RS      27366\n",
       "154                     6-4-BS      52450\n",
       "155                     5-3-BS       8616\n",
       "156                     4-2-BS      40754\n",
       "157                     4-3-RS       4079\n",
       "158                       M3-3      12210\n",
       "159                     6-3-RS      36926\n",
       "160                      6-2-L       2753\n",
       "161                     3-3-BS      21226\n",
       "162                     2-4-RT       2348\n",
       "163                     6-5-RS      18389\n",
       "164                     2-2-BS      48195\n",
       "165                     5-5-RS       1871\n",
       "166                     5-4-RS       5457\n",
       "167                     2-4-BS      46015\n",
       "168                      5-3-L      13190\n",
       "169                     6-3-BS      40488\n",
       "170                     4-1-BS      20820\n",
       "171                     5-2-BS        374\n",
       "172                     3-1-BS      51615\n",
       "173                     4-4-BS      16542\n",
       "174                     6-5-BS       1103\n",
       "175                     5-4-BS        904\n",
       "176                     5-5-BS        130\n",
       "177                     3-2-BS      49158\n",
       "178                     3-5-BS      21198\n",
       "179                     5-1-RS       1035\n",
       "180                     6-1-BS        474\n",
       "181                     3-4-RS        978\n",
       "\n",
       "[182 rows x 2 columns]"
      ]
     },
     "execution_count": 33,
     "metadata": {},
     "output_type": "execute_result"
    }
   ],
   "source": [
    "# converting to dataframe\n",
    "df_seq_cnt = pd.DataFrame.from_dict(samp_count, orient='index')\n",
    "df_seq_cnt.index.name = 'Sample'\n",
    "df_seq_cnt.reset_index(inplace=True)\n",
    "df_seq_cnt.columns = ['Sample', 'seq_count']\n",
    "df_seq_cnt"
   ]
  },
  {
   "cell_type": "code",
   "execution_count": 34,
   "metadata": {
    "collapsed": false
   },
   "outputs": [
    {
     "data": {
      "image/png": "[encoded data removed]"
     },
     "metadata": {},
     "output_type": "display_data"
    }
   ],
   "source": [
    "%%R -i df_seq_cnt -w 800 -h 350\n",
    "# plotting all\n",
    "\n",
    "df_seq_cnt$seq_count = as.numeric(df_seq_cnt$seq_count)\n",
    "\n",
    "\n",
    "df_seq_cnt = df_seq_cnt %>% \n",
    "    #mutate(H2O = grepl('_F0$', Sample)) %>%\n",
    "    mutate(rank = min_rank(seq_count)) %>%\n",
    "    arrange(desc(rank))\n",
    "\n",
    "df_seq_cnt$Sample = factor(df_seq_cnt$Sample, levels=df_seq_cnt$Sample)\n",
    "\n",
    "ggplot(df_seq_cnt, aes(Sample, seq_count)) +\n",
    "    geom_bar(stat='identity') +\n",
    "    theme_bw() +\n",
    "    theme(\n",
    "        text = element_text(size=16),\n",
    "        axis.text.x = element_text(angle=45, hjust=1)\n",
    "    )"
   ]
  },
  {
   "cell_type": "code",
   "execution_count": 35,
   "metadata": {
    "collapsed": false
   },
   "outputs": [
    {
     "data": {
      "text/plain": [
       "                       Sample seq_count rank\n",
       "165                    5-3-BS      8616   18\n",
       "166 extraction_water_control1      7447   17\n",
       "167                    5-4-RS      5457   16\n",
       "168                    1-2-BS      5227   15\n",
       "169                    4-2-RT      4183   14\n",
       "170                    4-3-RS      4079   13\n",
       "171                    5-2-RS      3426   12\n",
       "172                     6-2-L      2753   11\n",
       "173                    2-4-RT      2348   10\n",
       "174                    5-5-RS      1871    9\n",
       "175                      M3-1      1303    8\n",
       "176                    6-5-BS      1103    7\n",
       "177                    5-1-RS      1035    6\n",
       "178                    3-4-RS       978    5\n",
       "179                    5-4-BS       904    4\n",
       "180                    6-1-BS       474    3\n",
       "181                    5-2-BS       374    2\n",
       "182                    5-5-BS       130    1\n"
      ]
     },
     "metadata": {},
     "output_type": "display_data"
    }
   ],
   "source": [
    "%%R\n",
    "df_seq_cnt[df_seq_cnt$seq_count < 10000,]"
   ]
  },
  {
   "cell_type": "code",
   "execution_count": null,
   "metadata": {
    "collapsed": true
   },
   "outputs": [],
   "source": []
  }
 ],
 "metadata": {
  "anaconda-cloud": {},
  "hide_input": true,
  "kernelspec": {
   "display_name": "Python 3",
   "language": "python",
   "name": "python3"
  },
  "language_info": {
   "codemirror_mode": {
    "name": "ipython",
    "version": 3
   },
   "file_extension": ".py",
   "mimetype": "text/x-python",
   "name": "python",
   "nbconvert_exporter": "python",
   "pygments_lexer": "ipython3",
   "version": "3.6.4"
  },
  "notify_time": "5"
 },
 "nbformat": 4,
 "nbformat_minor": 1
}
