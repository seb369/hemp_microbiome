{
 "cells": [
  {
   "cell_type": "markdown",
   "metadata": {},
   "source": [
    "# Description\n",
    "\n",
    "* Quality control on MiSeq run data\n",
    "  * post-merging\n",
    "  * post-demultiplexing"
   ]
  },
  {
   "cell_type": "markdown",
   "metadata": {},
   "source": [
    "# Setting variables"
   ]
  },
  {
   "cell_type": "code",
   "execution_count": 4,
   "metadata": {
    "collapsed": true
   },
   "outputs": [],
   "source": [
    "import os\n",
    "\n",
    "baseDir = '/home/sam/notebooks/hemp_microbiome/data/16S_OTUs/'\n",
    "workDir = os.path.join(baseDir, 'QC')\n",
    "seqFile = os.path.join(baseDir, 'pear_merged-2018-03-30.assembled.dmult.fastq')\n",
    "\n",
    "# number of processors\n",
    "nprocs = 24\n",
    "\n",
    "# max expected error\n",
    "maxee = 1"
   ]
  },
  {
   "cell_type": "markdown",
   "metadata": {},
   "source": [
    "# Init"
   ]
  },
  {
   "cell_type": "code",
   "execution_count": 5,
   "metadata": {
    "collapsed": true
   },
   "outputs": [],
   "source": [
    "import re\n",
    "import pandas as pd"
   ]
  },
  {
   "cell_type": "code",
   "execution_count": 6,
   "metadata": {
    "collapsed": false
   },
   "outputs": [
    {
     "name": "stdout",
     "output_type": "stream",
     "text": [
      "The rpy2.ipython extension is already loaded. To reload it, use:\n",
      "  %reload_ext rpy2.ipython\n"
     ]
    }
   ],
   "source": [
    "%load_ext rpy2.ipython\n",
    "#%load_ext pushnote"
   ]
  },
  {
   "cell_type": "code",
   "execution_count": 7,
   "metadata": {
    "collapsed": false
   },
   "outputs": [
    {
     "name": "stderr",
     "output_type": "stream",
     "text": [
      "/home/sam/anaconda3/lib/python3.6/site-packages/rpy2/rinterface/__init__.py:145: RRuntimeWarning: \n",
      "Attaching package: ‘dplyr’\n",
      "\n",
      "\n",
      "  warnings.warn(x, RRuntimeWarning)\n",
      "/home/sam/anaconda3/lib/python3.6/site-packages/rpy2/rinterface/__init__.py:145: RRuntimeWarning: The following objects are masked from ‘package:stats’:\n",
      "\n",
      "    filter, lag\n",
      "\n",
      "\n",
      "  warnings.warn(x, RRuntimeWarning)\n",
      "/home/sam/anaconda3/lib/python3.6/site-packages/rpy2/rinterface/__init__.py:145: RRuntimeWarning: The following objects are masked from ‘package:base’:\n",
      "\n",
      "    intersect, setdiff, setequal, union\n",
      "\n",
      "\n",
      "  warnings.warn(x, RRuntimeWarning)\n",
      "/home/sam/anaconda3/lib/python3.6/site-packages/rpy2/rinterface/__init__.py:145: RRuntimeWarning: \n",
      "Attaching package: ‘gridExtra’\n",
      "\n",
      "\n",
      "  warnings.warn(x, RRuntimeWarning)\n",
      "/home/sam/anaconda3/lib/python3.6/site-packages/rpy2/rinterface/__init__.py:145: RRuntimeWarning: The following object is masked from ‘package:dplyr’:\n",
      "\n",
      "    combine\n",
      "\n",
      "\n",
      "  warnings.warn(x, RRuntimeWarning)\n"
     ]
    }
   ],
   "source": [
    "%%R\n",
    "library(ggplot2)\n",
    "library(dplyr)\n",
    "library(tidyr)\n",
    "library(gridExtra)"
   ]
  },
  {
   "cell_type": "code",
   "execution_count": 8,
   "metadata": {
    "collapsed": false
   },
   "outputs": [
    {
     "name": "stdout",
     "output_type": "stream",
     "text": [
      "/home/sam/notebooks/hemp_microbiome/data/16S_OTUs/QC\n"
     ]
    }
   ],
   "source": [
    "if not os.path.isdir(workDir):\n",
    "    os.makedirs(workDir)\n",
    "%cd $workDir"
   ]
  },
  {
   "cell_type": "code",
   "execution_count": 9,
   "metadata": {
    "collapsed": false
   },
   "outputs": [
    {
     "name": "stdout",
     "output_type": "stream",
     "text": [
      "File exists: /home/sam/notebooks/hemp_microbiome/data/16S_OTUs/pear_merged-2018-03-30.assembled.dmult.fastq\n"
     ]
    }
   ],
   "source": [
    "# symlinking demult seq file into CQ\n",
    "tmp = os.path.join(baseDir, seqFile)\n",
    "if not os.path.isfile(seqFile):\n",
    "    tmp2 = os.path.split(tmp)[1]\n",
    "    os.symlink(tmp, tmp2)\n",
    "else:\n",
    "    print ('File exists: {}'.format(os.path.join(workDir, seqFile)))"
   ]
  },
  {
   "cell_type": "markdown",
   "metadata": {},
   "source": [
    "# Merged read quality filtering"
   ]
  },
  {
   "cell_type": "markdown",
   "metadata": {},
   "source": [
    "## Discard sequences that exceed max expected error theshold"
   ]
  },
  {
   "cell_type": "code",
   "execution_count": 10,
   "metadata": {
    "collapsed": false
   },
   "outputs": [
    {
     "data": {
      "text/plain": [
       "'pear_merged-2018-03-30.assembled.dmult_maxee1.fasta'"
      ]
     },
     "execution_count": 10,
     "metadata": {},
     "output_type": "execute_result"
    }
   ],
   "source": [
    "qcFile = os.path.split(seqFile)[1]\n",
    "qcFile = os.path.splitext(qcFile)[0] + '_maxee{}.fasta'.format(maxee)\n",
    "qcFile"
   ]
  },
  {
   "cell_type": "code",
   "execution_count": 11,
   "metadata": {
    "collapsed": true
   },
   "outputs": [],
   "source": [
    "%%bash -s \"$seqFile\" \"$nprocs\" \"$maxee\" \"$qcFile\"\n",
    "\n",
    "mkdir /home/sam/tmp/tmpdir1\n",
    "trap \"rm -r /home/sam/tmp/tmpdir1\" 1 2 3 15\n",
    "split -d -l 2000000 $1 /home/sam/tmp/tmpdir1/Block\n",
    "\n",
    "mkdir /home/sam/tmp/tmpdir2\n",
    "trap \"rm -r /home/sam/tmp/tmpdir2\" 1 2 3 15\n",
    "ls /home/sam/tmp/tmpdir1/Block?? | parallel --gnu -j $2 -k \"usearch -fastq_filter {} -fastq_maxee $3 \\\n",
    "-fastaout /home/sam/tmp/tmpdir2/{#}.fasta >/dev/null 2>&1 && cat /home/sam/tmp/tmpdir2/{#}.fasta\" > $4\n",
    "rm -r /home/sam/tmp/tmpdir2 /home/sam/tmp/tmpdir1"
   ]
  },
  {
   "cell_type": "code",
   "execution_count": 12,
   "metadata": {
    "collapsed": false
   },
   "outputs": [
    {
     "name": "stdout",
     "output_type": "stream",
     "text": [
      "Max expected error cutoff: 1\n",
      "Number of sequence pre-filter: 12638894\n",
      "Number of sequences post-filter: 12432703\n",
      "\n",
      ">2-1-RS_1 orig_name=M01032:576:000000000-BHCYN:1:1101:17303:1500\n",
      "TCCGTCGGCTGCCCGCGTTGTCCGGAATTCTTGGGCGTAAAGGGCTCGTAGGCGGTTTGTCCCGTCCGGAGTGAAAACTC\n",
      "AGGGCTTAACCCTGACCCTGCTTCCGATACGGGCAGACTAGAGGTATGCAGGGGAGAACGGAATTCCTGGTGTAGCGGTG\n",
      "AAATGCGCAGATATCAGGAGGAACACCGGTGGCGAAGGCGGTTCTCTGGGCATTACCTGACGCTGAGGAGCGAAAGAGTG\n",
      "GGGAGCGAACAGG\n",
      ">2-5-RT_3 orig_name=M01032:576:000000000-BHCYN:1:1101:15252:1512\n",
      "TCCCGCGGTTGCACGCGTTATCCGGAATGATTGGGCGTAAAGCGTCTGTAGGTGGCTTTTTAAGTCCGCCGTCAAATCCC\n",
      "AGGGCTCAACCCTGGACAGGCTGTGGAAACTACCAAGCTGGAGTACGGTAGCGGCAGAGGGAATTTCCGGTGTAGCGGTG\n"
     ]
    }
   ],
   "source": [
    "%%bash -s \"$seqFile\" \"$nprocs\" \"$maxee\" \"$qcFile\"\n",
    "\n",
    "printf \"Max expected error cutoff: \"\n",
    "echo $3\n",
    "\n",
    "printf \"Number of sequence pre-filter: \"\n",
    "grep -c \"orig_name=\" $1\n",
    "\n",
    "printf \"Number of sequences post-filter: \"\n",
    "grep -c \">\" $4\n",
    "\n",
    "echo '' \n",
    "head -n 8 $4"
   ]
  },
  {
   "cell_type": "markdown",
   "metadata": {},
   "source": [
    "## Remove seqs with 'N' characters"
   ]
  },
  {
   "cell_type": "code",
   "execution_count": 13,
   "metadata": {
    "collapsed": false
   },
   "outputs": [
    {
     "data": {
      "text/plain": [
       "'pear_merged-2018-03-30.assembled.dmult_maxee1_noN.fasta'"
      ]
     },
     "execution_count": 13,
     "metadata": {},
     "output_type": "execute_result"
    }
   ],
   "source": [
    "qcFile2 = os.path.splitext(qcFile)[0] + '_noN.fasta'\n",
    "qcFile2"
   ]
  },
  {
   "cell_type": "code",
   "execution_count": 14,
   "metadata": {
    "collapsed": false
   },
   "outputs": [
    {
     "name": "stdout",
     "output_type": "stream",
     "text": [
      "Number of sequence pre-filter: 12432703\n",
      "Number of sequences post-filter: 12432703\n"
     ]
    }
   ],
   "source": [
    "%%bash -s \"$qcFile\" \"$qcFile2\"\n",
    "\n",
    "bioawk -c fastx '{if ($seq !~ /N/){print \">\" $name \" \" $4 \"\\n\" $seq}}' $1 > $2\n",
    "\n",
    "printf \"Number of sequence pre-filter: \"\n",
    "grep -c \">\" $1\n",
    "\n",
    "printf \"Number of sequences post-filter: \"\n",
    "grep -c \">\" $2"
   ]
  },
  {
   "cell_type": "markdown",
   "metadata": {},
   "source": [
    "## Alignment-based QC with Mothur"
   ]
  },
  {
   "cell_type": "code",
   "execution_count": 15,
   "metadata": {
    "collapsed": false
   },
   "outputs": [
    {
     "name": "stdout",
     "output_type": "stream",
     "text": [
      "2-1-RS_1\t2-1-RS\n",
      "2-5-RT_3\t2-5-RT\n",
      "3-1-RT_4\t3-1-RT\n",
      "2-4-L_5\t2-4-L\n",
      "3-2-BS_6\t3-2-BS\n",
      "M2-1_7\tM2-1\n",
      "M5-3_8\tM5-3\n",
      "6-1-RT_9\t6-1-RT\n",
      "F4-1_10\tF4-1\n",
      "1-2-BS_11\t1-2-BS\n"
     ]
    }
   ],
   "source": [
    "%%bash -s \"$qcFile2\"\n",
    "# making mothur group file\n",
    "\n",
    "perl -ne 'if(/^>/){ s/>(.+)(_\\d+) .+/$1$2\\t$1/; print;}' $1 > group_file.txt\n",
    "head group_file.txt"
   ]
  },
  {
   "cell_type": "code",
   "execution_count": 16,
   "metadata": {
    "collapsed": false
   },
   "outputs": [
    {
     "name": "stdout",
     "output_type": "stream",
     "text": [
      "2-1-RS_1\t2-1-RS\r\n",
      "2-5-RT_3\t2-5-RT\r\n",
      "3-1-RT_4\t3-1-RT\r\n",
      "2-4-L_5\t2-4-L\r\n",
      "3-2-BS_6\t3-2-BS\r\n",
      "M2-1_7\tM2-1\r\n",
      "M5-3_8\tM5-3\r\n",
      "6-1-RT_9\t6-1-RT\r\n",
      "F4-1_10\tF4-1\r\n",
      "1-2-BS_11\t1-2-BS\r\n",
      "1-1-RT_12\t1-1-RT\r\n",
      "1-1-RT_13\t1-1-RT\r\n",
      "2-1-RS_14\t2-1-RS\r\n",
      "1-5-RT_15\t1-5-RT\r\n",
      "2-5-F_17\t2-5-F\r\n",
      "3-1-RT_18\t3-1-RT\r\n",
      "3-5-BS_19\t3-5-BS\r\n",
      "M1-2_20\tM1-2\r\n",
      "6-3-BS_21\t6-3-BS\r\n",
      "1-3-F_22\t1-3-F\r\n",
      "1-2-BS_23\t1-2-BS\r\n",
      "2-2-RT_24\t2-2-RT\r\n",
      "5-4-F_25\t5-4-F\r\n",
      "4-4-RS_26\t4-4-RS\r\n",
      "4-1-F_27\t4-1-F\r\n",
      "F2-1_28\tF2-1\r\n",
      "3-5-F_29\t3-5-F\r\n",
      "1-5-RT_30\t1-5-RT\r\n",
      "3-1-RT_31\t3-1-RT\r\n",
      "6-1-RT_32\t6-1-RT\r\n",
      "5-3-RT_33\t5-3-RT\r\n",
      "5-3-RT_34\t5-3-RT\r\n",
      "3-2-BS_35\t3-2-BS\r\n",
      "1-3-RS_36\t1-3-RS\r\n",
      "5-3-L_37\t5-3-L\r\n",
      "3-1-L_38\t3-1-L\r\n",
      "1-3-RT_39\t1-3-RT\r\n",
      "6-4-F_40\t6-4-F\r\n",
      "6-1-RT_41\t6-1-RT\r\n",
      "1-3-RS_42\t1-3-RS\r\n",
      "4-1-F_43\t4-1-F\r\n",
      "1-3-RS_44\t1-3-RS\r\n",
      "6-3-BS_45\t6-3-BS\r\n",
      "4-5-RT_46\t4-5-RT\r\n",
      "2-5-L_47\t2-5-L\r\n",
      "1-4-RS_48\t1-4-RS\r\n",
      "4-3-F_50\t4-3-F\r\n",
      "5-3-RS_51\t5-3-RS\r\n",
      "5-3-RT_52\t5-3-RT\r\n",
      "3-1-RT_53\t3-1-RT\r\n",
      "3-1-F_54\t3-1-F\r\n",
      "2-5-L_55\t2-5-L\r\n",
      "3-3-RT_56\t3-3-RT\r\n",
      "1-1-F_57\t1-1-F\r\n",
      "1-3-RS_58\t1-3-RS\r\n",
      "4-4-L_59\t4-4-L\r\n",
      "4-3-F_60\t4-3-F\r\n",
      "4-1-F_62\t4-1-F\r\n",
      "5-3-RS_63\t5-3-RS\r\n",
      "3-2-RS_64\t3-2-RS\r\n",
      "1-2-RT_65\t1-2-RT\r\n",
      "6-3-BS_66\t6-3-BS\r\n",
      "1-3-RT_67\t1-3-RT\r\n",
      "4-1-F_68\t4-1-F\r\n",
      "F1-1_69\tF1-1\r\n",
      "5-1-BS_70\t5-1-BS\r\n",
      "1-3-RS_71\t1-3-RS\r\n",
      "5-3-RS_72\t5-3-RS\r\n",
      "F1-3_73\tF1-3\r\n",
      "6-3-BS_74\t6-3-BS\r\n",
      "M5-3_76\tM5-3\r\n",
      "3-1-RT_77\t3-1-RT\r\n",
      "4-2-L_78\t4-2-L\r\n",
      "6-2-BS_79\t6-2-BS\r\n",
      "2-5-F_80\t2-5-F\r\n",
      "5-4-F_81\t5-4-F\r\n",
      "4-3-F_82\t4-3-F\r\n",
      "3-4-L_83\t3-4-L\r\n",
      "4-3-F_84\t4-3-F\r\n",
      "3-2-RT_85\t3-2-RT\r\n",
      "3-3-F_86\t3-3-F\r\n",
      "1-3-BS_87\t1-3-BS\r\n",
      "3-2-BS_88\t3-2-BS\r\n",
      "6-2-BS_89\t6-2-BS\r\n",
      "M5-3_90\tM5-3\r\n",
      "1-3-RT_91\t1-3-RT\r\n",
      "F5-1_92\tF5-1\r\n",
      "3-2-RS_93\t3-2-RS\r\n",
      "5-4-L_94\t5-4-L\r\n",
      "3-1-L_95\t3-1-L\r\n",
      "4-3-F_96\t4-3-F\r\n",
      "5-4-F_97\t5-4-F\r\n",
      "2-1-L_98\t2-1-L\r\n",
      "1-5-L_99\t1-5-L\r\n",
      "4-5-RT_100\t4-5-RT\r\n",
      "6-1-F_101\t6-1-F\r\n",
      "1-4-RT_102\t1-4-RT\r\n",
      "5-3-L_103\t5-3-L\r\n",
      "1-4-RS_104\t1-4-RS\r\n",
      "1-4-RS_105\t1-4-RS\r\n",
      "4-1-F_106\t4-1-F\r\n",
      "1-4-RS_107\t1-4-RS\r\n",
      "F3-2_108\tF3-2\r\n",
      "3-3-RS_109\t3-3-RS\r\n",
      "1-3-RT_110\t1-3-RT\r\n",
      "4-1-F_111\t4-1-F\r\n",
      "3-5-RS_112\t3-5-RS\r\n",
      "3-2-RS_113\t3-2-RS\r\n",
      "3-3-RS_114\t3-3-RS\r\n",
      "4-5-BS_115\t4-5-BS\r\n",
      "F4-2_116\tF4-2\r\n",
      "M2-1_117\tM2-1\r\n",
      "F5-1_118\tF5-1\r\n",
      "F5-3_119\tF5-3\r\n",
      "1-4-RT_120\t1-4-RT\r\n",
      "2-5-F_121\t2-5-F\r\n",
      "5-2-L_123\t5-2-L\r\n",
      "4-1-F_124\t4-1-F\r\n",
      "6-3-RS_125\t6-3-RS\r\n",
      "3-3-RS_126\t3-3-RS\r\n",
      "1-1-RS_127\t1-1-RS\r\n",
      "1-4-RT_128\t1-4-RT\r\n",
      "1-4-RT_129\t1-4-RT\r\n",
      "1-4-RS_130\t1-4-RS\r\n",
      "6-3-BS_131\t6-3-BS\r\n",
      "2-4-BS_132\t2-4-BS\r\n",
      "4-5-BS_133\t4-5-BS\r\n",
      "6-4-L_135\t6-4-L\r\n",
      "3-1-RS_136\t3-1-RS\r\n",
      "1-4-RT_137\t1-4-RT\r\n",
      "3-3-F_138\t3-3-F\r\n",
      "1-4-RT_139\t1-4-RT\r\n",
      "2-5-L_140\t2-5-L\r\n",
      "4-3-L_142\t4-3-L\r\n",
      "5-2-L_143\t5-2-L\r\n",
      "6-1-F_144\t6-1-F\r\n",
      "3-1-RT_145\t3-1-RT\r\n",
      "F3-1_146\tF3-1\r\n",
      "3-5-BS_147\t3-5-BS\r\n",
      "3-2-RS_148\t3-2-RS\r\n",
      "2-4-RS_149\t2-4-RS\r\n",
      "3-1-F_150\t3-1-F\r\n",
      "3-2-RS_151\t3-2-RS\r\n",
      "1-1-BS_152\t1-1-BS\r\n",
      "1-3-RT_153\t1-3-RT\r\n",
      "3-2-L_154\t3-2-L\r\n",
      "M2-1_155\tM2-1\r\n",
      "1-1-L_156\t1-1-L\r\n",
      "3-2-RS_157\t3-2-RS\r\n",
      "3-2-BS_158\t3-2-BS\r\n",
      "M2-1_159\tM2-1\r\n",
      "M5-1_160\tM5-1\r\n",
      "M2-1_161\tM2-1\r\n",
      "2-1-L_162\t2-1-L\r\n",
      "2-1-L_163\t2-1-L\r\n",
      "M2-1_164\tM2-1\r\n",
      "2-5-L_165\t2-5-L\r\n",
      "3-4-BS_166\t3-4-BS\r\n",
      "6-2-RT_167\t6-2-RT\r\n",
      "3-3-RT_168\t3-3-RT\r\n",
      "4-4-BS_169\t4-4-BS\r\n",
      "6-4-RT_170\t6-4-RT\r\n",
      "2-5-RT_171\t2-5-RT\r\n",
      "6-3-BS_172\t6-3-BS\r\n",
      "1-1-L_173\t1-1-L\r\n",
      "F4-1_175\tF4-1\r\n",
      "1-1-F_176\t1-1-F\r\n",
      "1-4-RT_177\t1-4-RT\r\n",
      "2-5-RT_178\t2-5-RT\r\n",
      "5-3-RS_179\t5-3-RS\r\n",
      "3-2-L_180\t3-2-L\r\n",
      "4-1-BS_181\t4-1-BS\r\n",
      "1-1-L_182\t1-1-L\r\n",
      "3-1-F_183\t3-1-F\r\n",
      "2-1-F_184\t2-1-F\r\n",
      "1-3-RS_185\t1-3-RS\r\n",
      "4-1-RS_186\t4-1-RS\r\n",
      "1-1-BS_187\t1-1-BS\r\n",
      "M2-1_188\tM2-1\r\n",
      "5-5-L_189\t5-5-L\r\n",
      "1-3-F_190\t1-3-F\r\n",
      "3-2-BS_192\t3-2-BS\r\n",
      "M2-1_193\tM2-1\r\n",
      "3-3-RS_194\t3-3-RS\r\n",
      "1-1-RS_195\t1-1-RS\r\n",
      "3-1-F_196\t3-1-F\r\n",
      "3-3-RS_197\t3-3-RS\r\n",
      "1-3-RS_198\t1-3-RS\r\n",
      "1-1-L_199\t1-1-L\r\n",
      "3-5-RS_201\t3-5-RS\r\n",
      "4-1-RT_202\t4-1-RT\r\n",
      "M2-1_203\tM2-1\r\n",
      "1-2-L_204\t1-2-L\r\n",
      "6-2-BS_205\t6-2-BS\r\n",
      "6-4-L_206\t6-4-L\r\n",
      "4-3-L_207\t4-3-L\r\n",
      "3-1-RS_208\t3-1-RS\r\n",
      "5-2-RT_209\t5-2-RT\r\n",
      "1-3-RS_210\t1-3-RS\r\n",
      "2-5-RS_211\t2-5-RS\r\n"
     ]
    }
   ],
   "source": [
    "! head -n 200 group_file.txt"
   ]
  },
  {
   "cell_type": "code",
   "execution_count": 17,
   "metadata": {
    "collapsed": false
   },
   "outputs": [
    {
     "name": "stdout",
     "output_type": "stream",
     "text": [
      "12411000\t4444408\r\n",
      "12412000\t4444755\r\n",
      "12413000\t4445136\r\n",
      "12414000\t4445547\r\n",
      "12415000\t4445932\r\n",
      "12416000\t4446307\r\n",
      "12417000\t4446688\r\n",
      "12418000\t4447096\r\n",
      "12419000\t4447492\r\n",
      "12420000\t4447892\r\n",
      "12421000\t4448310\r\n",
      "12422000\t4448696\r\n",
      "12423000\t4449086\r\n",
      "12424000\t4449454\r\n",
      "12425000\t4449853\r\n",
      "12426000\t4450265\r\n",
      "12427000\t4450665\r\n",
      "12428000\t4451077\r\n",
      "12429000\t4451467\r\n",
      "12430000\t4451905\r\n",
      "12431000\t4452358\r\n",
      "12432000\t4452830\r\n",
      "12432703\t4453274\r\n",
      "\r\n",
      "Output File Names: \r\n",
      "pear_merged-2018-03-30.assembled.dmult_maxee1_noN.names\r\n",
      "pear_merged-2018-03-30.assembled.dmult_maxee1_noN.unique.fasta\r\n",
      "\r\n",
      "\r\n",
      "mothur > quit()\r\n"
     ]
    }
   ],
   "source": [
    "# unique sequences\n",
    "cmd = 'mothur \"#unique.seqs(fasta={})\"'.format(qcFile2)\n",
    "!$cmd | tail -n 30"
   ]
  },
  {
   "cell_type": "code",
   "execution_count": 18,
   "metadata": {
    "collapsed": false
   },
   "outputs": [
    {
     "name": "stdout",
     "output_type": "stream",
     "text": [
      "Number of unique sequences: 4453274\n"
     ]
    }
   ],
   "source": [
    "qcFile3 = os.path.splitext(qcFile2)[0] + '.unique.fasta'\n",
    "n_uniq = !grep -c \">\" $qcFile3\n",
    "print ('Number of unique sequences: {}'.format(n_uniq[0]))"
   ]
  },
  {
   "cell_type": "code",
   "execution_count": 19,
   "metadata": {
    "collapsed": false
   },
   "outputs": [
    {
     "name": "stdout",
     "output_type": "stream",
     "text": [
      "-rw-rw-r-- 1 sam sam 238M Apr 23 10:01 pear_merged-2018-03-30.assembled.dmult_maxee1_noN.names\r\n"
     ]
    }
   ],
   "source": [
    "# name file produced by unique.seqs()\n",
    "nameFile = os.path.splitext(qcFile2)[0] + '.names'\n",
    "!ls -thlc $nameFile"
   ]
  },
  {
   "cell_type": "code",
   "execution_count": 17,
   "metadata": {
    "collapsed": false
   },
   "outputs": [
    {
     "name": "stdout",
     "output_type": "stream",
     "text": [
      "Archive:  silva_Bac.zip\n",
      "   creating: silva.bacteria/\n",
      "  inflating: silva.bacteria/.DS_Store  \n",
      "   creating: __MACOSX/\n",
      "   creating: __MACOSX/silva.bacteria/\n",
      "  inflating: __MACOSX/silva.bacteria/._.DS_Store  \n",
      "  inflating: silva.bacteria/silva.bacteria.fasta  \n",
      "  inflating: __MACOSX/silva.bacteria/._silva.bacteria.fasta  \n",
      "  inflating: silva.bacteria/silva.bacteria.gg.tax  \n",
      "  inflating: __MACOSX/silva.bacteria/._silva.bacteria.gg.tax  \n",
      "  inflating: silva.bacteria/silva.bacteria.ncbi.tax  \n",
      "  inflating: __MACOSX/silva.bacteria/._silva.bacteria.ncbi.tax  \n",
      "  inflating: silva.bacteria/silva.bacteria.rdp.tax  \n",
      "  inflating: __MACOSX/silva.bacteria/._silva.bacteria.rdp.tax  \n",
      "  inflating: silva.bacteria/silva.bacteria.rdp6.tax  \n",
      "  inflating: __MACOSX/silva.bacteria/._silva.bacteria.rdp6.tax  \n",
      "  inflating: silva.bacteria/silva.bacteria.silva.tax  \n",
      "  inflating: __MACOSX/silva.bacteria/._silva.bacteria.silva.tax  \n",
      "  inflating: silva.bacteria/silva.gold.ng.fasta  \n",
      "  inflating: __MACOSX/._silva.bacteria  \n",
      "Archive:  silva_Euk.zip\n",
      "   creating: silva.eukarya/\n",
      "  inflating: silva.eukarya/nogap.eukarya.fasta  \n",
      "   creating: __MACOSX/silva.eukarya/\n",
      "  inflating: __MACOSX/silva.eukarya/._nogap.eukarya.fasta  \n",
      "  inflating: silva.eukarya/silva.eukarya.fasta  \n",
      "  inflating: __MACOSX/silva.eukarya/._silva.eukarya.fasta  \n",
      "  inflating: silva.eukarya/silva.eukarya.ncbi.tax  \n",
      "  inflating: __MACOSX/silva.eukarya/._silva.eukarya.ncbi.tax  \n",
      "  inflating: silva.eukarya/silva.eukarya.silva.tax  \n",
      "  inflating: __MACOSX/silva.eukarya/._silva.eukarya.silva.tax  \n",
      "  inflating: __MACOSX/._silva.eukarya  \n",
      "Archive:  silva_Arc.zip\n",
      "   creating: Silva.archaea/\n",
      "  inflating: Silva.archaea/.silva.archaea.silva.tax.swp  \n",
      "   creating: __MACOSX/Silva.archaea/\n",
      "  inflating: __MACOSX/Silva.archaea/._.silva.archaea.silva.tax.swp  \n",
      "  inflating: Silva.archaea/nogap.archaea.fasta  \n",
      "  inflating: __MACOSX/Silva.archaea/._nogap.archaea.fasta  \n",
      "  inflating: Silva.archaea/silva.archaea.fasta  \n",
      "  inflating: __MACOSX/Silva.archaea/._silva.archaea.fasta  \n",
      "  inflating: Silva.archaea/silva.archaea.gg.tax  \n",
      "  inflating: Silva.archaea/silva.archaea.ncbi.tax  \n",
      "  inflating: Silva.archaea/silva.archaea.rdp.tax  \n",
      "  inflating: Silva.archaea/silva.archaea.silva.tax  \n",
      "  inflating: __MACOSX/Silva.archaea/._silva.archaea.silva.tax  \n",
      "  inflating: __MACOSX/._Silva.archaea  \n",
      "Number of sequences in mothur silva fasta: 18491\n"
     ]
    },
    {
     "name": "stderr",
     "output_type": "stream",
     "text": [
      "  % Total    % Received % Xferd  Average Speed   Time    Time     Time  Current\n",
      "                                 Dload  Upload   Total   Spent    Left  Speed\n",
      "\r",
      "  0     0    0     0    0     0      0      0 --:--:-- --:--:-- --:--:--     0\r",
      "  3 24.3M    3  832k    0     0   851k      0  0:00:29 --:--:--  0:00:29  850k\r",
      "  8 24.3M    8 2076k    0     0  1041k      0  0:00:23  0:00:01  0:00:22 1040k\r",
      " 13 24.3M   13 3424k    0     0  1145k      0  0:00:21  0:00:02  0:00:19 1145k\r",
      " 19 24.3M   19 4910k    0     0  1232k      0  0:00:20  0:00:03  0:00:17 1231k\r",
      " 26 24.3M   26 6510k    0     0  1307k      0  0:00:19  0:00:04  0:00:15 1307k\r",
      " 32 24.3M   32 8222k    0     0  1373k      0  0:00:18  0:00:05  0:00:13 1475k\r",
      " 40 24.3M   40  9.7M    0     0  1431k      0  0:00:17  0:00:06  0:00:11 1587k\r",
      " 46 24.3M   46 11.4M    0     0  1469k      0  0:00:16  0:00:07  0:00:09 1662k\r",
      " 54 24.3M   54 13.1M    0     0  1501k      0  0:00:16  0:00:08  0:00:08 1716k\r",
      " 61 24.3M   61 14.9M    0     0  1532k      0  0:00:16  0:00:09  0:00:07 1756k\r",
      " 68 24.3M   68 16.7M    0     0  1562k      0  0:00:15  0:00:10  0:00:05 1789k\r",
      " 76 24.3M   76 18.7M    0     0  1598k      0  0:00:15  0:00:11  0:00:04 1830k\r",
      " 85 24.3M   85 20.8M    0     0  1645k      0  0:00:15  0:00:12  0:00:03 1927k\r",
      " 94 24.3M   94 23.1M    0     0  1694k      0  0:00:14  0:00:13  0:00:01 2041k\r",
      "100 24.3M  100 24.3M    0     0  1721k      0  0:00:14  0:00:14 --:--:-- 2137k\n",
      "  % Total    % Received % Xferd  Average Speed   Time    Time     Time  Current\n",
      "                                 Dload  Upload   Total   Spent    Left  Speed\n",
      "\r",
      "  0     0    0     0    0     0      0      0 --:--:-- --:--:-- --:--:--     0\r",
      " 29 2464k   29  734k    0     0   953k      0  0:00:02 --:--:--  0:00:02  952k\r",
      " 79 2464k   79 1948k    0     0  1100k      0  0:00:02  0:00:01  0:00:01 1100k\r",
      "100 2464k  100 2464k    0     0  1134k      0  0:00:02  0:00:02 --:--:-- 1134k\n",
      "  % Total    % Received % Xferd  Average Speed   Time    Time     Time  Current\n",
      "                                 Dload  Upload   Total   Spent    Left  Speed\n",
      "\r",
      "  0     0    0     0    0     0      0      0 --:--:-- --:--:-- --:--:--     0\r",
      "  1 3773k    1 43290    0     0   220k      0  0:00:17 --:--:--  0:00:17  219k\r",
      " 33 3773k   33 1280k    0     0  1057k      0  0:00:03  0:00:01  0:00:02 1056k\r",
      " 65 3773k   65 2464k    0     0  1116k      0  0:00:03  0:00:02  0:00:01 1116k\r",
      " 99 3773k   99 3756k    0     0  1176k      0  0:00:03  0:00:03 --:--:-- 1176k\r",
      "100 3773k  100 3773k    0     0  1180k      0  0:00:03  0:00:03 --:--:-- 1180k\n"
     ]
    }
   ],
   "source": [
    "%%bash \n",
    "# dowloading mothur silva databases\n",
    "\n",
    "if [ -d mothur_silva_db ]; then\n",
    "    rm -rf mothur_silva_db\n",
    "fi\n",
    "\n",
    "#if ! [ -d mothur_silva_db ]; then\n",
    "#    mkdir mothur_silva_db\n",
    "#fi\n",
    "\n",
    "mkdir mothur_silva_db\n",
    "cd mothur_silva_db\n",
    "\n",
    "# downloading\n",
    "if ! [ -e $1silva_ref_aln_mothur.fasta ]; then\n",
    "    curl -o silva_Bac.zip https://www.mothur.org/w/images/9/98/Silva.bacteria.zip && unzip silva_Bac.zip\n",
    "    curl -o silva_Euk.zip https://www.mothur.org/w/images/1/1a/Silva.eukarya.zip && unzip silva_Euk.zip\n",
    "    curl -o silva_Arc.zip https://www.mothur.org/w/images/3/3c/Silva.archaea.zip && unzip silva_Arc.zip\n",
    "fi\n",
    "\n",
    "# combining \n",
    "cat silva.bacteria/silva.bacteria.fasta \\\n",
    "    silva.eukarya/silva.eukarya.fasta \\\n",
    "    Silva.archaea/silva.archaea.fasta \\\n",
    "    > silva_ref_aln_mothur.fasta\n",
    "    \n",
    "# status\n",
    "printf \"Number of sequences in mothur silva fasta: \"\n",
    "grep -c \">\" silva_ref_aln_mothur.fasta    "
   ]
  },
  {
   "cell_type": "code",
   "execution_count": 20,
   "metadata": {
    "collapsed": false
   },
   "outputs": [
    {
     "name": "stdout",
     "output_type": "stream",
     "text": [
      "silva.seed_v128.tax\n",
      "silva.seed_v128.align\n",
      "README.md\n"
     ]
    },
    {
     "name": "stderr",
     "output_type": "stream",
     "text": [
      "--2018-04-23 10:07:30--  https://www.mothur.org/w/images/a/a4/Silva.seed_v128.tgz\n",
      "Resolving www.mothur.org (www.mothur.org)... 141.214.120.22\n",
      "Connecting to www.mothur.org (www.mothur.org)|141.214.120.22|:443... connected.\n",
      "HTTP request sent, awaiting response... 200 OK\n",
      "Length: 19686026 (19M) [application/x-gzip]\n",
      "Saving to: ‘Silva.seed_v128.tgz’\n",
      "\n",
      "     0K .......... .......... .......... .......... ..........  0% 1.89M 10s\n",
      "    50K .......... .......... .......... .......... ..........  0%  999K 15s\n",
      "   100K .......... .......... .......... .......... ..........  0% 1.86M 13s\n",
      "   150K .......... .......... .......... .......... ..........  1% 1001K 14s\n",
      "   200K .......... .......... .......... .......... ..........  1% 1.87M 14s\n",
      "   250K .......... .......... .......... .......... ..........  1% 1000K 14s\n",
      "   300K .......... .......... .......... .......... ..........  1% 1.89M 14s\n",
      "   350K .......... .......... .......... .......... ..........  2%  971K 14s\n",
      "   400K .......... .......... .......... .......... ..........  2%  993K 15s\n",
      "   450K .......... .......... .......... .......... ..........  2% 1.82M 14s\n",
      "   500K .......... .......... .......... .......... ..........  2%  951K 15s\n",
      "   550K .......... .......... .......... .......... ..........  3% 1.84M 14s\n",
      "   600K .......... .......... .......... .......... ..........  3%  978K 15s\n",
      "   650K .......... .......... .......... .......... ..........  3% 1.65M 14s\n",
      "   700K .......... .......... .......... .......... ..........  3%  954K 15s\n",
      "   750K .......... .......... .......... .......... ..........  4% 1.86M 14s\n",
      "   800K .......... .......... .......... .......... ..........  4%  979K 15s\n",
      "   850K .......... .......... .......... .......... ..........  4% 1006K 15s\n",
      "   900K .......... .......... .......... .......... ..........  4% 1.72M 14s\n",
      "   950K .......... .......... .......... .......... ..........  5%  877K 15s\n",
      "  1000K .......... .......... .......... .......... ..........  5% 1.79M 14s\n",
      "  1050K .......... .......... .......... .......... ..........  5%  947K 15s\n",
      "  1100K .......... .......... .......... .......... ..........  5% 1.45M 14s\n",
      "  1150K .......... .......... .......... .......... ..........  6%  991K 15s\n",
      "  1200K .......... .......... .......... .......... ..........  6%  993K 15s\n",
      "  1250K .......... .......... .......... .......... ..........  6% 1.91M 14s\n",
      "  1300K .......... .......... .......... .......... ..........  7%  994K 15s\n",
      "  1350K .......... .......... .......... .......... ..........  7% 1.85M 14s\n",
      "  1400K .......... .......... .......... .......... ..........  7% 1009K 14s\n",
      "  1450K .......... .......... .......... .......... ..........  7% 1.88M 14s\n",
      "  1500K .......... .......... .......... .......... ..........  8% 1005K 14s\n",
      "  1550K .......... .......... .......... .......... ..........  8%  996K 14s\n",
      "  1600K .......... .......... .......... .......... ..........  8% 1.88M 14s\n",
      "  1650K .......... .......... .......... .......... ..........  8% 1004K 14s\n",
      "  1700K .......... .......... .......... .......... ..........  9% 1.88M 14s\n",
      "  1750K .......... .......... .......... .......... ..........  9% 1002K 14s\n",
      "  1800K .......... .......... .......... .......... ..........  9% 1.90M 14s\n",
      "  1850K .......... .......... .......... .......... ..........  9% 1001K 14s\n",
      "  1900K .......... .......... .......... .......... .......... 10% 1.89M 14s\n",
      "  1950K .......... .......... .......... .......... .......... 10%  990K 14s\n",
      "  2000K .......... .......... .......... .......... .......... 10% 1.89M 14s\n",
      "  2050K .......... .......... .......... .......... .......... 10%  996K 14s\n",
      "  2100K .......... .......... .......... .......... .......... 11% 1.77M 14s\n",
      "  2150K .......... .......... .......... .......... .......... 11% 1.84M 13s\n",
      "  2200K .......... .......... .......... .......... .......... 11% 1.90M 13s\n",
      "  2250K .......... .......... .......... .......... .......... 11% 1.87M 13s\n",
      "  2300K .......... .......... .......... .......... .......... 12%  961K 13s\n",
      "  2350K .......... .......... .......... .......... .......... 12% 1.84M 13s\n",
      "  2400K .......... .......... .......... .......... .......... 12%  993K 13s\n",
      "  2450K .......... .......... .......... .......... .......... 13% 1.87M 13s\n",
      "  2500K .......... .......... .......... .......... .......... 13% 1.52M 13s\n",
      "  2550K .......... .......... .......... .......... .......... 13% 1.86M 13s\n",
      "  2600K .......... .......... .......... .......... .......... 13% 1.83M 13s\n",
      "  2650K .......... .......... .......... .......... .......... 14% 1.80M 13s\n",
      "  2700K .......... .......... .......... .......... .......... 14%  873K 13s\n",
      "  2750K .......... .......... .......... .......... .......... 14% 1.66M 13s\n",
      "  2800K .......... .......... .......... .......... .......... 14% 1.48M 12s\n",
      "  2850K .......... .......... .......... .......... .......... 15%  935K 13s\n",
      "  2900K .......... .......... .......... .......... .......... 15% 1.46M 12s\n",
      "  2950K .......... .......... .......... .......... .......... 15% 1.87M 12s\n",
      "  3000K .......... .......... .......... .......... .......... 15% 1.89M 12s\n",
      "  3050K .......... .......... .......... .......... .......... 16% 1003K 12s\n",
      "  3100K .......... .......... .......... .......... .......... 16% 1.85M 12s\n",
      "  3150K .......... .......... .......... .......... .......... 16% 1.83M 12s\n",
      "  3200K .......... .......... .......... .......... .......... 16% 1.90M 12s\n",
      "  3250K .......... .......... .......... .......... .......... 17%  994K 12s\n",
      "  3300K .......... .......... .......... .......... .......... 17% 1.89M 12s\n",
      "  3350K .......... .......... .......... .......... .......... 17% 1.88M 12s\n",
      "  3400K .......... .......... .......... .......... .......... 17% 1.90M 12s\n",
      "  3450K .......... .......... .......... .......... .......... 18% 1.87M 12s\n",
      "  3500K .......... .......... .......... .......... .......... 18% 1.88M 12s\n",
      "  3550K .......... .......... .......... .......... .......... 18%  992K 12s\n",
      "  3600K .......... .......... .......... .......... .......... 18% 1.87M 12s\n",
      "  3650K .......... .......... .......... .......... .......... 19% 1.86M 11s\n",
      "  3700K .......... .......... .......... .......... .......... 19% 1.80M 11s\n",
      "  3750K .......... .......... .......... .......... .......... 19% 1.88M 11s\n",
      "  3800K .......... .......... .......... .......... .......... 20% 1.66M 11s\n",
      "  3850K .......... .......... .......... .......... .......... 20% 1.91M 11s\n",
      "  3900K .......... .......... .......... .......... .......... 20% 1.79M 11s\n",
      "  3950K .......... .......... .......... .......... .......... 20% 1.86M 11s\n",
      "  4000K .......... .......... .......... .......... .......... 21% 1.83M 11s\n",
      "  4050K .......... .......... .......... .......... .......... 21% 1.89M 11s\n",
      "  4100K .......... .......... .......... .......... .......... 21% 1.89M 11s\n",
      "  4150K .......... .......... .......... .......... .......... 21% 1.88M 11s\n",
      "  4200K .......... .......... .......... .......... .......... 22% 1000K 11s\n",
      "  4250K .......... .......... .......... .......... .......... 22% 1.88M 11s\n",
      "  4300K .......... .......... .......... .......... .......... 22% 1.90M 11s\n",
      "  4350K .......... .......... .......... .......... .......... 22% 1.89M 10s\n",
      "  4400K .......... .......... .......... .......... .......... 23% 1.90M 10s\n",
      "  4450K .......... .......... .......... .......... .......... 23% 1.90M 10s\n",
      "  4500K .......... .......... .......... .......... .......... 23% 1.91M 10s\n",
      "  4550K .......... .......... .......... .......... .......... 23% 1.86M 10s\n",
      "  4600K .......... .......... .......... .......... .......... 24% 1.90M 10s\n",
      "  4650K .......... .......... .......... .......... .......... 24% 1.88M 10s\n",
      "  4700K .......... .......... .......... .......... .......... 24% 1.90M 10s\n",
      "  4750K .......... .......... .......... .......... .......... 24%  997K 10s\n",
      "  4800K .......... .......... .......... .......... .......... 25% 1.89M 10s\n",
      "  4850K .......... .......... .......... .......... .......... 25% 1.87M 10s\n",
      "  4900K .......... .......... .......... .......... .......... 25% 1.88M 10s\n",
      "  4950K .......... .......... .......... .......... .......... 26% 1.90M 10s\n",
      "  5000K .......... .......... .......... .......... .......... 26% 1.89M 10s\n",
      "  5050K .......... .......... .......... .......... .......... 26% 1.91M 10s\n",
      "  5100K .......... .......... .......... .......... .......... 26%  996K 10s\n",
      "  5150K .......... .......... .......... .......... .......... 27% 1.86M 10s\n",
      "  5200K .......... .......... .......... .......... .......... 27% 1.92M 10s\n",
      "  5250K .......... .......... .......... .......... .......... 27% 1.90M 10s\n",
      "  5300K .......... .......... .......... .......... .......... 27% 1.89M 9s\n",
      "  5350K .......... .......... .......... .......... .......... 28% 1.91M 9s\n",
      "  5400K .......... .......... .......... .......... .......... 28% 1.29M 9s\n",
      "  5450K .......... .......... .......... .......... .......... 28% 1.90M 9s\n",
      "  5500K .......... .......... .......... .......... .......... 28% 1.90M 9s\n",
      "  5550K .......... .......... .......... .......... .......... 29% 1.90M 9s\n",
      "  5600K .......... .......... .......... .......... .......... 29% 1.87M 9s\n",
      "  5650K .......... .......... .......... .......... .......... 29% 1.92M 9s\n",
      "  5700K .......... .......... .......... .......... .......... 29% 1003K 9s\n",
      "  5750K .......... .......... .......... .......... .......... 30% 1.90M 9s\n",
      "  5800K .......... .......... .......... .......... .......... 30% 1.91M 9s\n",
      "  5850K .......... .......... .......... .......... .......... 30% 1.92M 9s\n",
      "  5900K .......... .......... .......... .......... .......... 30% 1.88M 9s\n",
      "  5950K .......... .......... .......... .......... .......... 31% 1.92M 9s\n",
      "  6000K .......... .......... .......... .......... .......... 31% 1.87M 9s\n",
      "  6050K .......... .......... .......... .......... .......... 31% 1.91M 9s\n",
      "  6100K .......... .......... .......... .......... .......... 31% 1.88M 9s\n",
      "  6150K .......... .......... .......... .......... .......... 32% 1.88M 9s\n",
      "  6200K .......... .......... .......... .......... .......... 32% 1.89M 9s\n",
      "  6250K .......... .......... .......... .......... .......... 32% 1.92M 9s\n",
      "  6300K .......... .......... .......... .......... .......... 33% 1.86M 9s\n",
      "  6350K .......... .......... .......... .......... .......... 33% 1.89M 8s\n",
      "  6400K .......... .......... .......... .......... .......... 33% 1013K 8s\n",
      "  6450K .......... .......... .......... .......... .......... 33% 1.91M 8s\n",
      "  6500K .......... .......... .......... .......... .......... 34% 1.91M 8s\n",
      "  6550K .......... .......... .......... .......... .......... 34% 1.42M 8s\n",
      "  6600K .......... .......... .......... .......... .......... 34% 1.60M 8s\n",
      "  6650K .......... .......... .......... .......... .......... 34% 1.91M 8s\n",
      "  6700K .......... .......... .......... .......... .......... 35% 1.91M 8s\n",
      "  6750K .......... .......... .......... .......... .......... 35% 1.91M 8s\n",
      "  6800K .......... .......... .......... .......... .......... 35% 1.77M 8s\n",
      "  6850K .......... .......... .......... .......... .......... 35% 1.93M 8s\n",
      "  6900K .......... .......... .......... .......... .......... 36% 1.89M 8s\n",
      "  6950K .......... .......... .......... .......... .......... 36% 1.90M 8s\n",
      "  7000K .......... .......... .......... .......... .......... 36% 1.92M 8s\n",
      "  7050K .......... .......... .......... .......... .......... 36% 1.92M 8s\n",
      "  7100K .......... .......... .......... .......... .......... 37% 1.23M 8s\n",
      "  7150K .......... .......... .......... .......... .......... 37% 1.89M 8s\n",
      "  7200K .......... .......... .......... .......... .......... 37% 1.92M 8s\n",
      "  7250K .......... .......... .......... .......... .......... 37% 1.93M 8s\n",
      "  7300K .......... .......... .......... .......... .......... 38% 1.91M 8s\n",
      "  7350K .......... .......... .......... .......... .......... 38% 1.89M 8s\n",
      "  7400K .......... .......... .......... .......... .......... 38% 1.92M 8s\n",
      "  7450K .......... .......... .......... .......... .......... 39% 1.89M 8s\n",
      "  7500K .......... .......... .......... .......... .......... 39% 1.92M 8s\n",
      "  7550K .......... .......... .......... .......... .......... 39% 1001K 8s\n",
      "  7600K .......... .......... .......... .......... .......... 39% 1.91M 7s\n",
      "  7650K .......... .......... .......... .......... .......... 40% 1.83M 7s\n",
      "  7700K .......... .......... .......... .......... .......... 40% 1.90M 7s\n",
      "  7750K .......... .......... .......... .......... .......... 40% 1.90M 7s\n",
      "  7800K .......... .......... .......... .......... .......... 40% 1.91M 7s\n",
      "  7850K .......... .......... .......... .......... .......... 41% 1.91M 7s\n",
      "  7900K .......... .......... .......... .......... .......... 41% 1.91M 7s\n",
      "  7950K .......... .......... .......... .......... .......... 41% 1.90M 7s\n",
      "  8000K .......... .......... .......... .......... .......... 41% 1.90M 7s\n",
      "  8050K .......... .......... .......... .......... .......... 42% 1.91M 7s\n",
      "  8100K .......... .......... .......... .......... .......... 42% 1.89M 7s\n",
      "  8150K .......... .......... .......... .......... .......... 42% 1.90M 7s\n",
      "  8200K .......... .......... .......... .......... .......... 42% 1.90M 7s\n",
      "  8250K .......... .......... .......... .......... .......... 43% 1.92M 7s\n",
      "  8300K .......... .......... .......... .......... .......... 43% 1014K 7s\n",
      "  8350K .......... .......... .......... .......... .......... 43% 1.91M 7s\n",
      "  8400K .......... .......... .......... .......... .......... 43% 1.92M 7s\n",
      "  8450K .......... .......... .......... .......... .......... 44% 1.89M 7s\n",
      "  8500K .......... .......... .......... .......... .......... 44% 1.94M 7s\n",
      "  8550K .......... .......... .......... .......... .......... 44% 1.90M 7s\n",
      "  8600K .......... .......... .......... .......... .......... 44% 1.91M 7s\n",
      "  8650K .......... .......... .......... .......... .......... 45% 1.92M 7s\n",
      "  8700K .......... .......... .......... .......... .......... 45% 1.36M 7s\n",
      "  8750K .......... .......... .......... .......... .......... 45% 1.90M 7s\n",
      "  8800K .......... .......... .......... .......... .......... 46% 1.92M 7s\n",
      "  8850K .......... .......... .......... .......... .......... 46% 1.89M 7s\n",
      "  8900K .......... .......... .......... .......... .......... 46% 1.91M 6s\n",
      "  8950K .......... .......... .......... .......... .......... 46% 1.89M 6s\n",
      "  9000K .......... .......... .......... .......... .......... 47% 1.92M 6s\n",
      "  9050K .......... .......... .......... .......... .......... 47% 1.91M 6s\n",
      "  9100K .......... .......... .......... .......... .......... 47% 1.91M 6s\n",
      "  9150K .......... .......... .......... .......... .......... 47% 1.88M 6s\n",
      "  9200K .......... .......... .......... .......... .......... 48% 1.89M 6s\n",
      "  9250K .......... .......... .......... .......... .......... 48% 1.91M 6s\n",
      "  9300K .......... .......... .......... .......... .......... 48% 1.88M 6s\n",
      "  9350K .......... .......... .......... .......... .......... 48% 1.91M 6s\n",
      "  9400K .......... .......... .......... .......... .......... 49% 1.90M 6s\n",
      "  9450K .......... .......... .......... .......... .......... 49% 1.93M 6s\n",
      "  9500K .......... .......... .......... .......... .......... 49% 1.56M 6s\n",
      "  9550K .......... .......... .......... .......... .......... 49% 1.00M 6s\n",
      "  9600K .......... .......... .......... .......... .......... 50% 1.89M 6s\n",
      "  9650K .......... .......... .......... .......... .......... 50% 1.91M 6s\n",
      "  9700K .......... .......... .......... .......... .......... 50% 1.91M 6s\n",
      "  9750K .......... .......... .......... .......... .......... 50% 1.92M 6s\n",
      "  9800K .......... .......... .......... .......... .......... 51% 1.91M 6s\n",
      "  9850K .......... .......... .......... .......... .......... 51% 1.87M 6s\n",
      "  9900K .......... .......... .......... .......... .......... 51% 1.51M 6s\n",
      "  9950K .......... .......... .......... .......... .......... 52% 1.74M 6s\n",
      " 10000K .......... .......... .......... .......... .......... 52% 1.33M 6s\n",
      " 10050K .......... .......... .......... .......... .......... 52% 1.79M 6s\n",
      " 10100K .......... .......... .......... .......... .......... 52% 1.90M 6s\n",
      " 10150K .......... .......... .......... .......... .......... 53% 1.90M 6s\n",
      " 10200K .......... .......... .......... .......... .......... 53% 1.89M 6s\n",
      " 10250K .......... .......... .......... .......... .......... 53% 1.90M 6s\n",
      " 10300K .......... .......... .......... .......... .......... 53% 1.94M 6s\n",
      " 10350K .......... .......... .......... .......... .......... 54% 1.90M 5s\n",
      " 10400K .......... .......... .......... .......... .......... 54% 1.92M 5s\n",
      " 10450K .......... .......... .......... .......... .......... 54% 1.90M 5s\n",
      " 10500K .......... .......... .......... .......... .......... 54% 1.92M 5s\n",
      " 10550K .......... .......... .......... .......... .......... 55% 1.92M 5s\n",
      " 10600K .......... .......... .......... .......... .......... 55% 1.92M 5s\n",
      " 10650K .......... .......... .......... .......... .......... 55% 1.91M 5s\n",
      " 10700K .......... .......... .......... .......... .......... 55% 1.91M 5s\n",
      " 10750K .......... .......... .......... .......... .......... 56% 1.05M 5s\n",
      " 10800K .......... .......... .......... .......... .......... 56% 1.92M 5s\n",
      " 10850K .......... .......... .......... .......... .......... 56% 1.91M 5s\n",
      " 10900K .......... .......... .......... .......... .......... 56% 1.91M 5s\n",
      " 10950K .......... .......... .......... .......... .......... 57% 1.91M 5s\n",
      " 11000K .......... .......... .......... .......... .......... 57% 1.92M 5s\n",
      " 11050K .......... .......... .......... .......... .......... 57% 1.91M 5s\n",
      " 11100K .......... .......... .......... .......... .......... 57% 1.92M 5s\n",
      " 11150K .......... .......... .......... .......... .......... 58% 1.92M 5s\n",
      " 11200K .......... .......... .......... .......... .......... 58% 1.67M 5s\n",
      " 11250K .......... .......... .......... .......... .......... 58% 1.93M 5s\n",
      " 11300K .......... .......... .......... .......... .......... 59% 1.92M 5s\n",
      " 11350K .......... .......... .......... .......... .......... 59% 1.93M 5s\n",
      " 11400K .......... .......... .......... .......... .......... 59%  398K 5s\n",
      " 11450K .......... .......... .......... .......... .......... 59% 1.94M 5s\n",
      " 11500K .......... .......... .......... .......... .......... 60% 1.92M 5s\n",
      " 11550K .......... .......... .......... .......... .......... 60% 1.92M 5s\n",
      " 11600K .......... .......... .......... .......... .......... 60% 1.85M 5s\n",
      " 11650K .......... .......... .......... .......... .......... 60% 1.92M 5s\n",
      " 11700K .......... .......... .......... .......... .......... 61% 1.92M 5s\n",
      " 11750K .......... .......... .......... .......... .......... 61% 1.91M 5s\n",
      " 11800K .......... .......... .......... .......... .......... 61% 1.91M 5s\n",
      " 11850K .......... .......... .......... .......... .......... 61% 1.93M 5s\n",
      " 11900K .......... .......... .......... .......... .......... 62% 1.91M 4s\n",
      " 11950K .......... .......... .......... .......... .......... 62% 1.90M 4s\n",
      " 12000K .......... .......... .......... .......... .......... 62% 1.92M 4s\n",
      " 12050K .......... .......... .......... .......... .......... 62% 1.91M 4s\n",
      " 12100K .......... .......... .......... .......... .......... 63% 1.94M 4s\n",
      " 12150K .......... .......... .......... .......... .......... 63% 1.93M 4s\n",
      " 12200K .......... .......... .......... .......... .......... 63% 1.92M 4s\n",
      " 12250K .......... .......... .......... .......... .......... 63% 1.92M 4s\n",
      " 12300K .......... .......... .......... .......... .......... 64% 1.92M 4s\n",
      " 12350K .......... .......... .......... .......... .......... 64% 1005K 4s\n",
      " 12400K .......... .......... .......... .......... .......... 64% 1.92M 4s\n",
      " 12450K .......... .......... .......... .......... .......... 65% 1.90M 4s\n",
      " 12500K .......... .......... .......... .......... .......... 65% 1.92M 4s\n",
      " 12550K .......... .......... .......... .......... .......... 65% 1.92M 4s\n",
      " 12600K .......... .......... .......... .......... .......... 65% 1.92M 4s\n",
      " 12650K .......... .......... .......... .......... .......... 66% 1.90M 4s\n",
      " 12700K .......... .......... .......... .......... .......... 66% 1.92M 4s\n",
      " 12750K .......... .......... .......... .......... .......... 66% 1.72M 4s\n",
      " 12800K .......... .......... .......... .......... .......... 66% 1.94M 4s\n",
      " 12850K .......... .......... .......... .......... .......... 67% 1.93M 4s\n",
      " 12900K .......... .......... .......... .......... .......... 67% 1.81M 4s\n",
      " 12950K .......... .......... .......... .......... .......... 67% 1.92M 4s\n",
      " 13000K .......... .......... .......... .......... .......... 67% 1.93M 4s\n",
      " 13050K .......... .......... .......... .......... .......... 68%  465K 4s\n",
      " 13100K .......... .......... .......... .......... .......... 68% 1.92M 4s\n",
      " 13150K .......... .......... .......... .......... .......... 68% 1.93M 4s\n",
      " 13200K .......... .......... .......... .......... .......... 68% 1.87M 4s\n",
      " 13250K .......... .......... .......... .......... .......... 69% 1.92M 4s\n",
      " 13300K .......... .......... .......... .......... .......... 69% 1.95M 4s\n",
      " 13350K .......... .......... .......... .......... .......... 69% 1.92M 4s\n",
      " 13400K .......... .......... .......... .......... .......... 69% 1.92M 4s\n",
      " 13450K .......... .......... .......... .......... .......... 70% 1.93M 4s\n",
      " 13500K .......... .......... .......... .......... .......... 70% 1.93M 3s\n",
      " 13550K .......... .......... .......... .......... .......... 70% 1019K 3s\n",
      " 13600K .......... .......... .......... .......... .......... 71% 1.91M 3s\n",
      " 13650K .......... .......... .......... .......... .......... 71% 1.93M 3s\n",
      " 13700K .......... .......... .......... .......... .......... 71% 1.93M 3s\n",
      " 13750K .......... .......... .......... .......... .......... 71% 1.91M 3s\n",
      " 13800K .......... .......... .......... .......... .......... 72% 1.92M 3s\n",
      " 13850K .......... .......... .......... .......... .......... 72% 1.91M 3s\n",
      " 13900K .......... .......... .......... .......... .......... 72% 1.92M 3s\n",
      " 13950K .......... .......... .......... .......... .......... 72% 1.88M 3s\n",
      " 14000K .......... .......... .......... .......... .......... 73% 1.92M 3s\n",
      " 14050K .......... .......... .......... .......... .......... 73% 1.92M 3s\n",
      " 14100K .......... .......... .......... .......... .......... 73% 1.92M 3s\n",
      " 14150K .......... .......... .......... .......... .......... 73% 1.93M 3s\n",
      " 14200K .......... .......... .......... .......... .......... 74% 1.94M 3s\n",
      " 14250K .......... .......... .......... .......... .......... 74% 1.93M 3s\n",
      " 14300K .......... .......... .......... .......... .......... 74% 1.92M 3s\n",
      " 14350K .......... .......... .......... .......... .......... 74% 1.90M 3s\n",
      " 14400K .......... .......... .......... .......... .......... 75% 1.93M 3s\n",
      " 14450K .......... .......... .......... .......... .......... 75% 1.92M 3s\n",
      " 14500K .......... .......... .......... .......... .......... 75% 1.92M 3s\n",
      " 14550K .......... .......... .......... .......... .......... 75% 1.93M 3s\n",
      " 14600K .......... .......... .......... .......... .......... 76% 1.93M 3s\n",
      " 14650K .......... .......... .......... .......... .......... 76% 1.93M 3s\n",
      " 14700K .......... .......... .......... .......... .......... 76% 1020K 3s\n",
      " 14750K .......... .......... .......... .......... .......... 76% 1.92M 3s\n",
      " 14800K .......... .......... .......... .......... .......... 77% 1.93M 3s\n",
      " 14850K .......... .......... .......... .......... .......... 77% 1.92M 3s\n",
      " 14900K .......... .......... .......... .......... .......... 77% 1.90M 3s\n",
      " 14950K .......... .......... .......... .......... .......... 78% 1.93M 3s\n",
      " 15000K .......... .......... .......... .......... .......... 78% 1.93M 3s\n",
      " 15050K .......... .......... .......... .......... .......... 78% 1.92M 2s\n",
      " 15100K .......... .......... .......... .......... .......... 78% 1.93M 2s\n",
      " 15150K .......... .......... .......... .......... .......... 79% 1.87M 2s\n",
      " 15200K .......... .......... .......... .......... .......... 79% 1.90M 2s\n",
      " 15250K .......... .......... .......... .......... .......... 79% 1.87M 2s\n",
      " 15300K .......... .......... .......... .......... .......... 79% 1.93M 2s\n",
      " 15350K .......... .......... .......... .......... .......... 80% 1.93M 2s\n",
      " 15400K .......... .......... .......... .......... .......... 80% 1.93M 2s\n",
      " 15450K .......... .......... .......... .......... .......... 80% 1.94M 2s\n",
      " 15500K .......... .......... .......... .......... .......... 80% 1.93M 2s\n",
      " 15550K .......... .......... .......... .......... .......... 81% 1.86M 2s\n",
      " 15600K .......... .......... .......... .......... .......... 81% 1.95M 2s\n",
      " 15650K .......... .......... .......... .......... .......... 81% 1.93M 2s\n",
      " 15700K .......... .......... .......... .......... .......... 81% 1.95M 2s\n",
      " 15750K .......... .......... .......... .......... .......... 82% 1.92M 2s\n",
      " 15800K .......... .......... .......... .......... .......... 82% 1.90M 2s\n",
      " 15850K .......... .......... .......... .......... .......... 82% 1.92M 2s\n",
      " 15900K .......... .......... .......... .......... .......... 82% 1.91M 2s\n",
      " 15950K .......... .......... .......... .......... .......... 83% 1.92M 2s\n",
      " 16000K .......... .......... .......... .......... .......... 83% 1.91M 2s\n",
      " 16050K .......... .......... .......... .......... .......... 83% 1.92M 2s\n",
      " 16100K .......... .......... .......... .......... .......... 84% 1.95M 2s\n",
      " 16150K .......... .......... .......... .......... .......... 84% 1.95M 2s\n",
      " 16200K .......... .......... .......... .......... .......... 84% 1.94M 2s\n",
      " 16250K .......... .......... .......... .......... .......... 84% 13.1M 2s\n",
      " 16300K .......... .......... .......... .......... .......... 85% 1.91M 2s\n",
      " 16350K .......... .......... .......... .......... .......... 85% 1.05M 2s\n",
      " 16400K .......... .......... .......... .......... .......... 85% 7.98M 2s\n",
      " 16450K .......... .......... .......... .......... .......... 85% 1.92M 2s\n",
      " 16500K .......... .......... .......... .......... .......... 86% 1.93M 2s\n",
      " 16550K .......... .......... .......... .......... .......... 86% 1.91M 2s\n",
      " 16600K .......... .......... .......... .......... .......... 86% 1.77M 2s\n",
      " 16650K .......... .......... .......... .......... .......... 86% 1.89M 1s\n",
      " 16700K .......... .......... .......... .......... .......... 87% 1.51M 1s\n",
      " 16750K .......... .......... .......... .......... .......... 87% 1.43M 1s\n",
      " 16800K .......... .......... .......... .......... .......... 87% 1.77M 1s\n",
      " 16850K .......... .......... .......... .......... .......... 87% 1.89M 1s\n",
      " 16900K .......... .......... .......... .......... .......... 88% 1.94M 1s\n",
      " 16950K .......... .......... .......... .......... .......... 88% 1.93M 1s\n",
      " 17000K .......... .......... .......... .......... .......... 88% 23.1M 1s\n",
      " 17050K .......... .......... .......... .......... .......... 88% 1.93M 1s\n",
      " 17100K .......... .......... .......... .......... .......... 89% 1.92M 1s\n",
      " 17150K .......... .......... .......... .......... .......... 89% 1.92M 1s\n",
      " 17200K .......... .......... .......... .......... .......... 89% 1.87M 1s\n",
      " 17250K .......... .......... .......... .......... .......... 89% 1.92M 1s\n",
      " 17300K .......... .......... .......... .......... .......... 90% 1.86M 1s\n",
      " 17350K .......... .......... .......... .......... .......... 90% 36.6M 1s\n",
      " 17400K .......... .......... .......... .......... .......... 90% 1.92M 1s\n",
      " 17450K .......... .......... .......... .......... .......... 91% 1.76M 1s\n",
      " 17500K .......... .......... .......... .......... .......... 91% 1.93M 1s\n",
      " 17550K .......... .......... .......... .......... .......... 91% 1.94M 1s\n",
      " 17600K .......... .......... .......... .......... .......... 91% 1.93M 1s\n",
      " 17650K .......... .......... .......... .......... .......... 92% 1.93M 1s\n",
      " 17700K .......... .......... .......... .......... .......... 92% 28.1M 1s\n",
      " 17750K .......... .......... .......... .......... .......... 92% 1.93M 1s\n",
      " 17800K .......... .......... .......... .......... .......... 92% 1.94M 1s\n",
      " 17850K .......... .......... .......... .......... .......... 93% 1.92M 1s\n",
      " 17900K .......... .......... .......... .......... .......... 93%  396K 1s\n",
      " 17950K .......... .......... .......... .......... .......... 93% 1.93M 1s\n",
      " 18000K .......... .......... .......... .......... .......... 93% 1.94M 1s\n",
      " 18050K .......... .......... .......... .......... .......... 94% 1.95M 1s\n",
      " 18100K .......... .......... .......... .......... .......... 94% 28.0M 1s\n",
      " 18150K .......... .......... .......... .......... .......... 94% 1.93M 1s\n",
      " 18200K .......... .......... .......... .......... .......... 94% 1.94M 1s\n",
      " 18250K .......... .......... .......... .......... .......... 95% 1.93M 1s\n",
      " 18300K .......... .......... .......... .......... .......... 95% 1.93M 1s\n",
      " 18350K .......... .......... .......... .......... .......... 95% 1.92M 0s\n",
      " 18400K .......... .......... .......... .......... .......... 95% 1.92M 0s\n",
      " 18450K .......... .......... .......... .......... .......... 96% 1.91M 0s\n",
      " 18500K .......... .......... .......... .......... .......... 96% 1.93M 0s\n",
      " 18550K .......... .......... .......... .......... .......... 96% 31.8M 0s\n",
      " 18600K .......... .......... .......... .......... .......... 97% 1.93M 0s\n",
      " 18650K .......... .......... .......... .......... .......... 97% 1.95M 0s\n",
      " 18700K .......... .......... .......... .......... .......... 97% 1.91M 0s\n",
      " 18750K .......... .......... .......... .......... .......... 97% 1.92M 0s\n",
      " 18800K .......... .......... .......... .......... .......... 98% 1.93M 0s\n",
      " 18850K .......... .......... .......... .......... .......... 98% 28.1M 0s\n",
      " 18900K .......... .......... .......... .......... .......... 98%  398K 0s\n",
      " 18950K .......... .......... .......... .......... .......... 98% 1.94M 0s\n",
      " 19000K .......... .......... .......... .......... .......... 99% 28.3M 0s\n",
      " 19050K .......... .......... .......... .......... .......... 99% 1.93M 0s\n",
      " 19100K .......... .......... .......... .......... .......... 99% 1.95M 0s\n",
      " 19150K .......... .......... .......... .......... .......... 99% 1.93M 0s\n",
      " 19200K .......... .......... ....                            100% 39.7M=11s\n",
      "\n",
      "2018-04-23 10:07:41 (1.67 MB/s) - ‘Silva.seed_v128.tgz’ saved [19686026/19686026]\n",
      "\n"
     ]
    }
   ],
   "source": [
    "%%bash \n",
    "# Remove database if already exsists\n",
    "if [ -d mothur_silva_db ]; then\n",
    "    rm -rf mothur_silva_db\n",
    "fi\n",
    "\n",
    "#if ! [ -d mothur_silva_db ]; then\n",
    "#    mkdir mothur_silva_db\n",
    "#fi\n",
    "\n",
    "mkdir mothur_silva_db\n",
    "cd mothur_silva_db\n",
    "\n",
    "# Download mothur recreatd SEED database release 132.\n",
    "wget https://www.mothur.org/w/images/a/a4/Silva.seed_v128.tgz\n",
    "tar -xvzf Silva.seed_v128.tgz\n",
    "rm Silva.seed_v128.tgz"
   ]
  },
  {
   "cell_type": "code",
   "execution_count": 22,
   "metadata": {
    "collapsed": false
   },
   "outputs": [
    {
     "name": "stdout",
     "output_type": "stream",
     "text": [
      "468\n",
      "100\n",
      "200\n",
      "300\n",
      "400\n",
      "468\n",
      "\n",
      "\n",
      "\n",
      "Length of filtered alignment: 9607\n",
      "Number of columns removed: 40393\n",
      "Length of the original alignment: 50000\n",
      "Number of sequences used to construct filter: 11213\n",
      "\n",
      "Output File Names: \n",
      "silva.filter\n",
      "silva.seed_v128.filter.fasta\n",
      "\n",
      "\n",
      "mothur > quit()\n",
      "\n",
      "Number of sequences post-filter: 11213\n"
     ]
    }
   ],
   "source": [
    "silvaFile = 'silva.seed_v128.align'\n",
    "cmd = 'mothur \"#filter.seqs(vertical=t, fasta={}, processors={})\"'.format(silvaFile, nprocs)\n",
    "!cd mothur_silva_db; $cmd | tail -n 20\n",
    "\n",
    "silvaFileFilt = os.path.splitext(silvaFile)[0] + '.filter.fasta'\n",
    "silvaFileFilt = os.path.join('mothur_silva_db', silvaFileFilt)\n",
    "ret = !grep -c \">\" $silvaFileFilt\n",
    "print ('\\nNumber of sequences post-filter: {}'.format(ret[0]))"
   ]
  },
  {
   "cell_type": "code",
   "execution_count": 23,
   "metadata": {
    "collapsed": false
   },
   "outputs": [
    {
     "name": "stdout",
     "output_type": "stream",
     "text": [
      "185500\r\n",
      "185600\r\n",
      "185700\r\n",
      "185800\r\n",
      "185900\r\n",
      "186000\r\n",
      "186100\r\n",
      "186200\r\n",
      "186300\r\n",
      "186395\r\n",
      "[WARNING]: Some of your sequences generated alignments that eliminated too many bases, a list is provided in pear_merged-2018-03-30.assembled.dmult_maxee1_noN.unique.flip.accnos. If the reverse compliment proved to be better it was reported.\r\n",
      "It took 1571 secs to align 4453274 sequences.\r\n",
      "\r\n",
      "\r\n",
      "Output File Names: \r\n",
      "pear_merged-2018-03-30.assembled.dmult_maxee1_noN.unique.align\r\n",
      "pear_merged-2018-03-30.assembled.dmult_maxee1_noN.unique.align.report\r\n",
      "pear_merged-2018-03-30.assembled.dmult_maxee1_noN.unique.flip.accnos\r\n",
      "\r\n",
      "\r\n",
      "mothur > quit()\r\n",
      "\r\n",
      "\r\n",
      "<<<<<<<<<<<<<<<<<<<<<<<<<<<<<<^>>>>>>>>>>>>>>>>>>>>>>>>>>>>>\r\n",
      "<<<<<<<<<<<<<<<<<<<<<<<<<<<<<<^>>>>>>>>>>>>>>>>>>>>>>>>>>>>>\r\n",
      "<<<<<<<<<<<<<<<<<<<<<<<<<<<<<<^>>>>>>>>>>>>>>>>>>>>>>>>>>>>>\r\n",
      "Detected 1 [WARNING] messages, please review.\r\n",
      "<<<<<<<<<<<<<<<<<<<<<<<<<<<<<<^>>>>>>>>>>>>>>>>>>>>>>>>>>>>>\r\n",
      "<<<<<<<<<<<<<<<<<<<<<<<<<<<<<<^>>>>>>>>>>>>>>>>>>>>>>>>>>>>>\r\n",
      "<<<<<<<<<<<<<<<<<<<<<<<<<<<<<<^>>>>>>>>>>>>>>>>>>>>>>>>>>>>>\r\n"
     ]
    }
   ],
   "source": [
    "# aligning sequences\n",
    "qcFile3a = re.sub('-', '\\-', qcFile3)\n",
    "cmd = 'mothur \"#align.seqs(candidate={}, template={}, processors=24, flip=T)\"'.format(qcFile3a, silvaFileFilt)\n",
    "!$cmd | tail -n 30"
   ]
  },
  {
   "cell_type": "code",
   "execution_count": 24,
   "metadata": {
    "collapsed": false
   },
   "outputs": [
    {
     "name": "stdout",
     "output_type": "stream",
     "text": [
      "-rw-rw-r-- 1 sam sam 40G Apr 23 10:40 pear_merged-2018-03-30.assembled.dmult_maxee1_noN.unique.align\r\n"
     ]
    }
   ],
   "source": [
    "qcFile4 = os.path.splitext(qcFile3)[0] + '.align'\n",
    "!ls -thlc $qcFile4 "
   ]
  },
  {
   "cell_type": "code",
   "execution_count": 25,
   "metadata": {
    "collapsed": false
   },
   "outputs": [
    {
     "name": "stdout",
     "output_type": "stream",
     "text": [
      "184100\r\n",
      "184200\r\n",
      "184300\r\n",
      "184400\r\n",
      "184500\r\n",
      "184600\r\n",
      "184700\r\n",
      "184800\r\n",
      "184900\r\n",
      "185000\r\n",
      "185100\r\n",
      "185200\r\n",
      "185300\r\n",
      "185400\r\n",
      "185500\r\n",
      "185581\r\n",
      "\r\n",
      "\r\n",
      "\r\n",
      "Length of filtered alignment: 1527\r\n",
      "Number of columns removed: 8080\r\n",
      "Length of the original alignment: 9607\r\n",
      "Number of sequences used to construct filter: 4453274\r\n",
      "\r\n",
      "Output File Names: \r\n",
      "pear_merged-2018-03-30.filter\r\n",
      "pear_merged-2018-03-30.assembled.dmult_maxee1_noN.unique.filter.fasta\r\n",
      "\r\n",
      "\r\n",
      "mothur > quit()\r\n"
     ]
    }
   ],
   "source": [
    "# filtering out gap positions in the alignment\n",
    "qcFile4a = re.sub('-', '\\-', qcFile4)\n",
    "cmd = 'mothur \"#filter.seqs(vertical=t, fasta={}, processors={})\"'.format(qcFile4a, nprocs)\n",
    "!$cmd | tail -n 30"
   ]
  },
  {
   "cell_type": "code",
   "execution_count": 26,
   "metadata": {
    "collapsed": false
   },
   "outputs": [
    {
     "name": "stdout",
     "output_type": "stream",
     "text": [
      "-rw-rw-r-- 1 sam sam 6.5G Apr 23 10:43 pear_merged-2018-03-30.assembled.dmult_maxee1_noN.unique.filter.fasta\r\n"
     ]
    }
   ],
   "source": [
    "qcFile5 = os.path.splitext(qcFile3)[0] + '.filter.fasta'\n",
    "!ls -thlc $qcFile5"
   ]
  },
  {
   "cell_type": "code",
   "execution_count": 27,
   "metadata": {
    "collapsed": false
   },
   "outputs": [
    {
     "name": "stdout",
     "output_type": "stream",
     "text": [
      "Using 24 processors.\r\n",
      "\r\n",
      "\t\tStart\tEnd\tNBases\tAmbigs\tPolymer\tNumSeqs\r\n",
      "Minimum:\t0\t0\t0\t0\t1\t1\r\n",
      "2.5%-tile:\t324\t1226\t251\t0\t4\t310818\r\n",
      "25%-tile:\t324\t1226\t253\t0\t4\t3108176\r\n",
      "Median: \t324\t1226\t253\t0\t5\t6216352\r\n",
      "75%-tile:\t324\t1226\t253\t0\t5\t9324528\r\n",
      "97.5%-tile:\t324\t1226\t254\t0\t8\t12121886\r\n",
      "Maximum:\t1527\t1527\t350\t0\t46\t12432703\r\n",
      "Mean:\t326.071\t1218.55\t250.274\t0\t5.07571\r\n",
      "# of unique seqs:\t4453274\r\n",
      "total # of seqs:\t12432703\r\n",
      "\r\n",
      "Output File Names: \r\n",
      "pear_merged-2018-03-30.assembled.dmult_maxee1_noN.unique.filter.summary\r\n",
      "\r\n",
      "It took 24 secs to summarize 12432703 sequences.\r\n",
      "\r\n",
      "mothur > quit()\r\n"
     ]
    }
   ],
   "source": [
    "cmd = 'mothur \"#summary.seqs(fasta={}, processors={}, name={})\"'.format(qcFile5, nprocs, nameFile)\n",
    "!$cmd | tail -n 20"
   ]
  },
  {
   "cell_type": "markdown",
   "metadata": {},
   "source": [
    "## Removing homopolymers (> 8) and screening out sequences that don't align to an amplicon region"
   ]
  },
  {
   "cell_type": "code",
   "execution_count": 28,
   "metadata": {
    "collapsed": false
   },
   "outputs": [
    {
     "name": "stdout",
     "output_type": "stream",
     "text": [
      "Processing sequence: 184000\r\n",
      "Processing sequence: 184100\r\n",
      "Processing sequence: 184200\r\n",
      "Processing sequence: 184300\r\n",
      "Processing sequence: 184400\r\n",
      "Processing sequence: 184500\r\n",
      "Processing sequence: 184600\r\n",
      "Processing sequence: 184700\r\n",
      "Processing sequence: 184800\r\n",
      "Processing sequence: 184900\r\n",
      "Processing sequence: 185000\r\n",
      "Processing sequence: 185100\r\n",
      "Processing sequence: 185200\r\n",
      "Processing sequence: 185300\r\n",
      "Processing sequence: 185400\r\n",
      "Processing sequence: 185500\r\n",
      "Processing sequence: 185600\r\n",
      "Processing sequence: 185700\r\n",
      "Processing sequence: 185723\r\n",
      "\r\n",
      "Output File Names: \r\n",
      "pear_merged-2018-03-30.assembled.dmult_maxee1_noN.unique.filter.good.fasta\r\n",
      "pear_merged-2018-03-30.assembled.dmult_maxee1_noN.unique.filter.bad.accnos\r\n",
      "pear_merged-2018-03-30.assembled.dmult_maxee1_noN.good.names\r\n",
      "group_file.good.txt\r\n",
      "\r\n",
      "\r\n",
      "It took 63 secs to screen 4453274 sequences.\r\n",
      "\r\n",
      "mothur > quit()\r\n"
     ]
    }
   ],
   "source": [
    "cmd = \"\"\"mothur '#screen.seqs(fasta={},\\\n",
    "    processors={},\\\n",
    "    name={},\\\n",
    "    group={},\\\n",
    "    start={},\\\n",
    "    end={},\\\n",
    "    maxhomop=8)'\"\"\".format(qcFile5, nprocs, nameFile, 'group_file.txt', 324, 1226)\n",
    "!$cmd | tail -n 30"
   ]
  },
  {
   "cell_type": "code",
   "execution_count": 29,
   "metadata": {
    "collapsed": false
   },
   "outputs": [
    {
     "name": "stdout",
     "output_type": "stream",
     "text": [
      "Number of sequences post-filter: 4325049\n"
     ]
    }
   ],
   "source": [
    "qcFile6 = os.path.splitext(qcFile5)[0] + '.good.fasta'\n",
    "ret = !grep -c \">\" $qcFile6\n",
    "print ('Number of sequences post-filter: {}'.format(ret[0]))"
   ]
  },
  {
   "cell_type": "code",
   "execution_count": 30,
   "metadata": {
    "collapsed": false
   },
   "outputs": [
    {
     "name": "stdout",
     "output_type": "stream",
     "text": [
      "179900\r\n",
      "180000\r\n",
      "180100\r\n",
      "180200\r\n",
      "180300\r\n",
      "180375\r\n",
      "\r\n",
      "\r\n",
      "\r\n",
      "Length of filtered alignment: 1016\r\n",
      "Number of columns removed: 511\r\n",
      "Length of the original alignment: 1527\r\n",
      "Number of sequences used to construct filter: 4325049\r\n",
      "\r\n",
      "Output File Names: \r\n",
      "pear_merged-2018-03-30.filter\r\n",
      "pear_merged-2018-03-30.assembled.dmult_maxee1_noN.unique.filter.good.filter.fasta\r\n",
      "\r\n",
      "\r\n",
      "mothur > quit()\r\n"
     ]
    }
   ],
   "source": [
    "qcFile6a = re.sub('-', '\\-', qcFile6)\n",
    "cmd = 'mothur \"#filter.seqs(fasta={}, processors={}, vertical=T)\"'.format(qcFile6a, nprocs)\n",
    "!$cmd | tail -n 20"
   ]
  },
  {
   "cell_type": "code",
   "execution_count": 31,
   "metadata": {
    "collapsed": false
   },
   "outputs": [
    {
     "name": "stdout",
     "output_type": "stream",
     "text": [
      "-rw-rw-r-- 1 sam sam 4.2G Apr 23 10:47 pear_merged-2018-03-30.assembled.dmult_maxee1_noN.unique.filter.good.filter.fasta\r\n"
     ]
    }
   ],
   "source": [
    "qcFile7 = os.path.splitext(qcFile6)[0] + '.filter.fasta'\n",
    "!ls -thlc $qcFile7"
   ]
  },
  {
   "cell_type": "markdown",
   "metadata": {},
   "source": [
    "## Deunique seqs"
   ]
  },
  {
   "cell_type": "code",
   "execution_count": null,
   "metadata": {
    "collapsed": false
   },
   "outputs": [
    {
     "name": "stdout",
     "output_type": "stream",
     "text": [
      "mothur v.1.39.5\r\n",
      "Last updated: 3/20/2017\r\n",
      "\r\n",
      "by\r\n",
      "Patrick D. Schloss\r\n",
      "\r\n",
      "Department of Microbiology & Immunology\r\n",
      "University of Michigan\r\n",
      "http://www.mothur.org\r\n",
      "\r\n",
      "When using, please cite:\r\n",
      "Schloss, P.D., et al., Introducing mothur: Open-source, platform-independent, community-supported software for describing and comparing microbial communities. Appl Environ Microbiol, 2009. 75(23):7537-41.\r\n",
      "\r\n",
      "Distributed under the GNU General Public License\r\n",
      "\r\n",
      "Type 'help()' for information on the commands that are available\r\n",
      "\r\n",
      "For questions and analysis support, please visit our forum at https://www.mothur.org/forum\r\n",
      "\r\n",
      "Type 'quit()' to exit program\r\n",
      "\r\n",
      "\r\n",
      "\r\n",
      "mothur > deunique.seqs(fasta=pear_merged-2018-03-30.assembled.dmult_maxee1_noN.unique.filter.good.filter.fasta, name=pear_merged-2018-03-30.assembled.dmult_maxee1_noN.names)\r\n",
      "\r\n",
      "Output File Names: \r\n",
      "pear_merged-2018-03-30.assembled.dmult_maxee1_noN.unique.filter.good.filter.redundant.fasta\r\n",
      "\r\n",
      "\r\n",
      "mothur > quit()\r\n"
     ]
    }
   ],
   "source": [
    "cmd = 'mothur \"#deunique.seqs(fasta={}, name={})\"'.format(qcFile7, nameFile)\n",
    "!$cmd | tail -n 30"
   ]
  },
  {
   "cell_type": "markdown",
   "metadata": {},
   "source": [
    "### Final QC-ed file"
   ]
  },
  {
   "cell_type": "code",
   "execution_count": null,
   "metadata": {
    "collapsed": true
   },
   "outputs": [],
   "source": [
    "qcFile8 = os.path.splitext(qcFile7)[0] + '.redundant.fasta'\n",
    "qcFinal = 'finalQC.fasta'\n",
    "!perl -pe 's/[-.]//g if ! /^>/' $qcFile8 > $qcFinal"
   ]
  },
  {
   "cell_type": "code",
   "execution_count": null,
   "metadata": {
    "collapsed": false
   },
   "outputs": [],
   "source": [
    "cmd = 'mothur \"#summary.seqs(fasta={}, processors={})\"'.format(qcFinal, nprocs)\n",
    "!$cmd | tail -n 20"
   ]
  },
  {
   "cell_type": "code",
   "execution_count": null,
   "metadata": {
    "collapsed": false
   },
   "outputs": [],
   "source": [
    "!head -n 6 $qcFinal"
   ]
  },
  {
   "cell_type": "markdown",
   "metadata": {},
   "source": [
    "## Summary of number of seqs per sample"
   ]
  },
  {
   "cell_type": "code",
   "execution_count": null,
   "metadata": {
    "collapsed": true
   },
   "outputs": [],
   "source": [
    "re1 = re.compile('_[0-9]+$')\n",
    "\n",
    "qcFinalSum = os.path.splitext(qcFinal)[0] + '.summary'\n",
    "\n",
    "samp_count = dict()\n",
    "with open(qcFinalSum, 'r') as inFH:\n",
    "    for line in inFH:\n",
    "        if line.startswith('seqname'):\n",
    "            continue\n",
    "        line = line.rstrip().split('\\t')\n",
    "        line[0] = re.sub(re1, '', line[0])\n",
    "        try:\n",
    "            samp_count[line[0]] += 1\n",
    "        except KeyError:\n",
    "            samp_count[line[0]] = 1"
   ]
  },
  {
   "cell_type": "code",
   "execution_count": null,
   "metadata": {
    "collapsed": false
   },
   "outputs": [],
   "source": [
    "# converting to dataframe\n",
    "df_seq_cnt = pd.DataFrame.from_dict(samp_count, orient='index')\n",
    "df_seq_cnt.index.name = 'Sample'\n",
    "df_seq_cnt.reset_index(inplace=True)\n",
    "df_seq_cnt.columns = ['Sample', 'seq_count']\n",
    "df_seq_cnt"
   ]
  },
  {
   "cell_type": "code",
   "execution_count": 40,
   "metadata": {
    "collapsed": false
   },
   "outputs": [
    {
     "data": {
      "image/png": "[encoded data removed]"
     },
     "metadata": {},
     "output_type": "display_data"
    }
   ],
   "source": [
    "%%R -i df_seq_cnt -w 800 -h 350\n",
    "# plotting all\n",
    "\n",
    "df_seq_cnt$seq_count = as.numeric(df_seq_cnt$seq_count)\n",
    "\n",
    "\n",
    "df_seq_cnt = df_seq_cnt %>% \n",
    "    #mutate(H2O = grepl('_F0$', Sample)) %>%\n",
    "    mutate(rank = min_rank(seq_count)) %>%\n",
    "    arrange(desc(rank))\n",
    "\n",
    "df_seq_cnt$Sample = factor(df_seq_cnt$Sample, levels=df_seq_cnt$Sample)\n",
    "\n",
    "ggplot(df_seq_cnt, aes(Sample, seq_count)) +\n",
    "    geom_bar(stat='identity') +\n",
    "    theme_bw() +\n",
    "    theme(\n",
    "        text = element_text(size=16),\n",
    "        axis.text.x = element_text(angle=45, hjust=1)\n",
    "    )"
   ]
  },
  {
   "cell_type": "code",
   "execution_count": 43,
   "metadata": {
    "collapsed": false
   },
   "outputs": [
    {
     "data": {
      "text/plain": [
       "    Sample seq_count rank\n",
       "154 5-5-RS      4263   29\n",
       "155 5-2-RT      4108   28\n",
       "156 5-4-RS      3946   27\n",
       "157 2-4-RT      3587   26\n",
       "158   M3-1      3180   25\n",
       "159 6-5-BS      3115   24\n",
       "160  6-2-L      2050   23\n",
       "161 4-3-RT      1971   22\n",
       "162   M4-2      1748   21\n",
       "163  6-5-L      1163   20\n",
       "164 5-1-RT       898   19\n",
       "165 5-5-BS       591   18\n",
       "166 3-3-BS       563   17\n",
       "167 5-2-BS       512   16\n",
       "168   F1-2       451   15\n",
       "169   M1-1       343   14\n",
       "170   M4-1       336   13\n",
       "171   F2-2       273   12\n",
       "172   F5-2       258   11\n",
       "173 6-5-RS       251   10\n",
       "174   M3-3       238    9\n",
       "175   M4-3       228    8\n",
       "176   M1-3       214    7\n",
       "177  6-3-F       212    6\n",
       "178 3-4-RS       203    5\n",
       "179   F1-1       157    4\n",
       "180   M2-2       150    3\n",
       "181 6-1-BS       123    2\n",
       "182   F3-3       113    1\n"
      ]
     },
     "metadata": {},
     "output_type": "display_data"
    }
   ],
   "source": [
    "%%R\n",
    "df_seq_cnt[df_seq_cnt$seq_count < 5000,]"
   ]
  },
  {
   "cell_type": "code",
   "execution_count": null,
   "metadata": {
    "collapsed": true
   },
   "outputs": [],
   "source": []
  }
 ],
 "metadata": {
  "anaconda-cloud": {},
  "hide_input": true,
  "kernelspec": {
   "display_name": "Python 3",
   "language": "python",
   "name": "python3"
  },
  "language_info": {
   "codemirror_mode": {
    "name": "ipython",
    "version": 3
   },
   "file_extension": ".py",
   "mimetype": "text/x-python",
   "name": "python",
   "nbconvert_exporter": "python",
   "pygments_lexer": "ipython3",
   "version": "3.6.4"
  },
  "notify_time": "5"
 },
 "nbformat": 4,
 "nbformat_minor": 1
}
