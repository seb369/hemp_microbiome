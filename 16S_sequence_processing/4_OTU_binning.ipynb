{
 "cells": [
  {
   "cell_type": "markdown",
   "metadata": {},
   "source": [
    "# Description\n",
    "\n",
    "* Creating OTUs with usearch \n",
    "* Taxonomy assignment with QIIME using SILVA database version 128.\n",
    "* Filtering out Chloroplasts and Mitochondria with Mothur."
   ]
  },
  {
   "cell_type": "markdown",
   "metadata": {},
   "source": [
    "# Setting variables"
   ]
  },
  {
   "cell_type": "code",
   "execution_count": 18,
   "metadata": {
    "collapsed": true
   },
   "outputs": [],
   "source": [
    "import os\n",
    "\n",
    "workDir = '/home/sam/notebooks/hemp_microbiome/data/16S_OTUs/'\n",
    "qcDir = '/home/sam/notebooks/hemp_microbiome/data/16S_OTUs/'\n",
    "qcFinal = os.path.join(qcDir, 'QC', 'finalQC.fasta')\n",
    "\n",
    "dbDir = '~/databases/SILVA.128/SILVA_128_QIIME_release/'\n",
    "dbSeqs = os.path.join(dbDir, 'rep_set/rep_set_16S_only/97/97_otus_16S.fasta')\n",
    "dbTax = os.path.join(dbDir, 'taxonomy/16S_only/97/consensus_taxonomy_7_levels.txt')\n",
    "\n",
    "nprocs = 20"
   ]
  },
  {
   "cell_type": "markdown",
   "metadata": {},
   "source": [
    "# Init"
   ]
  },
  {
   "cell_type": "code",
   "execution_count": 19,
   "metadata": {
    "collapsed": false
   },
   "outputs": [
    {
     "name": "stdout",
     "output_type": "stream",
     "text": [
      "The rpy2.ipython extension is already loaded. To reload it, use:\n",
      "  %reload_ext rpy2.ipython\n"
     ]
    }
   ],
   "source": [
    "import os\n",
    "import sys\n",
    "import glob\n",
    "import pandas as pd\n",
    "#from cogent.parse.fasta import MinimalFastaParser as parse\n",
    "from Bio import SeqIO\n",
    "%load_ext rpy2.ipython\n",
    "#%load_ext pushnote"
   ]
  },
  {
   "cell_type": "code",
   "execution_count": 20,
   "metadata": {
    "collapsed": false
   },
   "outputs": [],
   "source": [
    "%%R\n",
    "library(ggplot2)\n",
    "library(dplyr)\n",
    "library(tidyr)\n",
    "library(gridExtra)"
   ]
  },
  {
   "cell_type": "code",
   "execution_count": 21,
   "metadata": {
    "collapsed": false
   },
   "outputs": [
    {
     "name": "stdout",
     "output_type": "stream",
     "text": [
      "/home/sam/notebooks/hemp_microbiome/data/16S_OTUs\n"
     ]
    }
   ],
   "source": [
    "if not os.path.isdir(workDir):\n",
    "    os.makedirs(workDir)\n",
    "%cd $workDir"
   ]
  },
  {
   "cell_type": "markdown",
   "metadata": {},
   "source": [
    "### Symlinking qc'ed seq file"
   ]
  },
  {
   "cell_type": "code",
   "execution_count": 22,
   "metadata": {
    "collapsed": false
   },
   "outputs": [],
   "source": [
    "!ln -s $qcFinal ."
   ]
  },
  {
   "cell_type": "code",
   "execution_count": 23,
   "metadata": {
    "collapsed": false
   },
   "outputs": [
    {
     "name": "stdout",
     "output_type": "stream",
     "text": [
      "lrwxrwxrwx 1 sam sam 66 Apr 23 14:49 finalQC.fasta -> /home/sam/notebooks/hemp_microbiome/data/16S_OTUs/QC/finalQC.fasta\r\n"
     ]
    }
   ],
   "source": [
    "qcFinal = os.path.split(qcFinal)[1]\n",
    "!ls -thlc $qcFinal"
   ]
  },
  {
   "cell_type": "markdown",
   "metadata": {},
   "source": [
    "# Just unique sequences"
   ]
  },
  {
   "cell_type": "code",
   "execution_count": 24,
   "metadata": {
    "collapsed": false
   },
   "outputs": [
    {
     "name": "stdout",
     "output_type": "stream",
     "text": [
      "12117000\t4304974\r\n",
      "12118000\t4305862\r\n",
      "12119000\t4306765\r\n",
      "12120000\t4307666\r\n",
      "12121000\t4308559\r\n",
      "12122000\t4309468\r\n",
      "12123000\t4310360\r\n",
      "12124000\t4311269\r\n",
      "12125000\t4312154\r\n",
      "12126000\t4313044\r\n",
      "12127000\t4313936\r\n",
      "12128000\t4314834\r\n",
      "12129000\t4315746\r\n",
      "12130000\t4316694\r\n",
      "12131000\t4317628\r\n",
      "12132000\t4318581\r\n",
      "12133000\t4319531\r\n",
      "12134000\t4320481\r\n",
      "12135000\t4321436\r\n",
      "12136000\t4322386\r\n",
      "12137000\t4323342\r\n",
      "12138000\t4324303\r\n",
      "12138757\t4325049\r\n",
      "\r\n",
      "Output File Names: \r\n",
      "finalQC.names\r\n",
      "finalQC.unique.fasta\r\n",
      "\r\n",
      "\r\n",
      "mothur > quit()\r\n"
     ]
    }
   ],
   "source": [
    "cmd =  'mothur \"#unique.seqs(fasta={})\"'.format(qcFinal)\n",
    "!$cmd | tail -n 30"
   ]
  },
  {
   "cell_type": "code",
   "execution_count": 25,
   "metadata": {
    "collapsed": false
   },
   "outputs": [
    {
     "name": "stdout",
     "output_type": "stream",
     "text": [
      "Number of unique sequences: 4325049\n"
     ]
    }
   ],
   "source": [
    "qcFinalUniq = os.path.splitext(qcFinal)[0] + '.unique.fasta'\n",
    "\n",
    "ret = !grep -c \">\" $qcFinalUniq\n",
    "print ('Number of unique sequences: {}'.format(ret[0]))"
   ]
  },
  {
   "cell_type": "markdown",
   "metadata": {},
   "source": [
    "# Formatting seq names for usearch"
   ]
  },
  {
   "cell_type": "code",
   "execution_count": 26,
   "metadata": {
    "collapsed": true
   },
   "outputs": [],
   "source": [
    "qcFinalName = os.path.splitext(qcFinal)[0] + '.names'\n",
    "\n",
    "counts = {}\n",
    "with open(qcFinalName) as iFH:\n",
    "    for line in iFH:\n",
    "        seedID, seqIDs = line.split(\"\\t\")\n",
    "        count = len(seqIDs.split(\",\"))\n",
    "        counts[seedID] = count "
   ]
  },
  {
   "cell_type": "code",
   "execution_count": 27,
   "metadata": {
    "collapsed": false
   },
   "outputs": [
    {
     "name": "stderr",
     "output_type": "stream",
     "text": [
      "/home/sam/anaconda3/lib/python3.6/site-packages/Bio/Seq.py:345: BiopythonDeprecationWarning: This method is obsolete; please use str(my_seq) instead of my_seq.tostring().\n",
      "  BiopythonDeprecationWarning)\n"
     ]
    }
   ],
   "source": [
    "qcFinalUs = os.path.splitext(qcFinalUniq)[0] + '.usearch_names.fasta'\n",
    "\n",
    "with open(qcFinalUs, 'w') as oFH:\n",
    "    for entry in SeqIO.parse(open(qcFinalUniq),'fasta'):\n",
    "        #n, s = fasta.id, fasta.seq.tostring()\n",
    "        n, s = entry.id, entry.seq.tostring()\n",
    "        if counts[n] > 1:\n",
    "            oFH.write(\">%s;size=%s;\\n%s\\n\"%(n,counts[n],s))\n",
    "        else:\n",
    "            continue"
   ]
  },
  {
   "cell_type": "code",
   "execution_count": 28,
   "metadata": {
    "collapsed": false
   },
   "outputs": [
    {
     "name": "stdout",
     "output_type": "stream",
     "text": [
      ">3-1-RT_77;size=12;\r\n",
      "TCCAGAGGATGCAAGCGTTATCCGGAATTATTGGGCGTAAAGCGTCTGTAGGTGGCTTTTTAAGTCCGCCGTCAAATCCCAGGGCTCAACCCTGGACAGGCGGTGGAAACTACCAAGCTGGAGTACGGTAGGGGCAGAGGGAATTTCCGGTGGAGCGGTGAAATGCGTAGAGATCGGAAAGAACACCAACGGCGAAAGCACTCTGCTGGGCCGACACTGACACTGAGAGACGAAAGCTAGGGGAGCGAATGGG\r\n",
      ">4-3-F_96;size=56;\r\n",
      "TCCGTAGGTGGCAAGCGTTATCCGGAATTATTGGGCGTAAAGCGCGCGCAGGTGGTTTCTTAAGTCTGATGTGAAAGCCCACGGCTCAACCGTGGAGGGTCATTGGAAACTGGGAGACTTGAGTGCAGAAGAGGAAAGTGGAATTCCATGTGTAGCGGTGAAATGCGTAGAGATATGGAGGAACACCAGTGGCGAAGGCGACTTTCTGGTCTGTAACTGACACTGAGGCGCGAAAGCGTGGGGAGCAAACAGG\r\n",
      ">6-1-F_101;size=28;\r\n",
      "TACAGAGGATGCAAGCGTTATCCGGAATGCTTGGGCGTAACGCGTCTGTAGGTGGCTTTTTAAGTCCGCCGTCAAATCCCAGGGCTCAACCCTGGACAGGCGGTGGAAACTACCAAGCTGGAGTACGGTAGGGGCAGAGGGAATTTCCGGTGGAGCGGTGAAATGCGTAGAGATCGGAAAGAACACCAACGGCGAAAGCACTCTGCTGGGCCGACACTGACACTGAGAGACGAAAGCTAGGGGAGCGAATGGG\r\n"
     ]
    }
   ],
   "source": [
    "#!cd $workDir; \\\n",
    "!head -n 6 $qcFinalUs"
   ]
  },
  {
   "cell_type": "markdown",
   "metadata": {},
   "source": [
    "# Usearch pipeline"
   ]
  },
  {
   "cell_type": "code",
   "execution_count": 29,
   "metadata": {
    "collapsed": false
   },
   "outputs": [
    {
     "name": "stdout",
     "output_type": "stream",
     "text": [
      "usearch v9.2.64_i86linux32, 4.0Gb RAM (132Gb total), 40 cores\n",
      "(C) Copyright 2013-16 Robert C. Edgar, all rights reserved.\n",
      "http://drive5.com/usearch\n",
      "\n",
      "License: seb369@cornell.edu\n",
      "\n",
      "00:02 226Mb   100.0% Reading finalQC.unique.usearch_names.fasta\n",
      "00:02 193Mb  Getting sizes                                     \n",
      "00:02 198Mb  Sorting 609200 sequences\n",
      "00:04 200Mb   100.0% Writing output\n"
     ]
    }
   ],
   "source": [
    "qcFinalUsSort = os.path.splitext(qcFinalUs)[0] + '_sorted.fasta'\n",
    "cmd = 'usearch -sortbysize {} -fastaout {} -minsize 2'.format(qcFinalUs, qcFinalUsSort)\n",
    "!$cmd "
   ]
  },
  {
   "cell_type": "code",
   "execution_count": 30,
   "metadata": {
    "collapsed": false
   },
   "outputs": [
    {
     "name": "stdout",
     "output_type": "stream",
     "text": [
      ">4-1-F_111;size=1829729;\n",
      "TACAGAGGATGCAAGCGTTATCCGGAATGATTGGGCGTAAAGCGTCTGTAGGTGGCTTTTTAAGTCCGCCGTCAAATCCC\n",
      "AGGGCTCAACCCTGGACAGGCGGTGGAAACTACCAAGCTGGAGTACGGTAGGGGCAGAGGGAATTTCCGGTGGAGCGGTG\n",
      "AAATGCGTAGAGATCGGAAAGAACACCAACGGCGAAAGCACTCTGCTGGGCCGACACTGACACTGAGAGACGAAAGCTAG\n",
      "GGGAGCGAATGGG\n",
      ">5-5-RT_650;size=623452;\n",
      "GACGGGGGGGGCAAGTGTTCTTCGGAATGACTGGGCGTAAAGGGCACGTAGGCGGTGAATCGGGTTGAAAGTGAAAGTCG\n",
      "CCAAAAACTGGTGGAATGCTCTCGAAACCAATTCACTTGAGTGAGACAGAGGAGAGTGGAATTTCGTGTGTAGGGGTGAA\n",
      "ATCCGGAGATCTACGAAGGAACGCCAAAAGCGAAGGCAGCTCTCTGGGTCCCTACCGACGCTGGAGTGCGAAAGCATGGG\n",
      "GAGCGAACGGG\n",
      "\n",
      ">3-2-RT_4113442;size=2;\n",
      "TACGTAGGGTGCGAGCGTTGTCCGGAATTATTGGGCGTAAAGAGCTTGTAGGTGGCTCGTTGCGTCGGGAGTGAAAACCC\n",
      "GTGGCTTAACCACGGGACTGCTTCCGATACGGGCGAGCTAGAGTTCGGCAGGGGAGACTGGAATTCCTGGTGTAGCGGTG\n",
      "GAATGCGCAGATATCAGGAGGAACACCGGTGGCGAAGGCGGTTCTCTGGTCCGGTACTGACGCTGAGGTGCGAAAGCGTG\n",
      "GGGAGCAAACAGG\n",
      ">3-4-BS_4113452;size=2;\n",
      "GACGAACCGAGCGAACGTTGTTCGGAATCACTGGGCTTAAAGGGCGCGTAGGCGGGTCAGCAAGTCCGGGGTGAAATCTT\n",
      "TCGGCTCAACCGGAAAAGTGCCTTGGATACTGCTGATCTGGAGGGAGGTAGGGGCAGCTGGAACTTCCGGTGGAGCGGTG\n",
      "AAATGCGTTGATATCGGAAGGAACTCCGGTGGCGAAGGCGAGCTGCTGGACCTCTTCTGACGCTGAGGAACGAAAGCTAG\n",
      "GGGAGCAAACGGG\n"
     ]
    }
   ],
   "source": [
    "!head $qcFinalUsSort\n",
    "!echo \n",
    "!tail $qcFinalUsSort"
   ]
  },
  {
   "cell_type": "code",
   "execution_count": 31,
   "metadata": {
    "collapsed": false
   },
   "outputs": [
    {
     "name": "stdout",
     "output_type": "stream",
     "text": [
      "usearch v9.2.64_i86linux32, 4.0Gb RAM (132Gb total), 40 cores\n",
      "(C) Copyright 2013-16 Robert C. Edgar, all rights reserved.\n",
      "http://drive5.com/usearch\n",
      "\n",
      "License: seb369@cornell.edu\n",
      "\n",
      "20:28 305Mb   100.0% 16604 OTUs, 144170 chimeras, 107803 chimeras\n"
     ]
    }
   ],
   "source": [
    "otuFile = 'otus.fasta'\n",
    "cmd = 'usearch -cluster_otus {} -otus {}'.format(qcFinalUsSort, otuFile)\n",
    "!$cmd "
   ]
  },
  {
   "cell_type": "code",
   "execution_count": 32,
   "metadata": {
    "collapsed": true
   },
   "outputs": [],
   "source": [
    "otuFileRn = os.path.splitext(otuFile)[0] + 'n.fasta'"
   ]
  },
  {
   "cell_type": "code",
   "execution_count": 33,
   "metadata": {
    "collapsed": true
   },
   "outputs": [],
   "source": [
    "%%bash -s \"$otuFile\" \"$otuFileRn\"\n",
    "\n",
    " bioawk -c fastx '{print \">\" \"OTU\" \".\" NR \"\\n\" $seq}' $1 > $2"
   ]
  },
  {
   "cell_type": "code",
   "execution_count": 35,
   "metadata": {
    "collapsed": false
   },
   "outputs": [
    {
     "name": "stdout",
     "output_type": "stream",
     "text": [
      ">OTU.1\r\n",
      "TACAGAGGATGCAAGCGTTATCCGGAATGATTGGGCGTAAAGCGTCTGTAGGTGGCTTTTTAAGTCCGCCGTCAAATCCCAGGGCTCAACCCTGGACAGGCGGTGGAAACTACCAAGCTGGAGTACGGTAGGGGCAGAGGGAATTTCCGGTGGAGCGGTGAAATGCGTAGAGATCGGAAAGAACACCAACGGCGAAAGCACTCTGCTGGGCCGACACTGACACTGAGAGACGAAAGCTAGGGGAGCGAATGGG\r\n",
      ">OTU.2\r\n",
      "GACGGGGGGGGCAAGTGTTCTTCGGAATGACTGGGCGTAAAGGGCACGTAGGCGGTGAATCGGGTTGAAAGTGAAAGTCGCCAAAAACTGGTGGAATGCTCTCGAAACCAATTCACTTGAGTGAGACAGAGGAGAGTGGAATTTCGTGTGTAGGGGTGAAATCCGGAGATCTACGAAGGAACGCCAAAAGCGAAGGCAGCTCTCTGGGTCCCTACCGACGCTGGAGTGCGAAAGCATGGGGAGCGAACGGG\r\n"
     ]
    }
   ],
   "source": [
    "!head -n 4 $otuFileRn"
   ]
  },
  {
   "cell_type": "markdown",
   "metadata": {},
   "source": [
    "### Assigning taxonomy"
   ]
  },
  {
   "cell_type": "code",
   "execution_count": 36,
   "metadata": {
    "collapsed": true
   },
   "outputs": [],
   "source": [
    "otuFileTax = os.path.splitext(otuFileRn)[0] + '_tax'\n",
    "!assign_taxonomy.py -r $dbSeqs -t $dbTax -i $otuFileRn -o $otuFileTax"
   ]
  },
  {
   "cell_type": "markdown",
   "metadata": {},
   "source": [
    "### Removing Chloroplast, Eukaryal and mitochodria sequences"
   ]
  },
  {
   "cell_type": "code",
   "execution_count": 37,
   "metadata": {
    "collapsed": true
   },
   "outputs": [],
   "source": [
    "otuTax = os.path.join(otuFileTax, 'otusn_tax_assignments.txt')\n",
    "\n",
    "to_rm = 'Chloroplast|Eukaryota|Unassigned|Mitochondria'\n",
    "to_rm_file = 'to_remove_tax.accnos'\n",
    "\n",
    "awk_cmd = '{print \\$1}'\n",
    "cmd = 'egrep \"{}\" {} | awk \"{}\" > {}'.format(to_rm, otuTax, awk_cmd, to_rm_file)\n",
    "!$cmd"
   ]
  },
  {
   "cell_type": "code",
   "execution_count": 38,
   "metadata": {
    "collapsed": false
   },
   "outputs": [
    {
     "name": "stdout",
     "output_type": "stream",
     "text": [
      "Number of lines: 1491 to_remove_tax.accnos\n",
      "OTU.11583\r\n",
      "OTU.11581\r\n",
      "OTU.5688\r\n",
      "OTU.1960\r\n",
      "OTU.13285\r\n",
      "OTU.13284\r\n",
      "OTU.12137\r\n",
      "OTU.5060\r\n",
      "OTU.13752\r\n",
      "OTU.7833\r\n"
     ]
    }
   ],
   "source": [
    "ret = !wc -l $to_rm_file\n",
    "print ('Number of lines: {}'.format(ret[0]))\n",
    "!head $to_rm_file"
   ]
  },
  {
   "cell_type": "code",
   "execution_count": 39,
   "metadata": {
    "collapsed": false
   },
   "outputs": [
    {
     "name": "stdout",
     "output_type": "stream",
     "text": [
      "Last updated: 3/20/2017\r\n",
      "\r\n",
      "by\r\n",
      "Patrick D. Schloss\r\n",
      "\r\n",
      "Department of Microbiology & Immunology\r\n",
      "University of Michigan\r\n",
      "http://www.mothur.org\r\n",
      "\r\n",
      "When using, please cite:\r\n",
      "Schloss, P.D., et al., Introducing mothur: Open-source, platform-independent, community-supported software for describing and comparing microbial communities. Appl Environ Microbiol, 2009. 75(23):7537-41.\r\n",
      "\r\n",
      "Distributed under the GNU General Public License\r\n",
      "\r\n",
      "Type 'help()' for information on the commands that are available\r\n",
      "\r\n",
      "For questions and analysis support, please visit our forum at https://www.mothur.org/forum\r\n",
      "\r\n",
      "Type 'quit()' to exit program\r\n",
      "\r\n",
      "\r\n",
      "\r\n",
      "mothur > remove.seqs(fasta=otusn.fasta, accnos=to_remove_tax.accnos)\r\n",
      "Removed 1491 sequences from your fasta file.\r\n",
      "\r\n",
      "Output File Names: \r\n",
      "otusn.pick.fasta\r\n",
      "\r\n",
      "\r\n",
      "mothur > quit()\r\n"
     ]
    }
   ],
   "source": [
    "cmd = 'mothur \"#remove.seqs(fasta={}, accnos={})\"'.format(otuFileRn, to_rm_file)\n",
    "!$cmd | tail -n 30"
   ]
  },
  {
   "cell_type": "code",
   "execution_count": 41,
   "metadata": {
    "collapsed": false
   },
   "outputs": [
    {
     "name": "stdout",
     "output_type": "stream",
     "text": [
      "Pre-filter: number of sequences: 16604\n",
      "Post-filter: number of sequences: 15113\n"
     ]
    }
   ],
   "source": [
    "otuFilePick = os.path.splitext(otuFileRn)[0] + '.pick.fasta'\n",
    "\n",
    "ret = !grep -c \">\" $otuFileRn\n",
    "print ('Pre-filter: number of sequences: {}'.format(ret[0]))\n",
    "\n",
    "ret = !grep -c \">\" $otuFilePick\n",
    "print ('Post-filter: number of sequences: {}'.format(ret[0]))"
   ]
  },
  {
   "cell_type": "markdown",
   "metadata": {},
   "source": [
    "# Mapping reads"
   ]
  },
  {
   "cell_type": "code",
   "execution_count": 42,
   "metadata": {
    "collapsed": true
   },
   "outputs": [],
   "source": [
    "cmd_perl = 's/^>(.+)(_[^_]+)\\n\\$/>\\$1\\$2\\_\\$.;barcodelabel=\\$1\\n/' \n",
    "\n",
    "seqFile = os.path.splitext(qcFinal)[0] + '_usearchfmt.fasta'\n",
    "\n",
    "cmd = 'perl -pe \"{}\" {} > {}'.format(cmd_perl, qcFinal, seqFile)\n",
    "!$cmd"
   ]
  },
  {
   "cell_type": "code",
   "execution_count": 43,
   "metadata": {
    "collapsed": false
   },
   "outputs": [
    {
     "name": "stdout",
     "output_type": "stream",
     "text": [
      ">2-1-RS_1_1;barcodelabel=2-1-RS\r\n",
      "TCCGTCGGCTGCCCGCGTTGTCCGGAATTCTTGGGCGTAAAGGGCTCGTAGGCGGTTTGTCCCGTCCGGAGTGAAAACTCAGGGCTTAACCCTGACCCTGCTTCCGATACGGGCAGACTAGAGGTATGCAGGGGAGAACGGAATTCCTGGTGTAGCGGTGAAATGCGCAGATATCAGGAGGAACACCGGTGGCGAAGGCGGTTCTCTGGGCATTACCTGACGCTGAGGAGCGAAAGAGTGGGGAGCGAACAGG\r\n",
      ">2-5-RT_3_3;barcodelabel=2-5-RT\r\n",
      "TCCCGCGGTTGCACGCGTTATCCGGAATGATTGGGCGTAAAGCGTCTGTAGGTGGCTTTTTAAGTCCGCCGTCAAATCCCAGGGCTCAACCCTGGACAGGCTGTGGAAACTACCAAGCTGGAGTACGGTAGCGGCAGAGGGAATTTCCGGTGTAGCGGTGAAATGCGTAGATATCGGAAAGAACACCAACGGCGAAAGCACTCTGCTGGGCCGACACTGACACTGAGAGACGAAAGCTAGGGGAGCGAATGGG\r\n",
      ">3-1-RT_4_5;barcodelabel=3-1-RT\r\n",
      "TCCCTCGGCTCCACGCGTTGTTCGGCATTACTGGGCGTCAAGCGCACGTAGGCGGCTATTCAAGTCTGCGGTGAAAGCCCGGGGCTCAACCCCGGAACTGCCCTCGAAACTAGGTAGCTAGAATCTTGGAGAGGTCAGTGGAATTCCGAGTGTAGAGGTGAAATTCGTAGATATTCGGAAGAACACCAGTGGCGAAGGCGACTGACTGGACAAGTAATGACGCTGAGGTGCGAAAGCGAGGGGAGCAAACAGG\r\n"
     ]
    }
   ],
   "source": [
    "!head -n 6 $seqFile"
   ]
  },
  {
   "cell_type": "code",
   "execution_count": 44,
   "metadata": {
    "collapsed": false
   },
   "outputs": [
    {
     "name": "stdout",
     "output_type": "stream",
     "text": [
      "3.4G\tfinalQC_usearchfmt.fasta\r\n"
     ]
    }
   ],
   "source": [
    "#see how many Gb this file is.\n",
    "!du -h $seqFile"
   ]
  },
  {
   "cell_type": "code",
   "execution_count": 45,
   "metadata": {
    "collapsed": false
   },
   "outputs": [
    {
     "name": "stdout",
     "output_type": "stream",
     "text": [
      "creating new files:\r\n",
      "finalQC_usearchfmt.0.fasta\r\n",
      "finalQC_usearchfmt.1.fasta\r\n",
      "finalQC_usearchfmt.2.fasta\r\n",
      "finalQC_usearchfmt.3.fasta\r\n",
      "finalQC_usearchfmt.4.fasta\r\n"
     ]
    }
   ],
   "source": [
    "#spliting file because it is too big\n",
    "!pyfasta split -n 5 $seqFile\n"
   ]
  },
  {
   "cell_type": "code",
   "execution_count": 46,
   "metadata": {
    "collapsed": false
   },
   "outputs": [
    {
     "data": {
      "text/plain": [
       "['/home/sam/notebooks/hemp_microbiome/data/16S_OTUs/QC/finalQC_usearchfmt.4.fasta',\n",
       " '/home/sam/notebooks/hemp_microbiome/data/16S_OTUs/QC/finalQC_usearchfmt.3.fasta',\n",
       " '/home/sam/notebooks/hemp_microbiome/data/16S_OTUs/QC/finalQC_usearchfmt.1.fasta',\n",
       " '/home/sam/notebooks/hemp_microbiome/data/16S_OTUs/QC/finalQC_usearchfmt.2.fasta',\n",
       " '/home/sam/notebooks/hemp_microbiome/data/16S_OTUs/QC/finalQC_usearchfmt.0.fasta']"
      ]
     },
     "execution_count": 46,
     "metadata": {},
     "output_type": "execute_result"
    }
   ],
   "source": [
    "g = os.path.join(workDir+\"QC\", 'finalQC_usearchfmt.*.fasta')\n",
    "fileList = glob.glob(g)\n",
    "fileList "
   ]
  },
  {
   "cell_type": "code",
   "execution_count": 47,
   "metadata": {
    "collapsed": false
   },
   "outputs": [
    {
     "name": "stdout",
     "output_type": "stream",
     "text": [
      "usearch v9.2.64_i86linux32, 4.0Gb RAM (132Gb total), 40 cores\n",
      "(C) Copyright 2013-16 Robert C. Edgar, all rights reserved.\n",
      "http://drive5.com/usearch\n",
      "\n",
      "License: seb369@cornell.edu\n",
      "\n",
      "00:00 44Mb    100.0% Reading otusn.pick.fasta\n",
      "00:00 11Mb      0.1% Masking (fastnucleo)    \r"
     ]
    },
    {
     "name": "stderr",
     "output_type": "stream",
     "text": [
      "Processing /home/sam/notebooks/hemp_microbiome/data/16S_OTUs/QC/finalQC_usearchfmt.4.fasta\n"
     ]
    },
    {
     "name": "stdout",
     "output_type": "stream",
     "text": [
      "00:00 11Mb    100.0% Masking (fastnucleo)\n",
      "00:00 12Mb    100.0% Word stats          \n",
      "00:00 12Mb    100.0% Alloc rows\n",
      "00:00 26Mb    100.0% Build index\n",
      "00:28 264Mb   100.0% Searching finalQC_usearchfmt.4.fasta, 48.4% matched\n",
      "usearch v9.2.64_i86linux32, 4.0Gb RAM (132Gb total), 40 cores\n",
      "(C) Copyright 2013-16 Robert C. Edgar, all rights reserved.\n",
      "http://drive5.com/usearch\n",
      "\n",
      "License: seb369@cornell.edu\n",
      "\n",
      "00:01 44Mb    100.0% Reading otusn.pick.fasta\n",
      "00:01 11Mb      0.1% Masking (fastnucleo)    \r"
     ]
    },
    {
     "name": "stderr",
     "output_type": "stream",
     "text": [
      "Processing /home/sam/notebooks/hemp_microbiome/data/16S_OTUs/QC/finalQC_usearchfmt.3.fasta\n"
     ]
    },
    {
     "name": "stdout",
     "output_type": "stream",
     "text": [
      "00:01 11Mb    100.0% Masking (fastnucleo)\n",
      "00:01 12Mb    100.0% Word stats          \n",
      "00:01 12Mb    100.0% Alloc rows\n",
      "00:01 26Mb    100.0% Build index\n",
      "00:27 264Mb   100.0% Searching finalQC_usearchfmt.3.fasta, 48.4% matchedarching finalQC_usearchfmt.3.fasta, 50.7% matched\n",
      "usearch v9.2.64_i86linux32, 4.0Gb RAM (132Gb total), 40 cores\n",
      "(C) Copyright 2013-16 Robert C. Edgar, all rights reserved.\n",
      "http://drive5.com/usearch\n",
      "\n",
      "License: seb369@cornell.edu\n",
      "\n",
      "00:00 44Mb    100.0% Reading otusn.pick.fasta\n",
      "00:00 11Mb      0.1% Masking (fastnucleo)    \r"
     ]
    },
    {
     "name": "stderr",
     "output_type": "stream",
     "text": [
      "Processing /home/sam/notebooks/hemp_microbiome/data/16S_OTUs/QC/finalQC_usearchfmt.1.fasta\n"
     ]
    },
    {
     "name": "stdout",
     "output_type": "stream",
     "text": [
      "00:00 11Mb    100.0% Masking (fastnucleo)\n",
      "00:00 12Mb    100.0% Word stats          \n",
      "00:00 12Mb    100.0% Alloc rows\n",
      "00:00 26Mb    100.0% Build index\n",
      "00:28 264Mb   100.0% Searching finalQC_usearchfmt.1.fasta, 48.4% matched\n",
      "usearch v9.2.64_i86linux32, 4.0Gb RAM (132Gb total), 40 cores\n",
      "(C) Copyright 2013-16 Robert C. Edgar, all rights reserved.\n",
      "http://drive5.com/usearch\n",
      "\n",
      "License: seb369@cornell.edu\n",
      "\n",
      "00:00 44Mb    100.0% Reading otusn.pick.fasta\n",
      "00:00 11Mb      0.1% Masking (fastnucleo)    \r"
     ]
    },
    {
     "name": "stderr",
     "output_type": "stream",
     "text": [
      "Processing /home/sam/notebooks/hemp_microbiome/data/16S_OTUs/QC/finalQC_usearchfmt.2.fasta\n"
     ]
    },
    {
     "name": "stdout",
     "output_type": "stream",
     "text": [
      "00:00 11Mb    100.0% Masking (fastnucleo)\n",
      "00:00 12Mb    100.0% Word stats          \n",
      "00:00 12Mb    100.0% Alloc rows\n",
      "00:01 26Mb    100.0% Build index\n",
      "00:28 264Mb   100.0% Searching finalQC_usearchfmt.2.fasta, 48.3% matched\n",
      "usearch v9.2.64_i86linux32, 4.0Gb RAM (132Gb total), 40 cores\n",
      "(C) Copyright 2013-16 Robert C. Edgar, all rights reserved.\n",
      "http://drive5.com/usearch\n",
      "\n",
      "License: seb369@cornell.edu\n",
      "\n",
      "00:00 44Mb    100.0% Reading otusn.pick.fasta\n",
      "00:00 11Mb    100.0% Masking (fastnucleo)    \n",
      "00:00 12Mb      0.1% Word stats          \r"
     ]
    },
    {
     "name": "stderr",
     "output_type": "stream",
     "text": [
      "Processing /home/sam/notebooks/hemp_microbiome/data/16S_OTUs/QC/finalQC_usearchfmt.0.fasta\n"
     ]
    },
    {
     "name": "stdout",
     "output_type": "stream",
     "text": [
      "00:00 12Mb    100.0% Word stats\n",
      "00:00 12Mb    100.0% Alloc rows\n",
      "00:00 26Mb    100.0% Build index\n",
      "00:30 264Mb   100.0% Searching finalQC_usearchfmt.0.fasta, 48.4% matched\n"
     ]
    }
   ],
   "source": [
    "# running usearch on each split file\n",
    "for f in fileList:\n",
    "    sys.stderr.write('Processing {}\\n'.format(f))\n",
    "\n",
    "    ff,_ = os.path.splitext(f)\n",
    "    _,i = os.path.splitext(ff)\n",
    "    uc = 'readmap{}.uc'.format(i.lstrip('.')) \n",
    "\n",
    "    !usearch \\\n",
    "        -usearch_global $f \\\n",
    "        -db $otuFilePick \\\n",
    "        -strand plus -id 0.97 \\\n",
    "        -uc $uc \\\n",
    "        -threads $nprocs"
   ]
  },
  {
   "cell_type": "code",
   "execution_count": 48,
   "metadata": {
    "collapsed": false
   },
   "outputs": [],
   "source": [
    "ucFile = 'readmap.uc'\n",
    "!cat readmap[0-9].uc > $ucFile"
   ]
  },
  {
   "cell_type": "code",
   "execution_count": 49,
   "metadata": {
    "collapsed": false
   },
   "outputs": [
    {
     "name": "stdout",
     "output_type": "stream",
     "text": [
      "readmap.uc 100.0%   \n"
     ]
    }
   ],
   "source": [
    "otu_table_file = 'otu_table.txt'\n",
    "cmd = 'python2 /opt/edgar_python_scripts/uc2otutab.py {} > {}'.format(ucFile, otu_table_file)\n",
    "!$cmd "
   ]
  },
  {
   "cell_type": "code",
   "execution_count": 50,
   "metadata": {
    "collapsed": true
   },
   "outputs": [],
   "source": [
    "# make sure no existing biome file\n",
    "otu_biom_file = 'otu_table.biom'\n",
    "if os.path.isfile(otu_biom_file):\n",
    "    os.unlink(otu_biom_file)\n",
    "    \n",
    "cmd = 'biom convert -i {} -o {} --table-type \"OTU table\" --to-json'.format(otu_table_file, otu_biom_file)\n",
    "!$cmd"
   ]
  },
  {
   "cell_type": "code",
   "execution_count": 51,
   "metadata": {
    "collapsed": true
   },
   "outputs": [],
   "source": [
    "# make sure no existing biome file\n",
    "otu_sum_file = 'otu_table_summary.txt'\n",
    "if os.path.isfile(otu_sum_file):\n",
    "    os.unlink(otu_sum_file)\n",
    "    \n",
    "cmd = 'biom summarize-table -i {} -o {}'.format(otu_biom_file, otu_sum_file)\n",
    "!$cmd"
   ]
  },
  {
   "cell_type": "code",
   "execution_count": 52,
   "metadata": {
    "collapsed": false,
    "scrolled": true
   },
   "outputs": [
    {
     "name": "stdout",
     "output_type": "stream",
     "text": [
      "Num samples: 182\r\n",
      "Num observations: 15089\r\n",
      "Total count: 5902440\r\n",
      "Table density (fraction of non-zero values): 0.087\r\n",
      "\r\n",
      "Counts/sample summary:\r\n",
      " Min: 23.0\r\n",
      " Max: 232833.0\r\n",
      " Median: 26265.000\r\n",
      " Mean: 32430.989\r\n",
      " Std. dev.: 35174.482\r\n",
      " Sample Metadata Categories: None provided\r\n",
      " Observation Metadata Categories: None provided\r\n",
      "\r\n",
      "Counts/sample detail:\r\n",
      "F3-3: 23.0\r\n",
      "M2-2: 33.0\r\n",
      "6-1-BS: 34.0\r\n",
      "F1-1: 38.0\r\n",
      "6-5-RS: 40.0\r\n",
      "F5-2: 43.0\r\n",
      "M3-3: 43.0\r\n",
      "M1-3: 44.0\r\n",
      "M4-3: 49.0\r\n",
      "3-4-RS: 58.0\r\n",
      "F2-2: 63.0\r\n",
      "6-3-F: 66.0\r\n",
      "M4-1: 77.0\r\n",
      "5-2-BS: 91.0\r\n",
      "M1-1: 98.0\r\n",
      "F1-2: 112.0\r\n",
      "3-3-BS: 113.0\r\n",
      "M4-2: 122.0\r\n",
      "5-5-BS: 160.0\r\n",
      "5-1-RT: 341.0\r\n",
      "5-2-RT: 477.0\r\n",
      "6-5-L: 731.0\r\n",
      "4-3-RT: 868.0\r\n",
      "3-3-F: 929.0\r\n",
      "5-1-F: 1244.0\r\n",
      "5-3-F: 1369.0\r\n",
      "M1-2: 1526.0\r\n",
      "F2-3: 1545.0\r\n",
      "6-2-L: 1745.0\r\n",
      "M2-1: 1782.0\r\n",
      "M3-1: 1855.0\r\n",
      "6-5-BS: 2464.0\r\n",
      "4-4-F: 2718.0\r\n",
      "2-4-RT: 2944.0\r\n",
      "3-5-F: 3175.0\r\n",
      "F4-1: 3267.0\r\n",
      "3-5-RT: 3348.0\r\n",
      "5-4-RS: 3409.0\r\n",
      "5-5-RS: 3413.0\r\n",
      "4-5-L: 3785.0\r\n",
      "2-4-L: 4447.0\r\n",
      "5-4-BS: 4710.0\r\n",
      "F4-3: 4950.0\r\n",
      "M3-2: 5393.0\r\n",
      "3-3-L: 5514.0\r\n",
      "5-2-RS: 5612.0\r\n",
      "4-2-F: 6067.0\r\n",
      "6-1-F: 6195.0\r\n",
      "4-1-F: 6784.0\r\n",
      "1-3-RT: 7141.0\r\n",
      "F1-3: 8975.0\r\n",
      "F3-1: 9168.0\r\n",
      "4-3-BS: 9275.0\r\n",
      "F3-2: 9784.0\r\n",
      "4-2-L: 10080.0\r\n",
      "6-2-F: 10634.0\r\n",
      "4-1-L: 10668.0\r\n",
      "5-2-F: 10904.0\r\n",
      "4-1-RT: 11201.0\r\n",
      "2-3-RT: 11894.0\r\n",
      "4-4-L: 13724.0\r\n",
      "1-5-RT: 13813.0\r\n",
      "4-2-RT: 13975.0\r\n",
      "F2-1: 14057.0\r\n",
      "6-3-RT: 14232.0\r\n",
      "3-1-L: 14535.0\r\n",
      "5-4-RT: 15586.0\r\n",
      "M2-3: 15832.0\r\n",
      "5-5-F: 16575.0\r\n",
      "1-4-L: 17150.0\r\n",
      "5-1-L: 17490.0\r\n",
      "1-1-RT: 17495.0\r\n",
      "M5-3: 18496.0\r\n",
      "3-5-L: 18577.0\r\n",
      "F4-2: 19146.0\r\n",
      "1-5-F: 20318.0\r\n",
      "1-5-RS: 20658.0\r\n",
      "M5-2: 20960.0\r\n",
      "2-1-F: 21285.0\r\n",
      "6-5-RT: 21306.0\r\n",
      "4-2-RS: 21795.0\r\n",
      "4-5-F: 22231.0\r\n",
      "4-5-RT: 22994.0\r\n",
      "3-1-BS: 23327.0\r\n",
      "1-4-BS: 23381.0\r\n",
      "extraction_water_control1: 23419.0\r\n",
      "1-3-BS: 23899.0\r\n",
      "1-2-RT: 24519.0\r\n",
      "6-4-F: 25272.0\r\n",
      "2-2-L: 26004.0\r\n",
      "2-2-F: 26094.0\r\n",
      "6-4-BS: 26436.0\r\n",
      "4-3-F: 26507.0\r\n",
      "2-1-L: 26788.0\r\n",
      "4-1-BS: 26880.0\r\n",
      "5-5-RT: 27015.0\r\n",
      "6-2-RS: 27069.0\r\n",
      "2-4-F: 27195.0\r\n",
      "6-4-RS: 27316.0\r\n",
      "5-5-L: 27322.0\r\n",
      "6-3-L: 27395.0\r\n",
      "1-2-F: 27732.0\r\n",
      "6-2-RT: 28035.0\r\n",
      "5-4-L: 28147.0\r\n",
      "extraction_water_control2: 28667.0\r\n",
      "2-1-RT: 28851.0\r\n",
      "1-5-L: 29236.0\r\n",
      "3-4-RT: 29783.0\r\n",
      "6-3-RS: 30146.0\r\n",
      "4-1-RS: 30253.0\r\n",
      "1-2-BS: 30808.0\r\n",
      "3-4-BS: 31229.0\r\n",
      "2-2-RT: 31639.0\r\n",
      "1-4-F: 31962.0\r\n",
      "2-3-RS: 32276.0\r\n",
      "2-1-BS: 32417.0\r\n",
      "5-3-L: 32583.0\r\n",
      "3-1-F: 32902.0\r\n",
      "F5-3: 33189.0\r\n",
      "2-2-BS: 33285.0\r\n",
      "4-5-RS: 33893.0\r\n",
      "2-4-RS: 34186.0\r\n",
      "1-2-RS: 35551.0\r\n",
      "3-5-BS: 35833.0\r\n",
      "4-4-RT: 35882.0\r\n",
      "3-2-F: 36194.0\r\n",
      "2-3-F: 36467.0\r\n",
      "5-1-BS: 36489.0\r\n",
      "F5-1: 36540.0\r\n",
      "2-5-BS: 37328.0\r\n",
      "3-4-F: 38347.0\r\n",
      "1-1-F: 38976.0\r\n",
      "6-4-RT: 39041.0\r\n",
      "2-5-RT: 40448.0\r\n",
      "5-2-L: 40526.0\r\n",
      "1-4-RT: 41061.0\r\n",
      "6-4-L: 43035.0\r\n",
      "1-3-L: 43318.0\r\n",
      "2-3-BS: 43845.0\r\n",
      "3-4-L: 45419.0\r\n",
      "2-2-RS: 45467.0\r\n",
      "5-4-F: 46879.0\r\n",
      "1-4-RS: 47718.0\r\n",
      "3-2-L: 49111.0\r\n",
      "2-4-BS: 49354.0\r\n",
      "2-5-L: 50720.0\r\n",
      "3-1-RT: 51089.0\r\n",
      "6-1-L: 52296.0\r\n",
      "3-2-RT: 53631.0\r\n",
      "4-2-BS: 53987.0\r\n",
      "6-5-F: 54053.0\r\n",
      "4-4-BS: 54758.0\r\n",
      "2-3-L: 55622.0\r\n",
      "5-3-RS: 59480.0\r\n",
      "5-3-RT: 61520.0\r\n",
      "6-1-RT: 62215.0\r\n",
      "6-1-RS: 64116.0\r\n",
      "4-5-BS: 64183.0\r\n",
      "2-5-RS: 64751.0\r\n",
      "5-3-BS: 65681.0\r\n",
      "1-3-F: 65902.0\r\n",
      "1-1-BS: 72890.0\r\n",
      "3-3-RT: 74257.0\r\n",
      "M5-1: 75085.0\r\n",
      "3-2-BS: 77081.0\r\n",
      "1-3-RS: 78334.0\r\n",
      "4-4-RS: 78513.0\r\n",
      "1-1-L: 81133.0\r\n",
      "6-2-BS: 85061.0\r\n",
      "4-3-RS: 96185.0\r\n",
      "1-2-L: 96853.0\r\n",
      "4-3-L: 101919.0\r\n",
      "1-5-BS: 103730.0\r\n",
      "3-1-RS: 105346.0\r\n",
      "3-3-RS: 105963.0\r\n",
      "5-1-RS: 110632.0\r\n",
      "3-2-RS: 123124.0\r\n",
      "2-5-F: 127386.0\r\n",
      "1-1-RS: 150636.0\r\n",
      "3-5-RS: 154951.0\r\n",
      "2-1-RS: 160770.0\r\n",
      "6-3-BS: 232833.0"
     ]
    }
   ],
   "source": [
    "!cat $otu_sum_file "
   ]
  },
  {
   "cell_type": "markdown",
   "metadata": {},
   "source": [
    "# Adding taxonomy"
   ]
  },
  {
   "cell_type": "code",
   "execution_count": 53,
   "metadata": {
    "collapsed": true
   },
   "outputs": [],
   "source": [
    "# make sure no existing biome file\n",
    "otu_biom_tax_file = 'otu_table_wtax.biom'\n",
    "if os.path.isfile(otu_biom_tax_file):\n",
    "    os.unlink(otu_biom_tax_file)\n",
    "    \n",
    "# bio add-metadata\n",
    "cmd = \"\"\"biom add-metadata -i {} -o {} \\\n",
    "    --observation-metadata-fp {} \\\n",
    "    --sc-separated taxonomy \\\n",
    "    --float-fields consensus \\\n",
    "    --int-fields numhits \\\n",
    "    --observation-header OTUID,taxonomy,consensus,numhits\"\"\"\n",
    "cmd = cmd.format(otu_biom_file, otu_biom_tax_file, otuTax)\n",
    "!$cmd"
   ]
  },
  {
   "cell_type": "code",
   "execution_count": 54,
   "metadata": {
    "collapsed": false
   },
   "outputs": [
    {
     "name": "stdout",
     "output_type": "stream",
     "text": [
      "-rw-rw-r-- 1 sam sam 5.8M Apr 23 15:42 otu_table_wtax.biom\r\n"
     ]
    }
   ],
   "source": [
    "!ls -thlc $otu_biom_tax_file"
   ]
  },
  {
   "cell_type": "markdown",
   "metadata": {
    "collapsed": true
   },
   "source": [
    "# Final files"
   ]
  },
  {
   "cell_type": "code",
   "execution_count": 55,
   "metadata": {
    "collapsed": false
   },
   "outputs": [
    {
     "name": "stdout",
     "output_type": "stream",
     "text": [
      "15089\r\n"
     ]
    }
   ],
   "source": [
    "!tail -n +2 $otu_table_file | wc -l | perl -pe 's/ .+//'"
   ]
  },
  {
   "cell_type": "code",
   "execution_count": 56,
   "metadata": {
    "collapsed": false
   },
   "outputs": [
    {
     "name": "stdout",
     "output_type": "stream",
     "text": [
      "OTU table: otu_table.txt\n",
      "OTU pick file: otusn.pick.fasta\n",
      "uclust formatted file: finalQC_usearchfmt.fasta\n"
     ]
    }
   ],
   "source": [
    "print ('OTU table: {}'.format(otu_table_file))\n",
    "print ('OTU pick file: {}'.format(otuFilePick))\n",
    "print ('uclust formatted file: {}'.format(seqFile))"
   ]
  },
  {
   "cell_type": "code",
   "execution_count": 57,
   "metadata": {
    "collapsed": false
   },
   "outputs": [
    {
     "name": "stdout",
     "output_type": "stream",
     "text": [
      "15089\n",
      "15113\n",
      "12138757\n"
     ]
    }
   ],
   "source": [
    "# Number of OTUs\n",
    "!tail -n +2 $otu_table_file | wc -l | perl -pe 's/ .+//'\n",
    "!grep -c \">\" $otuFilePick\n",
    "!grep -c \">\" $seqFile"
   ]
  },
  {
   "cell_type": "code",
   "execution_count": 58,
   "metadata": {
    "collapsed": false
   },
   "outputs": [
    {
     "name": "stdout",
     "output_type": "stream",
     "text": [
      "Total number of samples: 182\r\n"
     ]
    }
   ],
   "source": [
    "# total number of samples\n",
    "sys.stdout.write('Total number of samples: ')\n",
    "!head -n 1 $otu_table_file | perl -pe 's/[^\\t]+\\t//; s/\\t/\\n/g' | wc -l"
   ]
  },
  {
   "cell_type": "code",
   "execution_count": null,
   "metadata": {
    "collapsed": true
   },
   "outputs": [],
   "source": []
  }
 ],
 "metadata": {
  "anaconda-cloud": {},
  "hide_input": true,
  "kernelspec": {
   "display_name": "Python 3",
   "language": "python",
   "name": "python3"
  },
  "language_info": {
   "codemirror_mode": {
    "name": "ipython",
    "version": 3
   },
   "file_extension": ".py",
   "mimetype": "text/x-python",
   "name": "python",
   "nbconvert_exporter": "python",
   "pygments_lexer": "ipython3",
   "version": "3.6.4"
  },
  "notify_time": "5"
 },
 "nbformat": 4,
 "nbformat_minor": 1
}
